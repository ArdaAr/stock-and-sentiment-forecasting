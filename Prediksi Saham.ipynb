{
 "cells": [
  {
   "cell_type": "code",
   "execution_count": 1,
   "id": "d1ad7389",
   "metadata": {},
   "outputs": [],
   "source": [
    "# !pip install pmdarima\n",
    "import pandas as pd\n",
    "import numpy as np\n",
    "import matplotlib.pyplot as plt\n",
    "from matplotlib.figure import Figure\n",
    "import seaborn as sns\n",
    "import plotly.graph_objects as go\n",
    "from plotly.subplots import make_subplots\n",
    "from statsmodels.tsa.arima_model import ARIMA\n",
    "from statsmodels.tsa.stattools import adfuller\n",
    "import pmdarima as pm\n",
    "from pmdarima import auto_arima\n",
    "from statsmodels.tsa.seasonal import seasonal_decompose\n",
    "from sklearn.metrics import mean_squared_error, mean_absolute_error\n",
    "from sklearn.metrics import mean_squared_error,r2_score, mean_absolute_error,mean_squared_log_error\n",
    "from string import digits\n",
    "from sklearn.feature_extraction.text import CountVectorizer\n",
    "from sklearn.preprocessing import StandardScaler\n",
    "from sklearn.neighbors import KNeighborsClassifier\n",
    "# from prophet import Prophet"
   ]
  },
  {
   "cell_type": "code",
   "execution_count": 2,
   "id": "ab50928f",
   "metadata": {},
   "outputs": [
    {
     "data": {
      "text/html": [
       "<div>\n",
       "<style scoped>\n",
       "    .dataframe tbody tr th:only-of-type {\n",
       "        vertical-align: middle;\n",
       "    }\n",
       "\n",
       "    .dataframe tbody tr th {\n",
       "        vertical-align: top;\n",
       "    }\n",
       "\n",
       "    .dataframe thead th {\n",
       "        text-align: right;\n",
       "    }\n",
       "</style>\n",
       "<table border=\"1\" class=\"dataframe\">\n",
       "  <thead>\n",
       "    <tr style=\"text-align: right;\">\n",
       "      <th></th>\n",
       "      <th>Date</th>\n",
       "      <th>Open</th>\n",
       "      <th>High</th>\n",
       "      <th>Low</th>\n",
       "      <th>Close</th>\n",
       "      <th>Adj Close</th>\n",
       "      <th>Volume</th>\n",
       "    </tr>\n",
       "  </thead>\n",
       "  <tbody>\n",
       "    <tr>\n",
       "      <th>0</th>\n",
       "      <td>2021-04-01</td>\n",
       "      <td>6215.0</td>\n",
       "      <td>6270.0</td>\n",
       "      <td>6155.0</td>\n",
       "      <td>6225.0</td>\n",
       "      <td>6026.060547</td>\n",
       "      <td>112286000</td>\n",
       "    </tr>\n",
       "    <tr>\n",
       "      <th>1</th>\n",
       "      <td>2021-04-05</td>\n",
       "      <td>6250.0</td>\n",
       "      <td>6290.0</td>\n",
       "      <td>6155.0</td>\n",
       "      <td>6155.0</td>\n",
       "      <td>5958.297852</td>\n",
       "      <td>73311500</td>\n",
       "    </tr>\n",
       "    <tr>\n",
       "      <th>2</th>\n",
       "      <td>2021-04-06</td>\n",
       "      <td>6135.0</td>\n",
       "      <td>6170.0</td>\n",
       "      <td>6080.0</td>\n",
       "      <td>6165.0</td>\n",
       "      <td>5967.978027</td>\n",
       "      <td>80215000</td>\n",
       "    </tr>\n",
       "    <tr>\n",
       "      <th>3</th>\n",
       "      <td>2021-04-07</td>\n",
       "      <td>6155.0</td>\n",
       "      <td>6275.0</td>\n",
       "      <td>6135.0</td>\n",
       "      <td>6250.0</td>\n",
       "      <td>6050.261719</td>\n",
       "      <td>107908000</td>\n",
       "    </tr>\n",
       "    <tr>\n",
       "      <th>4</th>\n",
       "      <td>2021-04-08</td>\n",
       "      <td>6200.0</td>\n",
       "      <td>6215.0</td>\n",
       "      <td>6125.0</td>\n",
       "      <td>6135.0</td>\n",
       "      <td>6022.187500</td>\n",
       "      <td>123697500</td>\n",
       "    </tr>\n",
       "    <tr>\n",
       "      <th>...</th>\n",
       "      <td>...</td>\n",
       "      <td>...</td>\n",
       "      <td>...</td>\n",
       "      <td>...</td>\n",
       "      <td>...</td>\n",
       "      <td>...</td>\n",
       "      <td>...</td>\n",
       "    </tr>\n",
       "    <tr>\n",
       "      <th>243</th>\n",
       "      <td>2022-03-28</td>\n",
       "      <td>7825.0</td>\n",
       "      <td>7900.0</td>\n",
       "      <td>7800.0</td>\n",
       "      <td>7900.0</td>\n",
       "      <td>7900.000000</td>\n",
       "      <td>83911500</td>\n",
       "    </tr>\n",
       "    <tr>\n",
       "      <th>244</th>\n",
       "      <td>2022-03-29</td>\n",
       "      <td>7875.0</td>\n",
       "      <td>7900.0</td>\n",
       "      <td>7825.0</td>\n",
       "      <td>7850.0</td>\n",
       "      <td>7850.000000</td>\n",
       "      <td>62180600</td>\n",
       "    </tr>\n",
       "    <tr>\n",
       "      <th>245</th>\n",
       "      <td>2022-03-30</td>\n",
       "      <td>7900.0</td>\n",
       "      <td>7900.0</td>\n",
       "      <td>7825.0</td>\n",
       "      <td>7875.0</td>\n",
       "      <td>7875.000000</td>\n",
       "      <td>71430600</td>\n",
       "    </tr>\n",
       "    <tr>\n",
       "      <th>246</th>\n",
       "      <td>2022-03-31</td>\n",
       "      <td>7925.0</td>\n",
       "      <td>8000.0</td>\n",
       "      <td>7875.0</td>\n",
       "      <td>7975.0</td>\n",
       "      <td>7975.000000</td>\n",
       "      <td>112691900</td>\n",
       "    </tr>\n",
       "    <tr>\n",
       "      <th>247</th>\n",
       "      <td>2022-04-01</td>\n",
       "      <td>8075.0</td>\n",
       "      <td>8075.0</td>\n",
       "      <td>7850.0</td>\n",
       "      <td>7850.0</td>\n",
       "      <td>7850.000000</td>\n",
       "      <td>54491800</td>\n",
       "    </tr>\n",
       "  </tbody>\n",
       "</table>\n",
       "<p>248 rows × 7 columns</p>\n",
       "</div>"
      ],
      "text/plain": [
       "           Date    Open    High     Low   Close    Adj Close     Volume\n",
       "0    2021-04-01  6215.0  6270.0  6155.0  6225.0  6026.060547  112286000\n",
       "1    2021-04-05  6250.0  6290.0  6155.0  6155.0  5958.297852   73311500\n",
       "2    2021-04-06  6135.0  6170.0  6080.0  6165.0  5967.978027   80215000\n",
       "3    2021-04-07  6155.0  6275.0  6135.0  6250.0  6050.261719  107908000\n",
       "4    2021-04-08  6200.0  6215.0  6125.0  6135.0  6022.187500  123697500\n",
       "..          ...     ...     ...     ...     ...          ...        ...\n",
       "243  2022-03-28  7825.0  7900.0  7800.0  7900.0  7900.000000   83911500\n",
       "244  2022-03-29  7875.0  7900.0  7825.0  7850.0  7850.000000   62180600\n",
       "245  2022-03-30  7900.0  7900.0  7825.0  7875.0  7875.000000   71430600\n",
       "246  2022-03-31  7925.0  8000.0  7875.0  7975.0  7975.000000  112691900\n",
       "247  2022-04-01  8075.0  8075.0  7850.0  7850.0  7850.000000   54491800\n",
       "\n",
       "[248 rows x 7 columns]"
      ]
     },
     "execution_count": 2,
     "metadata": {},
     "output_type": "execute_result"
    }
   ],
   "source": [
    "df_saham = pd.read_csv('data/BBCA.JK.csv')\n",
    "df_saham"
   ]
  },
  {
   "cell_type": "code",
   "execution_count": 5,
   "id": "1b06551e",
   "metadata": {
    "collapsed": true
   },
   "outputs": [
    {
     "data": {
      "text/html": [
       "<div>\n",
       "<style scoped>\n",
       "    .dataframe tbody tr th:only-of-type {\n",
       "        vertical-align: middle;\n",
       "    }\n",
       "\n",
       "    .dataframe tbody tr th {\n",
       "        vertical-align: top;\n",
       "    }\n",
       "\n",
       "    .dataframe thead th {\n",
       "        text-align: right;\n",
       "    }\n",
       "</style>\n",
       "<table border=\"1\" class=\"dataframe\">\n",
       "  <thead>\n",
       "    <tr style=\"text-align: right;\">\n",
       "      <th></th>\n",
       "      <th>Date</th>\n",
       "      <th>Open</th>\n",
       "      <th>High</th>\n",
       "      <th>Low</th>\n",
       "      <th>Close</th>\n",
       "      <th>Adj Close</th>\n",
       "      <th>Volume</th>\n",
       "    </tr>\n",
       "  </thead>\n",
       "  <tbody>\n",
       "    <tr>\n",
       "      <th>158</th>\n",
       "      <td>2021-11-23</td>\n",
       "      <td>7400.0</td>\n",
       "      <td>7500.0</td>\n",
       "      <td>7400.0</td>\n",
       "      <td>7475.0</td>\n",
       "      <td>7362.169922</td>\n",
       "      <td>43477500</td>\n",
       "    </tr>\n",
       "    <tr>\n",
       "      <th>159</th>\n",
       "      <td>2021-11-24</td>\n",
       "      <td>7575.0</td>\n",
       "      <td>7575.0</td>\n",
       "      <td>7425.0</td>\n",
       "      <td>7475.0</td>\n",
       "      <td>7362.169922</td>\n",
       "      <td>35181400</td>\n",
       "    </tr>\n",
       "    <tr>\n",
       "      <th>160</th>\n",
       "      <td>2021-11-25</td>\n",
       "      <td>7450.0</td>\n",
       "      <td>7525.0</td>\n",
       "      <td>7425.0</td>\n",
       "      <td>7425.0</td>\n",
       "      <td>7312.924316</td>\n",
       "      <td>40216100</td>\n",
       "    </tr>\n",
       "    <tr>\n",
       "      <th>161</th>\n",
       "      <td>2021-11-26</td>\n",
       "      <td>7400.0</td>\n",
       "      <td>7450.0</td>\n",
       "      <td>7250.0</td>\n",
       "      <td>7275.0</td>\n",
       "      <td>7165.188477</td>\n",
       "      <td>113288400</td>\n",
       "    </tr>\n",
       "    <tr>\n",
       "      <th>162</th>\n",
       "      <td>2021-11-29</td>\n",
       "      <td>7275.0</td>\n",
       "      <td>7425.0</td>\n",
       "      <td>7175.0</td>\n",
       "      <td>7400.0</td>\n",
       "      <td>7288.301758</td>\n",
       "      <td>87907900</td>\n",
       "    </tr>\n",
       "    <tr>\n",
       "      <th>163</th>\n",
       "      <td>2021-11-30</td>\n",
       "      <td>7325.0</td>\n",
       "      <td>7425.0</td>\n",
       "      <td>7275.0</td>\n",
       "      <td>7275.0</td>\n",
       "      <td>7165.188477</td>\n",
       "      <td>144923700</td>\n",
       "    </tr>\n",
       "    <tr>\n",
       "      <th>164</th>\n",
       "      <td>2021-12-01</td>\n",
       "      <td>7275.0</td>\n",
       "      <td>7450.0</td>\n",
       "      <td>7275.0</td>\n",
       "      <td>7300.0</td>\n",
       "      <td>7189.811523</td>\n",
       "      <td>76538100</td>\n",
       "    </tr>\n",
       "    <tr>\n",
       "      <th>165</th>\n",
       "      <td>2021-12-02</td>\n",
       "      <td>7375.0</td>\n",
       "      <td>7500.0</td>\n",
       "      <td>7300.0</td>\n",
       "      <td>7500.0</td>\n",
       "      <td>7386.792480</td>\n",
       "      <td>66831000</td>\n",
       "    </tr>\n",
       "    <tr>\n",
       "      <th>166</th>\n",
       "      <td>2021-12-03</td>\n",
       "      <td>7525.0</td>\n",
       "      <td>7525.0</td>\n",
       "      <td>7350.0</td>\n",
       "      <td>7375.0</td>\n",
       "      <td>7263.679199</td>\n",
       "      <td>63283700</td>\n",
       "    </tr>\n",
       "    <tr>\n",
       "      <th>167</th>\n",
       "      <td>2021-12-06</td>\n",
       "      <td>7450.0</td>\n",
       "      <td>7475.0</td>\n",
       "      <td>7350.0</td>\n",
       "      <td>7350.0</td>\n",
       "      <td>7239.056641</td>\n",
       "      <td>56944100</td>\n",
       "    </tr>\n",
       "    <tr>\n",
       "      <th>168</th>\n",
       "      <td>2021-12-07</td>\n",
       "      <td>7450.0</td>\n",
       "      <td>7475.0</td>\n",
       "      <td>7350.0</td>\n",
       "      <td>7350.0</td>\n",
       "      <td>7239.056641</td>\n",
       "      <td>51258200</td>\n",
       "    </tr>\n",
       "    <tr>\n",
       "      <th>169</th>\n",
       "      <td>2021-12-08</td>\n",
       "      <td>7450.0</td>\n",
       "      <td>7475.0</td>\n",
       "      <td>7400.0</td>\n",
       "      <td>7425.0</td>\n",
       "      <td>7312.924316</td>\n",
       "      <td>74775000</td>\n",
       "    </tr>\n",
       "    <tr>\n",
       "      <th>170</th>\n",
       "      <td>2021-12-09</td>\n",
       "      <td>7400.0</td>\n",
       "      <td>7450.0</td>\n",
       "      <td>7350.0</td>\n",
       "      <td>7350.0</td>\n",
       "      <td>7239.056641</td>\n",
       "      <td>54886400</td>\n",
       "    </tr>\n",
       "    <tr>\n",
       "      <th>171</th>\n",
       "      <td>2021-12-10</td>\n",
       "      <td>7325.0</td>\n",
       "      <td>7375.0</td>\n",
       "      <td>7275.0</td>\n",
       "      <td>7375.0</td>\n",
       "      <td>7263.679199</td>\n",
       "      <td>91092400</td>\n",
       "    </tr>\n",
       "    <tr>\n",
       "      <th>172</th>\n",
       "      <td>2021-12-13</td>\n",
       "      <td>7375.0</td>\n",
       "      <td>7400.0</td>\n",
       "      <td>7300.0</td>\n",
       "      <td>7300.0</td>\n",
       "      <td>7189.811523</td>\n",
       "      <td>59977100</td>\n",
       "    </tr>\n",
       "    <tr>\n",
       "      <th>173</th>\n",
       "      <td>2021-12-14</td>\n",
       "      <td>7300.0</td>\n",
       "      <td>7375.0</td>\n",
       "      <td>7275.0</td>\n",
       "      <td>7300.0</td>\n",
       "      <td>7189.811523</td>\n",
       "      <td>49763600</td>\n",
       "    </tr>\n",
       "    <tr>\n",
       "      <th>174</th>\n",
       "      <td>2021-12-15</td>\n",
       "      <td>7300.0</td>\n",
       "      <td>7375.0</td>\n",
       "      <td>7275.0</td>\n",
       "      <td>7300.0</td>\n",
       "      <td>7189.811523</td>\n",
       "      <td>52477600</td>\n",
       "    </tr>\n",
       "    <tr>\n",
       "      <th>175</th>\n",
       "      <td>2021-12-16</td>\n",
       "      <td>7375.0</td>\n",
       "      <td>7400.0</td>\n",
       "      <td>7275.0</td>\n",
       "      <td>7275.0</td>\n",
       "      <td>7165.188477</td>\n",
       "      <td>95171400</td>\n",
       "    </tr>\n",
       "    <tr>\n",
       "      <th>176</th>\n",
       "      <td>2021-12-17</td>\n",
       "      <td>7325.0</td>\n",
       "      <td>7500.0</td>\n",
       "      <td>7300.0</td>\n",
       "      <td>7500.0</td>\n",
       "      <td>7386.792480</td>\n",
       "      <td>107096800</td>\n",
       "    </tr>\n",
       "    <tr>\n",
       "      <th>177</th>\n",
       "      <td>2021-12-20</td>\n",
       "      <td>7350.0</td>\n",
       "      <td>7400.0</td>\n",
       "      <td>7325.0</td>\n",
       "      <td>7375.0</td>\n",
       "      <td>7263.679199</td>\n",
       "      <td>74753000</td>\n",
       "    </tr>\n",
       "    <tr>\n",
       "      <th>178</th>\n",
       "      <td>2021-12-21</td>\n",
       "      <td>7325.0</td>\n",
       "      <td>7400.0</td>\n",
       "      <td>7325.0</td>\n",
       "      <td>7375.0</td>\n",
       "      <td>7263.679199</td>\n",
       "      <td>52386100</td>\n",
       "    </tr>\n",
       "    <tr>\n",
       "      <th>179</th>\n",
       "      <td>2021-12-22</td>\n",
       "      <td>7425.0</td>\n",
       "      <td>7425.0</td>\n",
       "      <td>7325.0</td>\n",
       "      <td>7325.0</td>\n",
       "      <td>7214.434082</td>\n",
       "      <td>33232000</td>\n",
       "    </tr>\n",
       "    <tr>\n",
       "      <th>180</th>\n",
       "      <td>2021-12-23</td>\n",
       "      <td>7325.0</td>\n",
       "      <td>7350.0</td>\n",
       "      <td>7300.0</td>\n",
       "      <td>7300.0</td>\n",
       "      <td>7189.811523</td>\n",
       "      <td>37136400</td>\n",
       "    </tr>\n",
       "    <tr>\n",
       "      <th>181</th>\n",
       "      <td>2021-12-24</td>\n",
       "      <td>7300.0</td>\n",
       "      <td>7350.0</td>\n",
       "      <td>7300.0</td>\n",
       "      <td>7300.0</td>\n",
       "      <td>7189.811523</td>\n",
       "      <td>30802100</td>\n",
       "    </tr>\n",
       "    <tr>\n",
       "      <th>182</th>\n",
       "      <td>2021-12-27</td>\n",
       "      <td>7300.0</td>\n",
       "      <td>7350.0</td>\n",
       "      <td>7300.0</td>\n",
       "      <td>7350.0</td>\n",
       "      <td>7239.056641</td>\n",
       "      <td>20722100</td>\n",
       "    </tr>\n",
       "    <tr>\n",
       "      <th>183</th>\n",
       "      <td>2021-12-28</td>\n",
       "      <td>7375.0</td>\n",
       "      <td>7400.0</td>\n",
       "      <td>7325.0</td>\n",
       "      <td>7350.0</td>\n",
       "      <td>7239.056641</td>\n",
       "      <td>39343800</td>\n",
       "    </tr>\n",
       "    <tr>\n",
       "      <th>184</th>\n",
       "      <td>2021-12-29</td>\n",
       "      <td>7350.0</td>\n",
       "      <td>7375.0</td>\n",
       "      <td>7300.0</td>\n",
       "      <td>7300.0</td>\n",
       "      <td>7189.811523</td>\n",
       "      <td>42079500</td>\n",
       "    </tr>\n",
       "    <tr>\n",
       "      <th>185</th>\n",
       "      <td>2021-12-30</td>\n",
       "      <td>7350.0</td>\n",
       "      <td>7350.0</td>\n",
       "      <td>7300.0</td>\n",
       "      <td>7300.0</td>\n",
       "      <td>7189.811523</td>\n",
       "      <td>49954700</td>\n",
       "    </tr>\n",
       "    <tr>\n",
       "      <th>186</th>\n",
       "      <td>2022-01-03</td>\n",
       "      <td>7325.0</td>\n",
       "      <td>7400.0</td>\n",
       "      <td>7300.0</td>\n",
       "      <td>7325.0</td>\n",
       "      <td>7214.434082</td>\n",
       "      <td>54287400</td>\n",
       "    </tr>\n",
       "    <tr>\n",
       "      <th>187</th>\n",
       "      <td>2022-01-04</td>\n",
       "      <td>7325.0</td>\n",
       "      <td>7450.0</td>\n",
       "      <td>7325.0</td>\n",
       "      <td>7400.0</td>\n",
       "      <td>7288.301758</td>\n",
       "      <td>70624000</td>\n",
       "    </tr>\n",
       "  </tbody>\n",
       "</table>\n",
       "</div>"
      ],
      "text/plain": [
       "           Date    Open    High     Low   Close    Adj Close     Volume\n",
       "158  2021-11-23  7400.0  7500.0  7400.0  7475.0  7362.169922   43477500\n",
       "159  2021-11-24  7575.0  7575.0  7425.0  7475.0  7362.169922   35181400\n",
       "160  2021-11-25  7450.0  7525.0  7425.0  7425.0  7312.924316   40216100\n",
       "161  2021-11-26  7400.0  7450.0  7250.0  7275.0  7165.188477  113288400\n",
       "162  2021-11-29  7275.0  7425.0  7175.0  7400.0  7288.301758   87907900\n",
       "163  2021-11-30  7325.0  7425.0  7275.0  7275.0  7165.188477  144923700\n",
       "164  2021-12-01  7275.0  7450.0  7275.0  7300.0  7189.811523   76538100\n",
       "165  2021-12-02  7375.0  7500.0  7300.0  7500.0  7386.792480   66831000\n",
       "166  2021-12-03  7525.0  7525.0  7350.0  7375.0  7263.679199   63283700\n",
       "167  2021-12-06  7450.0  7475.0  7350.0  7350.0  7239.056641   56944100\n",
       "168  2021-12-07  7450.0  7475.0  7350.0  7350.0  7239.056641   51258200\n",
       "169  2021-12-08  7450.0  7475.0  7400.0  7425.0  7312.924316   74775000\n",
       "170  2021-12-09  7400.0  7450.0  7350.0  7350.0  7239.056641   54886400\n",
       "171  2021-12-10  7325.0  7375.0  7275.0  7375.0  7263.679199   91092400\n",
       "172  2021-12-13  7375.0  7400.0  7300.0  7300.0  7189.811523   59977100\n",
       "173  2021-12-14  7300.0  7375.0  7275.0  7300.0  7189.811523   49763600\n",
       "174  2021-12-15  7300.0  7375.0  7275.0  7300.0  7189.811523   52477600\n",
       "175  2021-12-16  7375.0  7400.0  7275.0  7275.0  7165.188477   95171400\n",
       "176  2021-12-17  7325.0  7500.0  7300.0  7500.0  7386.792480  107096800\n",
       "177  2021-12-20  7350.0  7400.0  7325.0  7375.0  7263.679199   74753000\n",
       "178  2021-12-21  7325.0  7400.0  7325.0  7375.0  7263.679199   52386100\n",
       "179  2021-12-22  7425.0  7425.0  7325.0  7325.0  7214.434082   33232000\n",
       "180  2021-12-23  7325.0  7350.0  7300.0  7300.0  7189.811523   37136400\n",
       "181  2021-12-24  7300.0  7350.0  7300.0  7300.0  7189.811523   30802100\n",
       "182  2021-12-27  7300.0  7350.0  7300.0  7350.0  7239.056641   20722100\n",
       "183  2021-12-28  7375.0  7400.0  7325.0  7350.0  7239.056641   39343800\n",
       "184  2021-12-29  7350.0  7375.0  7300.0  7300.0  7189.811523   42079500\n",
       "185  2021-12-30  7350.0  7350.0  7300.0  7300.0  7189.811523   49954700\n",
       "186  2022-01-03  7325.0  7400.0  7300.0  7325.0  7214.434082   54287400\n",
       "187  2022-01-04  7325.0  7450.0  7325.0  7400.0  7288.301758   70624000"
      ]
     },
     "execution_count": 5,
     "metadata": {},
     "output_type": "execute_result"
    }
   ],
   "source": [
    "df_saham[-90:-60]"
   ]
  },
  {
   "cell_type": "code",
   "execution_count": 3,
   "id": "8f697672",
   "metadata": {},
   "outputs": [
    {
     "name": "stdout",
     "output_type": "stream",
     "text": [
      "<class 'pandas.core.frame.DataFrame'>\n",
      "RangeIndex: 248 entries, 0 to 247\n",
      "Data columns (total 7 columns):\n",
      " #   Column     Non-Null Count  Dtype         \n",
      "---  ------     --------------  -----         \n",
      " 0   Date       248 non-null    datetime64[ns]\n",
      " 1   Open       248 non-null    float64       \n",
      " 2   High       248 non-null    float64       \n",
      " 3   Low        248 non-null    float64       \n",
      " 4   Close      248 non-null    float64       \n",
      " 5   Adj Close  248 non-null    float64       \n",
      " 6   Volume     248 non-null    int64         \n",
      "dtypes: datetime64[ns](1), float64(5), int64(1)\n",
      "memory usage: 13.7 KB\n"
     ]
    }
   ],
   "source": [
    "df_saham['Date'] = pd.to_datetime(df_saham['Date'])\n",
    "df_saham.info()"
   ]
  },
  {
   "cell_type": "code",
   "execution_count": 4,
   "id": "66867ff5",
   "metadata": {},
   "outputs": [
    {
     "data": {
      "text/html": [
       "<div>\n",
       "<style scoped>\n",
       "    .dataframe tbody tr th:only-of-type {\n",
       "        vertical-align: middle;\n",
       "    }\n",
       "\n",
       "    .dataframe tbody tr th {\n",
       "        vertical-align: top;\n",
       "    }\n",
       "\n",
       "    .dataframe thead th {\n",
       "        text-align: right;\n",
       "    }\n",
       "</style>\n",
       "<table border=\"1\" class=\"dataframe\">\n",
       "  <thead>\n",
       "    <tr style=\"text-align: right;\">\n",
       "      <th></th>\n",
       "      <th>Date</th>\n",
       "    </tr>\n",
       "  </thead>\n",
       "  <tbody>\n",
       "    <tr>\n",
       "      <th>0</th>\n",
       "      <td>2022-01-01</td>\n",
       "    </tr>\n",
       "    <tr>\n",
       "      <th>1</th>\n",
       "      <td>2022-01-02</td>\n",
       "    </tr>\n",
       "    <tr>\n",
       "      <th>2</th>\n",
       "      <td>2022-01-03</td>\n",
       "    </tr>\n",
       "    <tr>\n",
       "      <th>3</th>\n",
       "      <td>2022-01-04</td>\n",
       "    </tr>\n",
       "    <tr>\n",
       "      <th>4</th>\n",
       "      <td>2022-01-05</td>\n",
       "    </tr>\n",
       "    <tr>\n",
       "      <th>...</th>\n",
       "      <td>...</td>\n",
       "    </tr>\n",
       "    <tr>\n",
       "      <th>86</th>\n",
       "      <td>2022-03-28</td>\n",
       "    </tr>\n",
       "    <tr>\n",
       "      <th>87</th>\n",
       "      <td>2022-03-29</td>\n",
       "    </tr>\n",
       "    <tr>\n",
       "      <th>88</th>\n",
       "      <td>2022-03-30</td>\n",
       "    </tr>\n",
       "    <tr>\n",
       "      <th>89</th>\n",
       "      <td>2022-03-31</td>\n",
       "    </tr>\n",
       "    <tr>\n",
       "      <th>90</th>\n",
       "      <td>2022-04-01</td>\n",
       "    </tr>\n",
       "  </tbody>\n",
       "</table>\n",
       "<p>91 rows × 1 columns</p>\n",
       "</div>"
      ],
      "text/plain": [
       "         Date\n",
       "0  2022-01-01\n",
       "1  2022-01-02\n",
       "2  2022-01-03\n",
       "3  2022-01-04\n",
       "4  2022-01-05\n",
       "..        ...\n",
       "86 2022-03-28\n",
       "87 2022-03-29\n",
       "88 2022-03-30\n",
       "89 2022-03-31\n",
       "90 2022-04-01\n",
       "\n",
       "[91 rows x 1 columns]"
      ]
     },
     "execution_count": 4,
     "metadata": {},
     "output_type": "execute_result"
    }
   ],
   "source": [
    "df_date = pd.DataFrame({\n",
    "    'Date' : pd.date_range(start=\"2022-01-01\",periods=91)\n",
    "})\n",
    "df_date"
   ]
  },
  {
   "cell_type": "code",
   "execution_count": 5,
   "id": "5d42e657",
   "metadata": {},
   "outputs": [
    {
     "data": {
      "text/html": [
       "<div>\n",
       "<style scoped>\n",
       "    .dataframe tbody tr th:only-of-type {\n",
       "        vertical-align: middle;\n",
       "    }\n",
       "\n",
       "    .dataframe tbody tr th {\n",
       "        vertical-align: top;\n",
       "    }\n",
       "\n",
       "    .dataframe thead th {\n",
       "        text-align: right;\n",
       "    }\n",
       "</style>\n",
       "<table border=\"1\" class=\"dataframe\">\n",
       "  <thead>\n",
       "    <tr style=\"text-align: right;\">\n",
       "      <th></th>\n",
       "      <th>Date</th>\n",
       "      <th>Open</th>\n",
       "      <th>High</th>\n",
       "      <th>Low</th>\n",
       "      <th>Close</th>\n",
       "      <th>Adj Close</th>\n",
       "      <th>Volume</th>\n",
       "    </tr>\n",
       "  </thead>\n",
       "  <tbody>\n",
       "    <tr>\n",
       "      <th>0</th>\n",
       "      <td>2022-01-01</td>\n",
       "      <td>NaN</td>\n",
       "      <td>NaN</td>\n",
       "      <td>NaN</td>\n",
       "      <td>NaN</td>\n",
       "      <td>NaN</td>\n",
       "      <td>NaN</td>\n",
       "    </tr>\n",
       "    <tr>\n",
       "      <th>1</th>\n",
       "      <td>2022-01-02</td>\n",
       "      <td>NaN</td>\n",
       "      <td>NaN</td>\n",
       "      <td>NaN</td>\n",
       "      <td>NaN</td>\n",
       "      <td>NaN</td>\n",
       "      <td>NaN</td>\n",
       "    </tr>\n",
       "    <tr>\n",
       "      <th>2</th>\n",
       "      <td>2022-01-03</td>\n",
       "      <td>7325.0</td>\n",
       "      <td>7400.0</td>\n",
       "      <td>7300.0</td>\n",
       "      <td>7325.0</td>\n",
       "      <td>7214.434082</td>\n",
       "      <td>54287400.0</td>\n",
       "    </tr>\n",
       "    <tr>\n",
       "      <th>3</th>\n",
       "      <td>2022-01-04</td>\n",
       "      <td>7325.0</td>\n",
       "      <td>7450.0</td>\n",
       "      <td>7325.0</td>\n",
       "      <td>7400.0</td>\n",
       "      <td>7288.301758</td>\n",
       "      <td>70624000.0</td>\n",
       "    </tr>\n",
       "    <tr>\n",
       "      <th>4</th>\n",
       "      <td>2022-01-05</td>\n",
       "      <td>7450.0</td>\n",
       "      <td>7525.0</td>\n",
       "      <td>7375.0</td>\n",
       "      <td>7450.0</td>\n",
       "      <td>7337.547363</td>\n",
       "      <td>76164900.0</td>\n",
       "    </tr>\n",
       "    <tr>\n",
       "      <th>...</th>\n",
       "      <td>...</td>\n",
       "      <td>...</td>\n",
       "      <td>...</td>\n",
       "      <td>...</td>\n",
       "      <td>...</td>\n",
       "      <td>...</td>\n",
       "      <td>...</td>\n",
       "    </tr>\n",
       "    <tr>\n",
       "      <th>86</th>\n",
       "      <td>2022-03-28</td>\n",
       "      <td>7825.0</td>\n",
       "      <td>7900.0</td>\n",
       "      <td>7800.0</td>\n",
       "      <td>7900.0</td>\n",
       "      <td>7900.000000</td>\n",
       "      <td>83911500.0</td>\n",
       "    </tr>\n",
       "    <tr>\n",
       "      <th>87</th>\n",
       "      <td>2022-03-29</td>\n",
       "      <td>7875.0</td>\n",
       "      <td>7900.0</td>\n",
       "      <td>7825.0</td>\n",
       "      <td>7850.0</td>\n",
       "      <td>7850.000000</td>\n",
       "      <td>62180600.0</td>\n",
       "    </tr>\n",
       "    <tr>\n",
       "      <th>88</th>\n",
       "      <td>2022-03-30</td>\n",
       "      <td>7900.0</td>\n",
       "      <td>7900.0</td>\n",
       "      <td>7825.0</td>\n",
       "      <td>7875.0</td>\n",
       "      <td>7875.000000</td>\n",
       "      <td>71430600.0</td>\n",
       "    </tr>\n",
       "    <tr>\n",
       "      <th>89</th>\n",
       "      <td>2022-03-31</td>\n",
       "      <td>7925.0</td>\n",
       "      <td>8000.0</td>\n",
       "      <td>7875.0</td>\n",
       "      <td>7975.0</td>\n",
       "      <td>7975.000000</td>\n",
       "      <td>112691900.0</td>\n",
       "    </tr>\n",
       "    <tr>\n",
       "      <th>90</th>\n",
       "      <td>2022-04-01</td>\n",
       "      <td>8075.0</td>\n",
       "      <td>8075.0</td>\n",
       "      <td>7850.0</td>\n",
       "      <td>7850.0</td>\n",
       "      <td>7850.000000</td>\n",
       "      <td>54491800.0</td>\n",
       "    </tr>\n",
       "  </tbody>\n",
       "</table>\n",
       "<p>91 rows × 7 columns</p>\n",
       "</div>"
      ],
      "text/plain": [
       "         Date    Open    High     Low   Close    Adj Close       Volume\n",
       "0  2022-01-01     NaN     NaN     NaN     NaN          NaN          NaN\n",
       "1  2022-01-02     NaN     NaN     NaN     NaN          NaN          NaN\n",
       "2  2022-01-03  7325.0  7400.0  7300.0  7325.0  7214.434082   54287400.0\n",
       "3  2022-01-04  7325.0  7450.0  7325.0  7400.0  7288.301758   70624000.0\n",
       "4  2022-01-05  7450.0  7525.0  7375.0  7450.0  7337.547363   76164900.0\n",
       "..        ...     ...     ...     ...     ...          ...          ...\n",
       "86 2022-03-28  7825.0  7900.0  7800.0  7900.0  7900.000000   83911500.0\n",
       "87 2022-03-29  7875.0  7900.0  7825.0  7850.0  7850.000000   62180600.0\n",
       "88 2022-03-30  7900.0  7900.0  7825.0  7875.0  7875.000000   71430600.0\n",
       "89 2022-03-31  7925.0  8000.0  7875.0  7975.0  7975.000000  112691900.0\n",
       "90 2022-04-01  8075.0  8075.0  7850.0  7850.0  7850.000000   54491800.0\n",
       "\n",
       "[91 rows x 7 columns]"
      ]
     },
     "execution_count": 5,
     "metadata": {},
     "output_type": "execute_result"
    }
   ],
   "source": [
    "new_df = df_saham.merge(df_date, on=['Date'], how='right')\n",
    "new_df"
   ]
  },
  {
   "cell_type": "code",
   "execution_count": 10,
   "id": "30f0b58a",
   "metadata": {},
   "outputs": [
    {
     "data": {
      "image/png": "[encoded data removed]",
      "text/plain": [
       "<Figure size 1296x648 with 1 Axes>"
      ]
     },
     "metadata": {},
     "output_type": "display_data"
    }
   ],
   "source": [
    "plt.figure(figsize=(18,9))\n",
    "sns.lineplot(data=new_df, x='Date',y='Close')\n",
    "sns.set_theme()"
   ]
  },
  {
   "cell_type": "code",
   "execution_count": 9,
   "id": "6d364fe4",
   "metadata": {},
   "outputs": [
    {
     "data": {
      "application/vnd.plotly.v1+json": {
       "config": {
        "plotlyServerURL": "https://plot.ly"
       },
       "data": [
        {
         "close": [
          null,
          null,
          7325,
          7400,
          7450,
          7475,
          7650,
          null,
          null,
          7600,
          7700,
          7700,
          7700,
          7850,
          null,
          null,
          7750,
          7675,
          7675,
          7775,
          7950,
          null,
          null,
          7800,
          7775,
          7700,
          7800,
          7775,
          null,
          null,
          7625,
          null,
          7800,
          7725,
          7725,
          null,
          null,
          7800,
          7725,
          7950,
          7750,
          7825,
          null,
          null,
          7700,
          7875,
          7975,
          7900,
          7925,
          null,
          null,
          7950,
          7900,
          8050,
          8000,
          8050,
          null,
          null,
          null,
          8050,
          7975,
          null,
          7900,
          null,
          null,
          7700,
          7650,
          7850,
          7925,
          7950,
          null,
          null,
          8075,
          8150,
          8200,
          8000,
          7900,
          null,
          null,
          7900,
          7925,
          7900,
          7925,
          7950,
          null,
          null,
          7900,
          7850,
          7875,
          7975,
          7850
         ],
         "high": [
          null,
          null,
          7400,
          7450,
          7525,
          7525,
          7700,
          null,
          null,
          7650,
          7700,
          7700,
          7750,
          7850,
          null,
          null,
          7900,
          7775,
          7725,
          7775,
          7950,
          null,
          null,
          7850,
          7775,
          7750,
          7800,
          7825,
          null,
          null,
          7775,
          null,
          7800,
          7825,
          7800,
          null,
          null,
          7800,
          7850,
          7950,
          7950,
          7825,
          null,
          null,
          7775,
          7875,
          7975,
          7925,
          7950,
          null,
          null,
          7975,
          7950,
          8100,
          8150,
          8175,
          null,
          null,
          null,
          8175,
          8225,
          null,
          8025,
          null,
          null,
          7850,
          7850,
          7950,
          7975,
          7950,
          null,
          null,
          8100,
          8200,
          8275,
          8300,
          8100,
          null,
          null,
          7950,
          7950,
          7950,
          7950,
          7950,
          null,
          null,
          7900,
          7900,
          7900,
          8000,
          8075
         ],
         "low": [
          null,
          null,
          7300,
          7325,
          7375,
          7425,
          7500,
          null,
          null,
          7550,
          7625,
          7650,
          7650,
          7650,
          null,
          null,
          7700,
          7550,
          7575,
          7625,
          7700,
          null,
          null,
          7775,
          7625,
          7650,
          7625,
          7700,
          null,
          null,
          7625,
          null,
          7675,
          7700,
          7700,
          null,
          null,
          7700,
          7725,
          7800,
          7750,
          7650,
          null,
          null,
          7700,
          7725,
          7825,
          7800,
          7850,
          null,
          null,
          7900,
          7850,
          7875,
          7925,
          7925,
          null,
          null,
          null,
          8000,
          7975,
          null,
          7900,
          null,
          null,
          7700,
          7650,
          7650,
          7800,
          7725,
          null,
          null,
          7950,
          8075,
          8075,
          8000,
          7900,
          null,
          null,
          7800,
          7875,
          7825,
          7800,
          7900,
          null,
          null,
          7800,
          7825,
          7825,
          7875,
          7850
         ],
         "open": [
          null,
          null,
          7325,
          7325,
          7450,
          7500,
          7550,
          null,
          null,
          7575,
          7650,
          7700,
          7700,
          7700,
          null,
          null,
          7900,
          7775,
          7650,
          7725,
          7775,
          null,
          null,
          7825,
          7675,
          7700,
          7625,
          7800,
          null,
          null,
          7775,
          null,
          7775,
          7800,
          7750,
          null,
          null,
          7775,
          7750,
          7850,
          7950,
          7675,
          null,
          null,
          7750,
          7750,
          7850,
          7850,
          7950,
          null,
          null,
          7925,
          7900,
          7900,
          8125,
          7950,
          null,
          null,
          null,
          8000,
          8225,
          null,
          7975,
          null,
          null,
          7800,
          7700,
          7700,
          7925,
          7725,
          null,
          null,
          8050,
          8150,
          8275,
          8300,
          8000,
          null,
          null,
          7800,
          7900,
          7925,
          7850,
          7900,
          null,
          null,
          7825,
          7875,
          7900,
          7925,
          8075
         ],
         "type": "candlestick",
         "x": [
          "2022-01-01T00:00:00",
          "2022-01-02T00:00:00",
          "2022-01-03T00:00:00",
          "2022-01-04T00:00:00",
          "2022-01-05T00:00:00",
          "2022-01-06T00:00:00",
          "2022-01-07T00:00:00",
          "2022-01-08T00:00:00",
          "2022-01-09T00:00:00",
          "2022-01-10T00:00:00",
          "2022-01-11T00:00:00",
          "2022-01-12T00:00:00",
          "2022-01-13T00:00:00",
          "2022-01-14T00:00:00",
          "2022-01-15T00:00:00",
          "2022-01-16T00:00:00",
          "2022-01-17T00:00:00",
          "2022-01-18T00:00:00",
          "2022-01-19T00:00:00",
          "2022-01-20T00:00:00",
          "2022-01-21T00:00:00",
          "2022-01-22T00:00:00",
          "2022-01-23T00:00:00",
          "2022-01-24T00:00:00",
          "2022-01-25T00:00:00",
          "2022-01-26T00:00:00",
          "2022-01-27T00:00:00",
          "2022-01-28T00:00:00",
          "2022-01-29T00:00:00",
          "2022-01-30T00:00:00",
          "2022-01-31T00:00:00",
          "2022-02-01T00:00:00",
          "2022-02-02T00:00:00",
          "2022-02-03T00:00:00",
          "2022-02-04T00:00:00",
          "2022-02-05T00:00:00",
          "2022-02-06T00:00:00",
          "2022-02-07T00:00:00",
          "2022-02-08T00:00:00",
          "2022-02-09T00:00:00",
          "2022-02-10T00:00:00",
          "2022-02-11T00:00:00",
          "2022-02-12T00:00:00",
          "2022-02-13T00:00:00",
          "2022-02-14T00:00:00",
          "2022-02-15T00:00:00",
          "2022-02-16T00:00:00",
          "2022-02-17T00:00:00",
          "2022-02-18T00:00:00",
          "2022-02-19T00:00:00",
          "2022-02-20T00:00:00",
          "2022-02-21T00:00:00",
          "2022-02-22T00:00:00",
          "2022-02-23T00:00:00",
          "2022-02-24T00:00:00",
          "2022-02-25T00:00:00",
          "2022-02-26T00:00:00",
          "2022-02-27T00:00:00",
          "2022-02-28T00:00:00",
          "2022-03-01T00:00:00",
          "2022-03-02T00:00:00",
          "2022-03-03T00:00:00",
          "2022-03-04T00:00:00",
          "2022-03-05T00:00:00",
          "2022-03-06T00:00:00",
          "2022-03-07T00:00:00",
          "2022-03-08T00:00:00",
          "2022-03-09T00:00:00",
          "2022-03-10T00:00:00",
          "2022-03-11T00:00:00",
          "2022-03-12T00:00:00",
          "2022-03-13T00:00:00",
          "2022-03-14T00:00:00",
          "2022-03-15T00:00:00",
          "2022-03-16T00:00:00",
          "2022-03-17T00:00:00",
          "2022-03-18T00:00:00",
          "2022-03-19T00:00:00",
          "2022-03-20T00:00:00",
          "2022-03-21T00:00:00",
          "2022-03-22T00:00:00",
          "2022-03-23T00:00:00",
          "2022-03-24T00:00:00",
          "2022-03-25T00:00:00",
          "2022-03-26T00:00:00",
          "2022-03-27T00:00:00",
          "2022-03-28T00:00:00",
          "2022-03-29T00:00:00",
          "2022-03-30T00:00:00",
          "2022-03-31T00:00:00",
          "2022-04-01T00:00:00"
         ]
        }
       ],
       "layout": {
        "font": {
         "size": 12
        },
        "template": {
         "data": {
          "bar": [
           {
            "error_x": {
             "color": "#2a3f5f"
            },
            "error_y": {
             "color": "#2a3f5f"
            },
            "marker": {
             "line": {
              "color": "#E5ECF6",
              "width": 0.5
             },
             "pattern": {
              "fillmode": "overlay",
              "size": 10,
              "solidity": 0.2
             }
            },
            "type": "bar"
           }
          ],
          "barpolar": [
           {
            "marker": {
             "line": {
              "color": "#E5ECF6",
              "width": 0.5
             },
             "pattern": {
              "fillmode": "overlay",
              "size": 10,
              "solidity": 0.2
             }
            },
            "type": "barpolar"
           }
          ],
          "carpet": [
           {
            "aaxis": {
             "endlinecolor": "#2a3f5f",
             "gridcolor": "white",
             "linecolor": "white",
             "minorgridcolor": "white",
             "startlinecolor": "#2a3f5f"
            },
            "baxis": {
             "endlinecolor": "#2a3f5f",
             "gridcolor": "white",
             "linecolor": "white",
             "minorgridcolor": "white",
             "startlinecolor": "#2a3f5f"
            },
            "type": "carpet"
           }
          ],
          "choropleth": [
           {
            "colorbar": {
             "outlinewidth": 0,
             "ticks": ""
            },
            "type": "choropleth"
           }
          ],
          "contour": [
           {
            "colorbar": {
             "outlinewidth": 0,
             "ticks": ""
            },
            "colorscale": [
             [
              0,
              "#0d0887"
             ],
             [
              0.1111111111111111,
              "#46039f"
             ],
             [
              0.2222222222222222,
              "#7201a8"
             ],
             [
              0.3333333333333333,
              "#9c179e"
             ],
             [
              0.4444444444444444,
              "#bd3786"
             ],
             [
              0.5555555555555556,
              "#d8576b"
             ],
             [
              0.6666666666666666,
              "#ed7953"
             ],
             [
              0.7777777777777778,
              "#fb9f3a"
             ],
             [
              0.8888888888888888,
              "#fdca26"
             ],
             [
              1,
              "#f0f921"
             ]
            ],
            "type": "contour"
           }
          ],
          "contourcarpet": [
           {
            "colorbar": {
             "outlinewidth": 0,
             "ticks": ""
            },
            "type": "contourcarpet"
           }
          ],
          "heatmap": [
           {
            "colorbar": {
             "outlinewidth": 0,
             "ticks": ""
            },
            "colorscale": [
             [
              0,
              "#0d0887"
             ],
             [
              0.1111111111111111,
              "#46039f"
             ],
             [
              0.2222222222222222,
              "#7201a8"
             ],
             [
              0.3333333333333333,
              "#9c179e"
             ],
             [
              0.4444444444444444,
              "#bd3786"
             ],
             [
              0.5555555555555556,
              "#d8576b"
             ],
             [
              0.6666666666666666,
              "#ed7953"
             ],
             [
              0.7777777777777778,
              "#fb9f3a"
             ],
             [
              0.8888888888888888,
              "#fdca26"
             ],
             [
              1,
              "#f0f921"
             ]
            ],
            "type": "heatmap"
           }
          ],
          "heatmapgl": [
           {
            "colorbar": {
             "outlinewidth": 0,
             "ticks": ""
            },
            "colorscale": [
             [
              0,
              "#0d0887"
             ],
             [
              0.1111111111111111,
              "#46039f"
             ],
             [
              0.2222222222222222,
              "#7201a8"
             ],
             [
              0.3333333333333333,
              "#9c179e"
             ],
             [
              0.4444444444444444,
              "#bd3786"
             ],
             [
              0.5555555555555556,
              "#d8576b"
             ],
             [
              0.6666666666666666,
              "#ed7953"
             ],
             [
              0.7777777777777778,
              "#fb9f3a"
             ],
             [
              0.8888888888888888,
              "#fdca26"
             ],
             [
              1,
              "#f0f921"
             ]
            ],
            "type": "heatmapgl"
           }
          ],
          "histogram": [
           {
            "marker": {
             "pattern": {
              "fillmode": "overlay",
              "size": 10,
              "solidity": 0.2
             }
            },
            "type": "histogram"
           }
          ],
          "histogram2d": [
           {
            "colorbar": {
             "outlinewidth": 0,
             "ticks": ""
            },
            "colorscale": [
             [
              0,
              "#0d0887"
             ],
             [
              0.1111111111111111,
              "#46039f"
             ],
             [
              0.2222222222222222,
              "#7201a8"
             ],
             [
              0.3333333333333333,
              "#9c179e"
             ],
             [
              0.4444444444444444,
              "#bd3786"
             ],
             [
              0.5555555555555556,
              "#d8576b"
             ],
             [
              0.6666666666666666,
              "#ed7953"
             ],
             [
              0.7777777777777778,
              "#fb9f3a"
             ],
             [
              0.8888888888888888,
              "#fdca26"
             ],
             [
              1,
              "#f0f921"
             ]
            ],
            "type": "histogram2d"
           }
          ],
          "histogram2dcontour": [
           {
            "colorbar": {
             "outlinewidth": 0,
             "ticks": ""
            },
            "colorscale": [
             [
              0,
              "#0d0887"
             ],
             [
              0.1111111111111111,
              "#46039f"
             ],
             [
              0.2222222222222222,
              "#7201a8"
             ],
             [
              0.3333333333333333,
              "#9c179e"
             ],
             [
              0.4444444444444444,
              "#bd3786"
             ],
             [
              0.5555555555555556,
              "#d8576b"
             ],
             [
              0.6666666666666666,
              "#ed7953"
             ],
             [
              0.7777777777777778,
              "#fb9f3a"
             ],
             [
              0.8888888888888888,
              "#fdca26"
             ],
             [
              1,
              "#f0f921"
             ]
            ],
            "type": "histogram2dcontour"
           }
          ],
          "mesh3d": [
           {
            "colorbar": {
             "outlinewidth": 0,
             "ticks": ""
            },
            "type": "mesh3d"
           }
          ],
          "parcoords": [
           {
            "line": {
             "colorbar": {
              "outlinewidth": 0,
              "ticks": ""
             }
            },
            "type": "parcoords"
           }
          ],
          "pie": [
           {
            "automargin": true,
            "type": "pie"
           }
          ],
          "scatter": [
           {
            "marker": {
             "colorbar": {
              "outlinewidth": 0,
              "ticks": ""
             }
            },
            "type": "scatter"
           }
          ],
          "scatter3d": [
           {
            "line": {
             "colorbar": {
              "outlinewidth": 0,
              "ticks": ""
             }
            },
            "marker": {
             "colorbar": {
              "outlinewidth": 0,
              "ticks": ""
             }
            },
            "type": "scatter3d"
           }
          ],
          "scattercarpet": [
           {
            "marker": {
             "colorbar": {
              "outlinewidth": 0,
              "ticks": ""
             }
            },
            "type": "scattercarpet"
           }
          ],
          "scattergeo": [
           {
            "marker": {
             "colorbar": {
              "outlinewidth": 0,
              "ticks": ""
             }
            },
            "type": "scattergeo"
           }
          ],
          "scattergl": [
           {
            "marker": {
             "colorbar": {
              "outlinewidth": 0,
              "ticks": ""
             }
            },
            "type": "scattergl"
           }
          ],
          "scattermapbox": [
           {
            "marker": {
             "colorbar": {
              "outlinewidth": 0,
              "ticks": ""
             }
            },
            "type": "scattermapbox"
           }
          ],
          "scatterpolar": [
           {
            "marker": {
             "colorbar": {
              "outlinewidth": 0,
              "ticks": ""
             }
            },
            "type": "scatterpolar"
           }
          ],
          "scatterpolargl": [
           {
            "marker": {
             "colorbar": {
              "outlinewidth": 0,
              "ticks": ""
             }
            },
            "type": "scatterpolargl"
           }
          ],
          "scatterternary": [
           {
            "marker": {
             "colorbar": {
              "outlinewidth": 0,
              "ticks": ""
             }
            },
            "type": "scatterternary"
           }
          ],
          "surface": [
           {
            "colorbar": {
             "outlinewidth": 0,
             "ticks": ""
            },
            "colorscale": [
             [
              0,
              "#0d0887"
             ],
             [
              0.1111111111111111,
              "#46039f"
             ],
             [
              0.2222222222222222,
              "#7201a8"
             ],
             [
              0.3333333333333333,
              "#9c179e"
             ],
             [
              0.4444444444444444,
              "#bd3786"
             ],
             [
              0.5555555555555556,
              "#d8576b"
             ],
             [
              0.6666666666666666,
              "#ed7953"
             ],
             [
              0.7777777777777778,
              "#fb9f3a"
             ],
             [
              0.8888888888888888,
              "#fdca26"
             ],
             [
              1,
              "#f0f921"
             ]
            ],
            "type": "surface"
           }
          ],
          "table": [
           {
            "cells": {
             "fill": {
              "color": "#EBF0F8"
             },
             "line": {
              "color": "white"
             }
            },
            "header": {
             "fill": {
              "color": "#C8D4E3"
             },
             "line": {
              "color": "white"
             }
            },
            "type": "table"
           }
          ]
         },
         "layout": {
          "annotationdefaults": {
           "arrowcolor": "#2a3f5f",
           "arrowhead": 0,
           "arrowwidth": 1
          },
          "autotypenumbers": "strict",
          "coloraxis": {
           "colorbar": {
            "outlinewidth": 0,
            "ticks": ""
           }
          },
          "colorscale": {
           "diverging": [
            [
             0,
             "#8e0152"
            ],
            [
             0.1,
             "#c51b7d"
            ],
            [
             0.2,
             "#de77ae"
            ],
            [
             0.3,
             "#f1b6da"
            ],
            [
             0.4,
             "#fde0ef"
            ],
            [
             0.5,
             "#f7f7f7"
            ],
            [
             0.6,
             "#e6f5d0"
            ],
            [
             0.7,
             "#b8e186"
            ],
            [
             0.8,
             "#7fbc41"
            ],
            [
             0.9,
             "#4d9221"
            ],
            [
             1,
             "#276419"
            ]
           ],
           "sequential": [
            [
             0,
             "#0d0887"
            ],
            [
             0.1111111111111111,
             "#46039f"
            ],
            [
             0.2222222222222222,
             "#7201a8"
            ],
            [
             0.3333333333333333,
             "#9c179e"
            ],
            [
             0.4444444444444444,
             "#bd3786"
            ],
            [
             0.5555555555555556,
             "#d8576b"
            ],
            [
             0.6666666666666666,
             "#ed7953"
            ],
            [
             0.7777777777777778,
             "#fb9f3a"
            ],
            [
             0.8888888888888888,
             "#fdca26"
            ],
            [
             1,
             "#f0f921"
            ]
           ],
           "sequentialminus": [
            [
             0,
             "#0d0887"
            ],
            [
             0.1111111111111111,
             "#46039f"
            ],
            [
             0.2222222222222222,
             "#7201a8"
            ],
            [
             0.3333333333333333,
             "#9c179e"
            ],
            [
             0.4444444444444444,
             "#bd3786"
            ],
            [
             0.5555555555555556,
             "#d8576b"
            ],
            [
             0.6666666666666666,
             "#ed7953"
            ],
            [
             0.7777777777777778,
             "#fb9f3a"
            ],
            [
             0.8888888888888888,
             "#fdca26"
            ],
            [
             1,
             "#f0f921"
            ]
           ]
          },
          "colorway": [
           "#636efa",
           "#EF553B",
           "#00cc96",
           "#ab63fa",
           "#FFA15A",
           "#19d3f3",
           "#FF6692",
           "#B6E880",
           "#FF97FF",
           "#FECB52"
          ],
          "font": {
           "color": "#2a3f5f"
          },
          "geo": {
           "bgcolor": "white",
           "lakecolor": "white",
           "landcolor": "#E5ECF6",
           "showlakes": true,
           "showland": true,
           "subunitcolor": "white"
          },
          "hoverlabel": {
           "align": "left"
          },
          "hovermode": "closest",
          "mapbox": {
           "style": "light"
          },
          "paper_bgcolor": "white",
          "plot_bgcolor": "#E5ECF6",
          "polar": {
           "angularaxis": {
            "gridcolor": "white",
            "linecolor": "white",
            "ticks": ""
           },
           "bgcolor": "#E5ECF6",
           "radialaxis": {
            "gridcolor": "white",
            "linecolor": "white",
            "ticks": ""
           }
          },
          "scene": {
           "xaxis": {
            "backgroundcolor": "#E5ECF6",
            "gridcolor": "white",
            "gridwidth": 2,
            "linecolor": "white",
            "showbackground": true,
            "ticks": "",
            "zerolinecolor": "white"
           },
           "yaxis": {
            "backgroundcolor": "#E5ECF6",
            "gridcolor": "white",
            "gridwidth": 2,
            "linecolor": "white",
            "showbackground": true,
            "ticks": "",
            "zerolinecolor": "white"
           },
           "zaxis": {
            "backgroundcolor": "#E5ECF6",
            "gridcolor": "white",
            "gridwidth": 2,
            "linecolor": "white",
            "showbackground": true,
            "ticks": "",
            "zerolinecolor": "white"
           }
          },
          "shapedefaults": {
           "line": {
            "color": "#2a3f5f"
           }
          },
          "ternary": {
           "aaxis": {
            "gridcolor": "white",
            "linecolor": "white",
            "ticks": ""
           },
           "baxis": {
            "gridcolor": "white",
            "linecolor": "white",
            "ticks": ""
           },
           "bgcolor": "#E5ECF6",
           "caxis": {
            "gridcolor": "white",
            "linecolor": "white",
            "ticks": ""
           }
          },
          "title": {
           "x": 0.05
          },
          "xaxis": {
           "automargin": true,
           "gridcolor": "white",
           "linecolor": "white",
           "ticks": "",
           "title": {
            "standoff": 15
           },
           "zerolinecolor": "white",
           "zerolinewidth": 2
          },
          "yaxis": {
           "automargin": true,
           "gridcolor": "white",
           "linecolor": "white",
           "ticks": "",
           "title": {
            "standoff": 15
           },
           "zerolinecolor": "white",
           "zerolinewidth": 2
          }
         }
        },
        "title": {
         "text": "BBCA Stock Price January - April 2022"
        },
        "xaxis": {
         "anchor": "y",
         "domain": [
          0,
          0.94
         ],
         "title": {
          "text": "Tanggal"
         }
        },
        "yaxis": {
         "anchor": "x",
         "domain": [
          0,
          1
         ],
         "title": {
          "text": "Stock Price"
         }
        },
        "yaxis2": {
         "anchor": "x",
         "overlaying": "y",
         "side": "right"
        }
       }
      },
      "text/html": [
       "<div>                            <div id=\"2f6447c3-8305-4ac0-8dc0-11f51a420180\" class=\"plotly-graph-div\" style=\"height:525px; width:100%;\"></div>            <script type=\"text/javascript\">                require([\"plotly\"], function(Plotly) {                    window.PLOTLYENV=window.PLOTLYENV || {};                                    if (document.getElementById(\"2f6447c3-8305-4ac0-8dc0-11f51a420180\")) {                    Plotly.newPlot(                        \"2f6447c3-8305-4ac0-8dc0-11f51a420180\",                        [{\"close\":[null,null,7325.0,7400.0,7450.0,7475.0,7650.0,null,null,7600.0,7700.0,7700.0,7700.0,7850.0,null,null,7750.0,7675.0,7675.0,7775.0,7950.0,null,null,7800.0,7775.0,7700.0,7800.0,7775.0,null,null,7625.0,null,7800.0,7725.0,7725.0,null,null,7800.0,7725.0,7950.0,7750.0,7825.0,null,null,7700.0,7875.0,7975.0,7900.0,7925.0,null,null,7950.0,7900.0,8050.0,8000.0,8050.0,null,null,null,8050.0,7975.0,null,7900.0,null,null,7700.0,7650.0,7850.0,7925.0,7950.0,null,null,8075.0,8150.0,8200.0,8000.0,7900.0,null,null,7900.0,7925.0,7900.0,7925.0,7950.0,null,null,7900.0,7850.0,7875.0,7975.0,7850.0],\"high\":[null,null,7400.0,7450.0,7525.0,7525.0,7700.0,null,null,7650.0,7700.0,7700.0,7750.0,7850.0,null,null,7900.0,7775.0,7725.0,7775.0,7950.0,null,null,7850.0,7775.0,7750.0,7800.0,7825.0,null,null,7775.0,null,7800.0,7825.0,7800.0,null,null,7800.0,7850.0,7950.0,7950.0,7825.0,null,null,7775.0,7875.0,7975.0,7925.0,7950.0,null,null,7975.0,7950.0,8100.0,8150.0,8175.0,null,null,null,8175.0,8225.0,null,8025.0,null,null,7850.0,7850.0,7950.0,7975.0,7950.0,null,null,8100.0,8200.0,8275.0,8300.0,8100.0,null,null,7950.0,7950.0,7950.0,7950.0,7950.0,null,null,7900.0,7900.0,7900.0,8000.0,8075.0],\"low\":[null,null,7300.0,7325.0,7375.0,7425.0,7500.0,null,null,7550.0,7625.0,7650.0,7650.0,7650.0,null,null,7700.0,7550.0,7575.0,7625.0,7700.0,null,null,7775.0,7625.0,7650.0,7625.0,7700.0,null,null,7625.0,null,7675.0,7700.0,7700.0,null,null,7700.0,7725.0,7800.0,7750.0,7650.0,null,null,7700.0,7725.0,7825.0,7800.0,7850.0,null,null,7900.0,7850.0,7875.0,7925.0,7925.0,null,null,null,8000.0,7975.0,null,7900.0,null,null,7700.0,7650.0,7650.0,7800.0,7725.0,null,null,7950.0,8075.0,8075.0,8000.0,7900.0,null,null,7800.0,7875.0,7825.0,7800.0,7900.0,null,null,7800.0,7825.0,7825.0,7875.0,7850.0],\"open\":[null,null,7325.0,7325.0,7450.0,7500.0,7550.0,null,null,7575.0,7650.0,7700.0,7700.0,7700.0,null,null,7900.0,7775.0,7650.0,7725.0,7775.0,null,null,7825.0,7675.0,7700.0,7625.0,7800.0,null,null,7775.0,null,7775.0,7800.0,7750.0,null,null,7775.0,7750.0,7850.0,7950.0,7675.0,null,null,7750.0,7750.0,7850.0,7850.0,7950.0,null,null,7925.0,7900.0,7900.0,8125.0,7950.0,null,null,null,8000.0,8225.0,null,7975.0,null,null,7800.0,7700.0,7700.0,7925.0,7725.0,null,null,8050.0,8150.0,8275.0,8300.0,8000.0,null,null,7800.0,7900.0,7925.0,7850.0,7900.0,null,null,7825.0,7875.0,7900.0,7925.0,8075.0],\"x\":[\"2022-01-01T00:00:00\",\"2022-01-02T00:00:00\",\"2022-01-03T00:00:00\",\"2022-01-04T00:00:00\",\"2022-01-05T00:00:00\",\"2022-01-06T00:00:00\",\"2022-01-07T00:00:00\",\"2022-01-08T00:00:00\",\"2022-01-09T00:00:00\",\"2022-01-10T00:00:00\",\"2022-01-11T00:00:00\",\"2022-01-12T00:00:00\",\"2022-01-13T00:00:00\",\"2022-01-14T00:00:00\",\"2022-01-15T00:00:00\",\"2022-01-16T00:00:00\",\"2022-01-17T00:00:00\",\"2022-01-18T00:00:00\",\"2022-01-19T00:00:00\",\"2022-01-20T00:00:00\",\"2022-01-21T00:00:00\",\"2022-01-22T00:00:00\",\"2022-01-23T00:00:00\",\"2022-01-24T00:00:00\",\"2022-01-25T00:00:00\",\"2022-01-26T00:00:00\",\"2022-01-27T00:00:00\",\"2022-01-28T00:00:00\",\"2022-01-29T00:00:00\",\"2022-01-30T00:00:00\",\"2022-01-31T00:00:00\",\"2022-02-01T00:00:00\",\"2022-02-02T00:00:00\",\"2022-02-03T00:00:00\",\"2022-02-04T00:00:00\",\"2022-02-05T00:00:00\",\"2022-02-06T00:00:00\",\"2022-02-07T00:00:00\",\"2022-02-08T00:00:00\",\"2022-02-09T00:00:00\",\"2022-02-10T00:00:00\",\"2022-02-11T00:00:00\",\"2022-02-12T00:00:00\",\"2022-02-13T00:00:00\",\"2022-02-14T00:00:00\",\"2022-02-15T00:00:00\",\"2022-02-16T00:00:00\",\"2022-02-17T00:00:00\",\"2022-02-18T00:00:00\",\"2022-02-19T00:00:00\",\"2022-02-20T00:00:00\",\"2022-02-21T00:00:00\",\"2022-02-22T00:00:00\",\"2022-02-23T00:00:00\",\"2022-02-24T00:00:00\",\"2022-02-25T00:00:00\",\"2022-02-26T00:00:00\",\"2022-02-27T00:00:00\",\"2022-02-28T00:00:00\",\"2022-03-01T00:00:00\",\"2022-03-02T00:00:00\",\"2022-03-03T00:00:00\",\"2022-03-04T00:00:00\",\"2022-03-05T00:00:00\",\"2022-03-06T00:00:00\",\"2022-03-07T00:00:00\",\"2022-03-08T00:00:00\",\"2022-03-09T00:00:00\",\"2022-03-10T00:00:00\",\"2022-03-11T00:00:00\",\"2022-03-12T00:00:00\",\"2022-03-13T00:00:00\",\"2022-03-14T00:00:00\",\"2022-03-15T00:00:00\",\"2022-03-16T00:00:00\",\"2022-03-17T00:00:00\",\"2022-03-18T00:00:00\",\"2022-03-19T00:00:00\",\"2022-03-20T00:00:00\",\"2022-03-21T00:00:00\",\"2022-03-22T00:00:00\",\"2022-03-23T00:00:00\",\"2022-03-24T00:00:00\",\"2022-03-25T00:00:00\",\"2022-03-26T00:00:00\",\"2022-03-27T00:00:00\",\"2022-03-28T00:00:00\",\"2022-03-29T00:00:00\",\"2022-03-30T00:00:00\",\"2022-03-31T00:00:00\",\"2022-04-01T00:00:00\"],\"type\":\"candlestick\"}],                        {\"template\":{\"data\":{\"bar\":[{\"error_x\":{\"color\":\"#2a3f5f\"},\"error_y\":{\"color\":\"#2a3f5f\"},\"marker\":{\"line\":{\"color\":\"#E5ECF6\",\"width\":0.5},\"pattern\":{\"fillmode\":\"overlay\",\"size\":10,\"solidity\":0.2}},\"type\":\"bar\"}],\"barpolar\":[{\"marker\":{\"line\":{\"color\":\"#E5ECF6\",\"width\":0.5},\"pattern\":{\"fillmode\":\"overlay\",\"size\":10,\"solidity\":0.2}},\"type\":\"barpolar\"}],\"carpet\":[{\"aaxis\":{\"endlinecolor\":\"#2a3f5f\",\"gridcolor\":\"white\",\"linecolor\":\"white\",\"minorgridcolor\":\"white\",\"startlinecolor\":\"#2a3f5f\"},\"baxis\":{\"endlinecolor\":\"#2a3f5f\",\"gridcolor\":\"white\",\"linecolor\":\"white\",\"minorgridcolor\":\"white\",\"startlinecolor\":\"#2a3f5f\"},\"type\":\"carpet\"}],\"choropleth\":[{\"colorbar\":{\"outlinewidth\":0,\"ticks\":\"\"},\"type\":\"choropleth\"}],\"contour\":[{\"colorbar\":{\"outlinewidth\":0,\"ticks\":\"\"},\"colorscale\":[[0.0,\"#0d0887\"],[0.1111111111111111,\"#46039f\"],[0.2222222222222222,\"#7201a8\"],[0.3333333333333333,\"#9c179e\"],[0.4444444444444444,\"#bd3786\"],[0.5555555555555556,\"#d8576b\"],[0.6666666666666666,\"#ed7953\"],[0.7777777777777778,\"#fb9f3a\"],[0.8888888888888888,\"#fdca26\"],[1.0,\"#f0f921\"]],\"type\":\"contour\"}],\"contourcarpet\":[{\"colorbar\":{\"outlinewidth\":0,\"ticks\":\"\"},\"type\":\"contourcarpet\"}],\"heatmap\":[{\"colorbar\":{\"outlinewidth\":0,\"ticks\":\"\"},\"colorscale\":[[0.0,\"#0d0887\"],[0.1111111111111111,\"#46039f\"],[0.2222222222222222,\"#7201a8\"],[0.3333333333333333,\"#9c179e\"],[0.4444444444444444,\"#bd3786\"],[0.5555555555555556,\"#d8576b\"],[0.6666666666666666,\"#ed7953\"],[0.7777777777777778,\"#fb9f3a\"],[0.8888888888888888,\"#fdca26\"],[1.0,\"#f0f921\"]],\"type\":\"heatmap\"}],\"heatmapgl\":[{\"colorbar\":{\"outlinewidth\":0,\"ticks\":\"\"},\"colorscale\":[[0.0,\"#0d0887\"],[0.1111111111111111,\"#46039f\"],[0.2222222222222222,\"#7201a8\"],[0.3333333333333333,\"#9c179e\"],[0.4444444444444444,\"#bd3786\"],[0.5555555555555556,\"#d8576b\"],[0.6666666666666666,\"#ed7953\"],[0.7777777777777778,\"#fb9f3a\"],[0.8888888888888888,\"#fdca26\"],[1.0,\"#f0f921\"]],\"type\":\"heatmapgl\"}],\"histogram\":[{\"marker\":{\"pattern\":{\"fillmode\":\"overlay\",\"size\":10,\"solidity\":0.2}},\"type\":\"histogram\"}],\"histogram2d\":[{\"colorbar\":{\"outlinewidth\":0,\"ticks\":\"\"},\"colorscale\":[[0.0,\"#0d0887\"],[0.1111111111111111,\"#46039f\"],[0.2222222222222222,\"#7201a8\"],[0.3333333333333333,\"#9c179e\"],[0.4444444444444444,\"#bd3786\"],[0.5555555555555556,\"#d8576b\"],[0.6666666666666666,\"#ed7953\"],[0.7777777777777778,\"#fb9f3a\"],[0.8888888888888888,\"#fdca26\"],[1.0,\"#f0f921\"]],\"type\":\"histogram2d\"}],\"histogram2dcontour\":[{\"colorbar\":{\"outlinewidth\":0,\"ticks\":\"\"},\"colorscale\":[[0.0,\"#0d0887\"],[0.1111111111111111,\"#46039f\"],[0.2222222222222222,\"#7201a8\"],[0.3333333333333333,\"#9c179e\"],[0.4444444444444444,\"#bd3786\"],[0.5555555555555556,\"#d8576b\"],[0.6666666666666666,\"#ed7953\"],[0.7777777777777778,\"#fb9f3a\"],[0.8888888888888888,\"#fdca26\"],[1.0,\"#f0f921\"]],\"type\":\"histogram2dcontour\"}],\"mesh3d\":[{\"colorbar\":{\"outlinewidth\":0,\"ticks\":\"\"},\"type\":\"mesh3d\"}],\"parcoords\":[{\"line\":{\"colorbar\":{\"outlinewidth\":0,\"ticks\":\"\"}},\"type\":\"parcoords\"}],\"pie\":[{\"automargin\":true,\"type\":\"pie\"}],\"scatter\":[{\"marker\":{\"colorbar\":{\"outlinewidth\":0,\"ticks\":\"\"}},\"type\":\"scatter\"}],\"scatter3d\":[{\"line\":{\"colorbar\":{\"outlinewidth\":0,\"ticks\":\"\"}},\"marker\":{\"colorbar\":{\"outlinewidth\":0,\"ticks\":\"\"}},\"type\":\"scatter3d\"}],\"scattercarpet\":[{\"marker\":{\"colorbar\":{\"outlinewidth\":0,\"ticks\":\"\"}},\"type\":\"scattercarpet\"}],\"scattergeo\":[{\"marker\":{\"colorbar\":{\"outlinewidth\":0,\"ticks\":\"\"}},\"type\":\"scattergeo\"}],\"scattergl\":[{\"marker\":{\"colorbar\":{\"outlinewidth\":0,\"ticks\":\"\"}},\"type\":\"scattergl\"}],\"scattermapbox\":[{\"marker\":{\"colorbar\":{\"outlinewidth\":0,\"ticks\":\"\"}},\"type\":\"scattermapbox\"}],\"scatterpolar\":[{\"marker\":{\"colorbar\":{\"outlinewidth\":0,\"ticks\":\"\"}},\"type\":\"scatterpolar\"}],\"scatterpolargl\":[{\"marker\":{\"colorbar\":{\"outlinewidth\":0,\"ticks\":\"\"}},\"type\":\"scatterpolargl\"}],\"scatterternary\":[{\"marker\":{\"colorbar\":{\"outlinewidth\":0,\"ticks\":\"\"}},\"type\":\"scatterternary\"}],\"surface\":[{\"colorbar\":{\"outlinewidth\":0,\"ticks\":\"\"},\"colorscale\":[[0.0,\"#0d0887\"],[0.1111111111111111,\"#46039f\"],[0.2222222222222222,\"#7201a8\"],[0.3333333333333333,\"#9c179e\"],[0.4444444444444444,\"#bd3786\"],[0.5555555555555556,\"#d8576b\"],[0.6666666666666666,\"#ed7953\"],[0.7777777777777778,\"#fb9f3a\"],[0.8888888888888888,\"#fdca26\"],[1.0,\"#f0f921\"]],\"type\":\"surface\"}],\"table\":[{\"cells\":{\"fill\":{\"color\":\"#EBF0F8\"},\"line\":{\"color\":\"white\"}},\"header\":{\"fill\":{\"color\":\"#C8D4E3\"},\"line\":{\"color\":\"white\"}},\"type\":\"table\"}]},\"layout\":{\"annotationdefaults\":{\"arrowcolor\":\"#2a3f5f\",\"arrowhead\":0,\"arrowwidth\":1},\"autotypenumbers\":\"strict\",\"coloraxis\":{\"colorbar\":{\"outlinewidth\":0,\"ticks\":\"\"}},\"colorscale\":{\"diverging\":[[0,\"#8e0152\"],[0.1,\"#c51b7d\"],[0.2,\"#de77ae\"],[0.3,\"#f1b6da\"],[0.4,\"#fde0ef\"],[0.5,\"#f7f7f7\"],[0.6,\"#e6f5d0\"],[0.7,\"#b8e186\"],[0.8,\"#7fbc41\"],[0.9,\"#4d9221\"],[1,\"#276419\"]],\"sequential\":[[0.0,\"#0d0887\"],[0.1111111111111111,\"#46039f\"],[0.2222222222222222,\"#7201a8\"],[0.3333333333333333,\"#9c179e\"],[0.4444444444444444,\"#bd3786\"],[0.5555555555555556,\"#d8576b\"],[0.6666666666666666,\"#ed7953\"],[0.7777777777777778,\"#fb9f3a\"],[0.8888888888888888,\"#fdca26\"],[1.0,\"#f0f921\"]],\"sequentialminus\":[[0.0,\"#0d0887\"],[0.1111111111111111,\"#46039f\"],[0.2222222222222222,\"#7201a8\"],[0.3333333333333333,\"#9c179e\"],[0.4444444444444444,\"#bd3786\"],[0.5555555555555556,\"#d8576b\"],[0.6666666666666666,\"#ed7953\"],[0.7777777777777778,\"#fb9f3a\"],[0.8888888888888888,\"#fdca26\"],[1.0,\"#f0f921\"]]},\"colorway\":[\"#636efa\",\"#EF553B\",\"#00cc96\",\"#ab63fa\",\"#FFA15A\",\"#19d3f3\",\"#FF6692\",\"#B6E880\",\"#FF97FF\",\"#FECB52\"],\"font\":{\"color\":\"#2a3f5f\"},\"geo\":{\"bgcolor\":\"white\",\"lakecolor\":\"white\",\"landcolor\":\"#E5ECF6\",\"showlakes\":true,\"showland\":true,\"subunitcolor\":\"white\"},\"hoverlabel\":{\"align\":\"left\"},\"hovermode\":\"closest\",\"mapbox\":{\"style\":\"light\"},\"paper_bgcolor\":\"white\",\"plot_bgcolor\":\"#E5ECF6\",\"polar\":{\"angularaxis\":{\"gridcolor\":\"white\",\"linecolor\":\"white\",\"ticks\":\"\"},\"bgcolor\":\"#E5ECF6\",\"radialaxis\":{\"gridcolor\":\"white\",\"linecolor\":\"white\",\"ticks\":\"\"}},\"scene\":{\"xaxis\":{\"backgroundcolor\":\"#E5ECF6\",\"gridcolor\":\"white\",\"gridwidth\":2,\"linecolor\":\"white\",\"showbackground\":true,\"ticks\":\"\",\"zerolinecolor\":\"white\"},\"yaxis\":{\"backgroundcolor\":\"#E5ECF6\",\"gridcolor\":\"white\",\"gridwidth\":2,\"linecolor\":\"white\",\"showbackground\":true,\"ticks\":\"\",\"zerolinecolor\":\"white\"},\"zaxis\":{\"backgroundcolor\":\"#E5ECF6\",\"gridcolor\":\"white\",\"gridwidth\":2,\"linecolor\":\"white\",\"showbackground\":true,\"ticks\":\"\",\"zerolinecolor\":\"white\"}},\"shapedefaults\":{\"line\":{\"color\":\"#2a3f5f\"}},\"ternary\":{\"aaxis\":{\"gridcolor\":\"white\",\"linecolor\":\"white\",\"ticks\":\"\"},\"baxis\":{\"gridcolor\":\"white\",\"linecolor\":\"white\",\"ticks\":\"\"},\"bgcolor\":\"#E5ECF6\",\"caxis\":{\"gridcolor\":\"white\",\"linecolor\":\"white\",\"ticks\":\"\"}},\"title\":{\"x\":0.05},\"xaxis\":{\"automargin\":true,\"gridcolor\":\"white\",\"linecolor\":\"white\",\"ticks\":\"\",\"title\":{\"standoff\":15},\"zerolinecolor\":\"white\",\"zerolinewidth\":2},\"yaxis\":{\"automargin\":true,\"gridcolor\":\"white\",\"linecolor\":\"white\",\"ticks\":\"\",\"title\":{\"standoff\":15},\"zerolinecolor\":\"white\",\"zerolinewidth\":2}}},\"xaxis\":{\"anchor\":\"y\",\"domain\":[0.0,0.94],\"title\":{\"text\":\"Tanggal\"}},\"yaxis\":{\"anchor\":\"x\",\"domain\":[0.0,1.0],\"title\":{\"text\":\"Stock Price\"}},\"yaxis2\":{\"anchor\":\"x\",\"overlaying\":\"y\",\"side\":\"right\"},\"title\":{\"text\":\"BBCA Stock Price January - April 2022\"},\"font\":{\"size\":12}},                        {\"responsive\": true}                    ).then(function(){\n",
       "                            \n",
       "var gd = document.getElementById('2f6447c3-8305-4ac0-8dc0-11f51a420180');\n",
       "var x = new MutationObserver(function (mutations, observer) {{\n",
       "        var display = window.getComputedStyle(gd).display;\n",
       "        if (!display || display === 'none') {{\n",
       "            console.log([gd, 'removed!']);\n",
       "            Plotly.purge(gd);\n",
       "            observer.disconnect();\n",
       "        }}\n",
       "}});\n",
       "\n",
       "// Listen for the removal of the full notebook cells\n",
       "var notebookContainer = gd.closest('#notebook-container');\n",
       "if (notebookContainer) {{\n",
       "    x.observe(notebookContainer, {childList: true});\n",
       "}}\n",
       "\n",
       "// Listen for the clearing of the current output cell\n",
       "var outputEl = gd.closest('.output');\n",
       "if (outputEl) {{\n",
       "    x.observe(outputEl, {childList: true});\n",
       "}}\n",
       "\n",
       "                        })                };                });            </script>        </div>"
      ]
     },
     "metadata": {},
     "output_type": "display_data"
    }
   ],
   "source": [
    "# grafik saham sebelum interpolasi\n",
    "\n",
    "fig3 = make_subplots(specs=[[{\"secondary_y\": True}]])\n",
    "fig3.add_trace(go.Candlestick(x=new_df['Date'],\n",
    "                              open=new_df['Open'],\n",
    "                              high=new_df['High'],\n",
    "                              low=new_df['Low'],\n",
    "                              close=new_df['Close'],\n",
    "                             ))\n",
    "fig3.update_layout(title_text='BBCA Stock Price January - April 2022',font=dict(size=12),\n",
    "                 xaxis_title_text=\"Tanggal\", yaxis_title_text=\"Stock Price\")"
   ]
  },
  {
   "cell_type": "markdown",
   "id": "515f6ceb",
   "metadata": {},
   "source": [
    "dari candlestick diatas, terdapat pola pada data yang kosong, yaitu data kosong setelah 5 hari, kemungkinan data kosong pada weekend (sabtu,minggu)"
   ]
  },
  {
   "cell_type": "markdown",
   "id": "534ef2fa",
   "metadata": {},
   "source": [
    "# Interpolasi (pengisian data null pada stock price)"
   ]
  },
  {
   "cell_type": "code",
   "execution_count": 6,
   "id": "a4d46c0b",
   "metadata": {},
   "outputs": [
    {
     "data": {
      "text/html": [
       "<div>\n",
       "<style scoped>\n",
       "    .dataframe tbody tr th:only-of-type {\n",
       "        vertical-align: middle;\n",
       "    }\n",
       "\n",
       "    .dataframe tbody tr th {\n",
       "        vertical-align: top;\n",
       "    }\n",
       "\n",
       "    .dataframe thead th {\n",
       "        text-align: right;\n",
       "    }\n",
       "</style>\n",
       "<table border=\"1\" class=\"dataframe\">\n",
       "  <thead>\n",
       "    <tr style=\"text-align: right;\">\n",
       "      <th></th>\n",
       "      <th>Date</th>\n",
       "      <th>Open</th>\n",
       "      <th>High</th>\n",
       "      <th>Low</th>\n",
       "      <th>Close</th>\n",
       "      <th>Adj Close</th>\n",
       "      <th>Volume</th>\n",
       "    </tr>\n",
       "  </thead>\n",
       "  <tbody>\n",
       "    <tr>\n",
       "      <th>0</th>\n",
       "      <td>2022-01-01</td>\n",
       "      <td>7325.0</td>\n",
       "      <td>7400.0</td>\n",
       "      <td>7300.0</td>\n",
       "      <td>7325.0</td>\n",
       "      <td>7214.434082</td>\n",
       "      <td>54287400.0</td>\n",
       "    </tr>\n",
       "    <tr>\n",
       "      <th>1</th>\n",
       "      <td>2022-01-02</td>\n",
       "      <td>7325.0</td>\n",
       "      <td>7400.0</td>\n",
       "      <td>7300.0</td>\n",
       "      <td>7325.0</td>\n",
       "      <td>7214.434082</td>\n",
       "      <td>54287400.0</td>\n",
       "    </tr>\n",
       "    <tr>\n",
       "      <th>2</th>\n",
       "      <td>2022-01-03</td>\n",
       "      <td>7325.0</td>\n",
       "      <td>7400.0</td>\n",
       "      <td>7300.0</td>\n",
       "      <td>7325.0</td>\n",
       "      <td>7214.434082</td>\n",
       "      <td>54287400.0</td>\n",
       "    </tr>\n",
       "    <tr>\n",
       "      <th>3</th>\n",
       "      <td>2022-01-04</td>\n",
       "      <td>7325.0</td>\n",
       "      <td>7450.0</td>\n",
       "      <td>7325.0</td>\n",
       "      <td>7400.0</td>\n",
       "      <td>7288.301758</td>\n",
       "      <td>70624000.0</td>\n",
       "    </tr>\n",
       "    <tr>\n",
       "      <th>4</th>\n",
       "      <td>2022-01-05</td>\n",
       "      <td>7450.0</td>\n",
       "      <td>7525.0</td>\n",
       "      <td>7375.0</td>\n",
       "      <td>7450.0</td>\n",
       "      <td>7337.547363</td>\n",
       "      <td>76164900.0</td>\n",
       "    </tr>\n",
       "    <tr>\n",
       "      <th>...</th>\n",
       "      <td>...</td>\n",
       "      <td>...</td>\n",
       "      <td>...</td>\n",
       "      <td>...</td>\n",
       "      <td>...</td>\n",
       "      <td>...</td>\n",
       "      <td>...</td>\n",
       "    </tr>\n",
       "    <tr>\n",
       "      <th>86</th>\n",
       "      <td>2022-03-28</td>\n",
       "      <td>7825.0</td>\n",
       "      <td>7900.0</td>\n",
       "      <td>7800.0</td>\n",
       "      <td>7900.0</td>\n",
       "      <td>7900.000000</td>\n",
       "      <td>83911500.0</td>\n",
       "    </tr>\n",
       "    <tr>\n",
       "      <th>87</th>\n",
       "      <td>2022-03-29</td>\n",
       "      <td>7875.0</td>\n",
       "      <td>7900.0</td>\n",
       "      <td>7825.0</td>\n",
       "      <td>7850.0</td>\n",
       "      <td>7850.000000</td>\n",
       "      <td>62180600.0</td>\n",
       "    </tr>\n",
       "    <tr>\n",
       "      <th>88</th>\n",
       "      <td>2022-03-30</td>\n",
       "      <td>7900.0</td>\n",
       "      <td>7900.0</td>\n",
       "      <td>7825.0</td>\n",
       "      <td>7875.0</td>\n",
       "      <td>7875.000000</td>\n",
       "      <td>71430600.0</td>\n",
       "    </tr>\n",
       "    <tr>\n",
       "      <th>89</th>\n",
       "      <td>2022-03-31</td>\n",
       "      <td>7925.0</td>\n",
       "      <td>8000.0</td>\n",
       "      <td>7875.0</td>\n",
       "      <td>7975.0</td>\n",
       "      <td>7975.000000</td>\n",
       "      <td>112691900.0</td>\n",
       "    </tr>\n",
       "    <tr>\n",
       "      <th>90</th>\n",
       "      <td>2022-04-01</td>\n",
       "      <td>8075.0</td>\n",
       "      <td>8075.0</td>\n",
       "      <td>7850.0</td>\n",
       "      <td>7850.0</td>\n",
       "      <td>7850.000000</td>\n",
       "      <td>54491800.0</td>\n",
       "    </tr>\n",
       "  </tbody>\n",
       "</table>\n",
       "<p>91 rows × 7 columns</p>\n",
       "</div>"
      ],
      "text/plain": [
       "         Date    Open    High     Low   Close    Adj Close       Volume\n",
       "0  2022-01-01  7325.0  7400.0  7300.0  7325.0  7214.434082   54287400.0\n",
       "1  2022-01-02  7325.0  7400.0  7300.0  7325.0  7214.434082   54287400.0\n",
       "2  2022-01-03  7325.0  7400.0  7300.0  7325.0  7214.434082   54287400.0\n",
       "3  2022-01-04  7325.0  7450.0  7325.0  7400.0  7288.301758   70624000.0\n",
       "4  2022-01-05  7450.0  7525.0  7375.0  7450.0  7337.547363   76164900.0\n",
       "..        ...     ...     ...     ...     ...          ...          ...\n",
       "86 2022-03-28  7825.0  7900.0  7800.0  7900.0  7900.000000   83911500.0\n",
       "87 2022-03-29  7875.0  7900.0  7825.0  7850.0  7850.000000   62180600.0\n",
       "88 2022-03-30  7900.0  7900.0  7825.0  7875.0  7875.000000   71430600.0\n",
       "89 2022-03-31  7925.0  8000.0  7875.0  7975.0  7975.000000  112691900.0\n",
       "90 2022-04-01  8075.0  8075.0  7850.0  7850.0  7850.000000   54491800.0\n",
       "\n",
       "[91 rows x 7 columns]"
      ]
     },
     "execution_count": 6,
     "metadata": {},
     "output_type": "execute_result"
    }
   ],
   "source": [
    "data_saham = new_df.copy()\n",
    "data_saham = data_saham.interpolate(method ='linear', limit_direction ='backward')\n",
    "data_saham"
   ]
  },
  {
   "cell_type": "code",
   "execution_count": 9,
   "id": "9655d32f",
   "metadata": {},
   "outputs": [
    {
     "data": {
      "image/png": "[encoded data removed]",
      "text/plain": [
       "<Figure size 1296x648 with 1 Axes>"
      ]
     },
     "metadata": {},
     "output_type": "display_data"
    }
   ],
   "source": [
    "plt.figure(figsize=(18,9))\n",
    "sns.lineplot(data=data_saham, x='Date',y='Close')\n",
    "sns.set_theme()"
   ]
  },
  {
   "cell_type": "code",
   "execution_count": 9,
   "id": "ddaa483c",
   "metadata": {},
   "outputs": [],
   "source": [
    "data_saham.to_csv('bca_full.csv', index=False)"
   ]
  },
  {
   "cell_type": "code",
   "execution_count": 14,
   "id": "da974f58",
   "metadata": {},
   "outputs": [
    {
     "name": "stdout",
     "output_type": "stream",
     "text": [
      "<class 'pandas.core.frame.DataFrame'>\n",
      "RangeIndex: 91 entries, 0 to 90\n",
      "Data columns (total 7 columns):\n",
      " #   Column     Non-Null Count  Dtype         \n",
      "---  ------     --------------  -----         \n",
      " 0   Date       91 non-null     datetime64[ns]\n",
      " 1   Open       91 non-null     float64       \n",
      " 2   High       91 non-null     float64       \n",
      " 3   Low        91 non-null     float64       \n",
      " 4   Close      91 non-null     float64       \n",
      " 5   Adj Close  91 non-null     float64       \n",
      " 6   Volume     91 non-null     float64       \n",
      "dtypes: datetime64[ns](1), float64(6)\n",
      "memory usage: 5.1 KB\n"
     ]
    }
   ],
   "source": [
    "data_saham = pd.read_csv('data/bca_full.csv')\n",
    "data_saham['Date'] = pd.to_datetime(data_saham['Date'])\n",
    "data_saham.info()"
   ]
  },
  {
   "cell_type": "code",
   "execution_count": 15,
   "id": "81bc3c1e",
   "metadata": {},
   "outputs": [
    {
     "data": {
      "application/vnd.plotly.v1+json": {
       "config": {
        "plotlyServerURL": "https://plot.ly"
       },
       "data": [
        {
         "close": [
          7325,
          7325,
          7325,
          7400,
          7450,
          7475,
          7650,
          7633.333333333333,
          7616.666666666667,
          7600,
          7700,
          7700,
          7700,
          7850,
          7816.666666666667,
          7783.333333333333,
          7750,
          7675,
          7675,
          7775,
          7950,
          7900,
          7850,
          7800,
          7775,
          7700,
          7800,
          7775,
          7725,
          7675,
          7625,
          7712.5,
          7800,
          7725,
          7725,
          7750,
          7775,
          7800,
          7725,
          7950,
          7750,
          7825,
          7783.333333333333,
          7741.666666666667,
          7700,
          7875,
          7975,
          7900,
          7925,
          7933.333333333333,
          7941.666666666667,
          7950,
          7900,
          8050,
          8000,
          8050,
          8050,
          8050,
          8050,
          8050,
          7975,
          7937.5,
          7900,
          7833.333333333333,
          7766.666666666667,
          7700,
          7650,
          7850,
          7925,
          7950,
          7991.666666666667,
          8033.333333333333,
          8075,
          8150,
          8200,
          8000,
          7900,
          7900,
          7900,
          7900,
          7925,
          7900,
          7925,
          7950,
          7933.333333333333,
          7916.666666666667,
          7900,
          7850,
          7875,
          7975,
          7850
         ],
         "high": [
          7400,
          7400,
          7400,
          7450,
          7525,
          7525,
          7700,
          7683.333333333333,
          7666.666666666667,
          7650,
          7700,
          7700,
          7750,
          7850,
          7866.666666666667,
          7883.333333333333,
          7900,
          7775,
          7725,
          7775,
          7950,
          7916.666666666667,
          7883.333333333333,
          7850,
          7775,
          7750,
          7800,
          7825,
          7808.333333333333,
          7791.666666666667,
          7775,
          7787.5,
          7800,
          7825,
          7800,
          7800,
          7800,
          7800,
          7850,
          7950,
          7950,
          7825,
          7808.333333333333,
          7791.666666666667,
          7775,
          7875,
          7975,
          7925,
          7950,
          7958.333333333333,
          7966.666666666667,
          7975,
          7950,
          8100,
          8150,
          8175,
          8175,
          8175,
          8175,
          8175,
          8225,
          8125,
          8025,
          7966.666666666667,
          7908.333333333333,
          7850,
          7850,
          7950,
          7975,
          7950,
          8000,
          8050,
          8100,
          8200,
          8275,
          8300,
          8100,
          8050,
          8000,
          7950,
          7950,
          7950,
          7950,
          7950,
          7933.333333333333,
          7916.666666666667,
          7900,
          7900,
          7900,
          8000,
          8075
         ],
         "low": [
          7300,
          7300,
          7300,
          7325,
          7375,
          7425,
          7500,
          7516.666666666667,
          7533.333333333333,
          7550,
          7625,
          7650,
          7650,
          7650,
          7666.666666666667,
          7683.333333333333,
          7700,
          7550,
          7575,
          7625,
          7700,
          7725,
          7750,
          7775,
          7625,
          7650,
          7625,
          7700,
          7675,
          7650,
          7625,
          7650,
          7675,
          7700,
          7700,
          7700,
          7700,
          7700,
          7725,
          7800,
          7750,
          7650,
          7666.666666666667,
          7683.333333333333,
          7700,
          7725,
          7825,
          7800,
          7850,
          7866.666666666667,
          7883.333333333333,
          7900,
          7850,
          7875,
          7925,
          7925,
          7943.75,
          7962.5,
          7981.25,
          8000,
          7975,
          7937.5,
          7900,
          7833.333333333333,
          7766.666666666667,
          7700,
          7650,
          7650,
          7800,
          7725,
          7800,
          7875,
          7950,
          8075,
          8075,
          8000,
          7900,
          7866.666666666667,
          7833.333333333333,
          7800,
          7875,
          7825,
          7800,
          7900,
          7866.666666666667,
          7833.333333333333,
          7800,
          7825,
          7825,
          7875,
          7850
         ],
         "open": [
          7325,
          7325,
          7325,
          7325,
          7450,
          7500,
          7550,
          7558.333333333333,
          7566.666666666667,
          7575,
          7650,
          7700,
          7700,
          7700,
          7766.666666666667,
          7833.333333333333,
          7900,
          7775,
          7650,
          7725,
          7775,
          7791.666666666667,
          7808.333333333333,
          7825,
          7675,
          7700,
          7625,
          7800,
          7791.666666666667,
          7783.333333333333,
          7775,
          7775,
          7775,
          7800,
          7750,
          7758.333333333333,
          7766.666666666667,
          7775,
          7750,
          7850,
          7950,
          7675,
          7700,
          7725,
          7750,
          7750,
          7850,
          7850,
          7950,
          7941.666666666667,
          7933.333333333333,
          7925,
          7900,
          7900,
          8125,
          7950,
          7962.5,
          7975,
          7987.5,
          8000,
          8225,
          8100,
          7975,
          7916.666666666667,
          7858.333333333333,
          7800,
          7700,
          7700,
          7925,
          7725,
          7833.333333333333,
          7941.666666666667,
          8050,
          8150,
          8275,
          8300,
          8000,
          7933.333333333333,
          7866.666666666667,
          7800,
          7900,
          7925,
          7850,
          7900,
          7875,
          7850,
          7825,
          7875,
          7900,
          7925,
          8075
         ],
         "type": "candlestick",
         "x": [
          "2022-01-01T00:00:00",
          "2022-01-02T00:00:00",
          "2022-01-03T00:00:00",
          "2022-01-04T00:00:00",
          "2022-01-05T00:00:00",
          "2022-01-06T00:00:00",
          "2022-01-07T00:00:00",
          "2022-01-08T00:00:00",
          "2022-01-09T00:00:00",
          "2022-01-10T00:00:00",
          "2022-01-11T00:00:00",
          "2022-01-12T00:00:00",
          "2022-01-13T00:00:00",
          "2022-01-14T00:00:00",
          "2022-01-15T00:00:00",
          "2022-01-16T00:00:00",
          "2022-01-17T00:00:00",
          "2022-01-18T00:00:00",
          "2022-01-19T00:00:00",
          "2022-01-20T00:00:00",
          "2022-01-21T00:00:00",
          "2022-01-22T00:00:00",
          "2022-01-23T00:00:00",
          "2022-01-24T00:00:00",
          "2022-01-25T00:00:00",
          "2022-01-26T00:00:00",
          "2022-01-27T00:00:00",
          "2022-01-28T00:00:00",
          "2022-01-29T00:00:00",
          "2022-01-30T00:00:00",
          "2022-01-31T00:00:00",
          "2022-02-01T00:00:00",
          "2022-02-02T00:00:00",
          "2022-02-03T00:00:00",
          "2022-02-04T00:00:00",
          "2022-02-05T00:00:00",
          "2022-02-06T00:00:00",
          "2022-02-07T00:00:00",
          "2022-02-08T00:00:00",
          "2022-02-09T00:00:00",
          "2022-02-10T00:00:00",
          "2022-02-11T00:00:00",
          "2022-02-12T00:00:00",
          "2022-02-13T00:00:00",
          "2022-02-14T00:00:00",
          "2022-02-15T00:00:00",
          "2022-02-16T00:00:00",
          "2022-02-17T00:00:00",
          "2022-02-18T00:00:00",
          "2022-02-19T00:00:00",
          "2022-02-20T00:00:00",
          "2022-02-21T00:00:00",
          "2022-02-22T00:00:00",
          "2022-02-23T00:00:00",
          "2022-02-24T00:00:00",
          "2022-02-25T00:00:00",
          "2022-02-26T00:00:00",
          "2022-02-27T00:00:00",
          "2022-02-28T00:00:00",
          "2022-03-01T00:00:00",
          "2022-03-02T00:00:00",
          "2022-03-03T00:00:00",
          "2022-03-04T00:00:00",
          "2022-03-05T00:00:00",
          "2022-03-06T00:00:00",
          "2022-03-07T00:00:00",
          "2022-03-08T00:00:00",
          "2022-03-09T00:00:00",
          "2022-03-10T00:00:00",
          "2022-03-11T00:00:00",
          "2022-03-12T00:00:00",
          "2022-03-13T00:00:00",
          "2022-03-14T00:00:00",
          "2022-03-15T00:00:00",
          "2022-03-16T00:00:00",
          "2022-03-17T00:00:00",
          "2022-03-18T00:00:00",
          "2022-03-19T00:00:00",
          "2022-03-20T00:00:00",
          "2022-03-21T00:00:00",
          "2022-03-22T00:00:00",
          "2022-03-23T00:00:00",
          "2022-03-24T00:00:00",
          "2022-03-25T00:00:00",
          "2022-03-26T00:00:00",
          "2022-03-27T00:00:00",
          "2022-03-28T00:00:00",
          "2022-03-29T00:00:00",
          "2022-03-30T00:00:00",
          "2022-03-31T00:00:00",
          "2022-04-01T00:00:00"
         ]
        }
       ],
       "layout": {
        "font": {
         "size": 12
        },
        "template": {
         "data": {
          "bar": [
           {
            "error_x": {
             "color": "#2a3f5f"
            },
            "error_y": {
             "color": "#2a3f5f"
            },
            "marker": {
             "line": {
              "color": "#E5ECF6",
              "width": 0.5
             },
             "pattern": {
              "fillmode": "overlay",
              "size": 10,
              "solidity": 0.2
             }
            },
            "type": "bar"
           }
          ],
          "barpolar": [
           {
            "marker": {
             "line": {
              "color": "#E5ECF6",
              "width": 0.5
             },
             "pattern": {
              "fillmode": "overlay",
              "size": 10,
              "solidity": 0.2
             }
            },
            "type": "barpolar"
           }
          ],
          "carpet": [
           {
            "aaxis": {
             "endlinecolor": "#2a3f5f",
             "gridcolor": "white",
             "linecolor": "white",
             "minorgridcolor": "white",
             "startlinecolor": "#2a3f5f"
            },
            "baxis": {
             "endlinecolor": "#2a3f5f",
             "gridcolor": "white",
             "linecolor": "white",
             "minorgridcolor": "white",
             "startlinecolor": "#2a3f5f"
            },
            "type": "carpet"
           }
          ],
          "choropleth": [
           {
            "colorbar": {
             "outlinewidth": 0,
             "ticks": ""
            },
            "type": "choropleth"
           }
          ],
          "contour": [
           {
            "colorbar": {
             "outlinewidth": 0,
             "ticks": ""
            },
            "colorscale": [
             [
              0,
              "#0d0887"
             ],
             [
              0.1111111111111111,
              "#46039f"
             ],
             [
              0.2222222222222222,
              "#7201a8"
             ],
             [
              0.3333333333333333,
              "#9c179e"
             ],
             [
              0.4444444444444444,
              "#bd3786"
             ],
             [
              0.5555555555555556,
              "#d8576b"
             ],
             [
              0.6666666666666666,
              "#ed7953"
             ],
             [
              0.7777777777777778,
              "#fb9f3a"
             ],
             [
              0.8888888888888888,
              "#fdca26"
             ],
             [
              1,
              "#f0f921"
             ]
            ],
            "type": "contour"
           }
          ],
          "contourcarpet": [
           {
            "colorbar": {
             "outlinewidth": 0,
             "ticks": ""
            },
            "type": "contourcarpet"
           }
          ],
          "heatmap": [
           {
            "colorbar": {
             "outlinewidth": 0,
             "ticks": ""
            },
            "colorscale": [
             [
              0,
              "#0d0887"
             ],
             [
              0.1111111111111111,
              "#46039f"
             ],
             [
              0.2222222222222222,
              "#7201a8"
             ],
             [
              0.3333333333333333,
              "#9c179e"
             ],
             [
              0.4444444444444444,
              "#bd3786"
             ],
             [
              0.5555555555555556,
              "#d8576b"
             ],
             [
              0.6666666666666666,
              "#ed7953"
             ],
             [
              0.7777777777777778,
              "#fb9f3a"
             ],
             [
              0.8888888888888888,
              "#fdca26"
             ],
             [
              1,
              "#f0f921"
             ]
            ],
            "type": "heatmap"
           }
          ],
          "heatmapgl": [
           {
            "colorbar": {
             "outlinewidth": 0,
             "ticks": ""
            },
            "colorscale": [
             [
              0,
              "#0d0887"
             ],
             [
              0.1111111111111111,
              "#46039f"
             ],
             [
              0.2222222222222222,
              "#7201a8"
             ],
             [
              0.3333333333333333,
              "#9c179e"
             ],
             [
              0.4444444444444444,
              "#bd3786"
             ],
             [
              0.5555555555555556,
              "#d8576b"
             ],
             [
              0.6666666666666666,
              "#ed7953"
             ],
             [
              0.7777777777777778,
              "#fb9f3a"
             ],
             [
              0.8888888888888888,
              "#fdca26"
             ],
             [
              1,
              "#f0f921"
             ]
            ],
            "type": "heatmapgl"
           }
          ],
          "histogram": [
           {
            "marker": {
             "pattern": {
              "fillmode": "overlay",
              "size": 10,
              "solidity": 0.2
             }
            },
            "type": "histogram"
           }
          ],
          "histogram2d": [
           {
            "colorbar": {
             "outlinewidth": 0,
             "ticks": ""
            },
            "colorscale": [
             [
              0,
              "#0d0887"
             ],
             [
              0.1111111111111111,
              "#46039f"
             ],
             [
              0.2222222222222222,
              "#7201a8"
             ],
             [
              0.3333333333333333,
              "#9c179e"
             ],
             [
              0.4444444444444444,
              "#bd3786"
             ],
             [
              0.5555555555555556,
              "#d8576b"
             ],
             [
              0.6666666666666666,
              "#ed7953"
             ],
             [
              0.7777777777777778,
              "#fb9f3a"
             ],
             [
              0.8888888888888888,
              "#fdca26"
             ],
             [
              1,
              "#f0f921"
             ]
            ],
            "type": "histogram2d"
           }
          ],
          "histogram2dcontour": [
           {
            "colorbar": {
             "outlinewidth": 0,
             "ticks": ""
            },
            "colorscale": [
             [
              0,
              "#0d0887"
             ],
             [
              0.1111111111111111,
              "#46039f"
             ],
             [
              0.2222222222222222,
              "#7201a8"
             ],
             [
              0.3333333333333333,
              "#9c179e"
             ],
             [
              0.4444444444444444,
              "#bd3786"
             ],
             [
              0.5555555555555556,
              "#d8576b"
             ],
             [
              0.6666666666666666,
              "#ed7953"
             ],
             [
              0.7777777777777778,
              "#fb9f3a"
             ],
             [
              0.8888888888888888,
              "#fdca26"
             ],
             [
              1,
              "#f0f921"
             ]
            ],
            "type": "histogram2dcontour"
           }
          ],
          "mesh3d": [
           {
            "colorbar": {
             "outlinewidth": 0,
             "ticks": ""
            },
            "type": "mesh3d"
           }
          ],
          "parcoords": [
           {
            "line": {
             "colorbar": {
              "outlinewidth": 0,
              "ticks": ""
             }
            },
            "type": "parcoords"
           }
          ],
          "pie": [
           {
            "automargin": true,
            "type": "pie"
           }
          ],
          "scatter": [
           {
            "marker": {
             "colorbar": {
              "outlinewidth": 0,
              "ticks": ""
             }
            },
            "type": "scatter"
           }
          ],
          "scatter3d": [
           {
            "line": {
             "colorbar": {
              "outlinewidth": 0,
              "ticks": ""
             }
            },
            "marker": {
             "colorbar": {
              "outlinewidth": 0,
              "ticks": ""
             }
            },
            "type": "scatter3d"
           }
          ],
          "scattercarpet": [
           {
            "marker": {
             "colorbar": {
              "outlinewidth": 0,
              "ticks": ""
             }
            },
            "type": "scattercarpet"
           }
          ],
          "scattergeo": [
           {
            "marker": {
             "colorbar": {
              "outlinewidth": 0,
              "ticks": ""
             }
            },
            "type": "scattergeo"
           }
          ],
          "scattergl": [
           {
            "marker": {
             "colorbar": {
              "outlinewidth": 0,
              "ticks": ""
             }
            },
            "type": "scattergl"
           }
          ],
          "scattermapbox": [
           {
            "marker": {
             "colorbar": {
              "outlinewidth": 0,
              "ticks": ""
             }
            },
            "type": "scattermapbox"
           }
          ],
          "scatterpolar": [
           {
            "marker": {
             "colorbar": {
              "outlinewidth": 0,
              "ticks": ""
             }
            },
            "type": "scatterpolar"
           }
          ],
          "scatterpolargl": [
           {
            "marker": {
             "colorbar": {
              "outlinewidth": 0,
              "ticks": ""
             }
            },
            "type": "scatterpolargl"
           }
          ],
          "scatterternary": [
           {
            "marker": {
             "colorbar": {
              "outlinewidth": 0,
              "ticks": ""
             }
            },
            "type": "scatterternary"
           }
          ],
          "surface": [
           {
            "colorbar": {
             "outlinewidth": 0,
             "ticks": ""
            },
            "colorscale": [
             [
              0,
              "#0d0887"
             ],
             [
              0.1111111111111111,
              "#46039f"
             ],
             [
              0.2222222222222222,
              "#7201a8"
             ],
             [
              0.3333333333333333,
              "#9c179e"
             ],
             [
              0.4444444444444444,
              "#bd3786"
             ],
             [
              0.5555555555555556,
              "#d8576b"
             ],
             [
              0.6666666666666666,
              "#ed7953"
             ],
             [
              0.7777777777777778,
              "#fb9f3a"
             ],
             [
              0.8888888888888888,
              "#fdca26"
             ],
             [
              1,
              "#f0f921"
             ]
            ],
            "type": "surface"
           }
          ],
          "table": [
           {
            "cells": {
             "fill": {
              "color": "#EBF0F8"
             },
             "line": {
              "color": "white"
             }
            },
            "header": {
             "fill": {
              "color": "#C8D4E3"
             },
             "line": {
              "color": "white"
             }
            },
            "type": "table"
           }
          ]
         },
         "layout": {
          "annotationdefaults": {
           "arrowcolor": "#2a3f5f",
           "arrowhead": 0,
           "arrowwidth": 1
          },
          "autotypenumbers": "strict",
          "coloraxis": {
           "colorbar": {
            "outlinewidth": 0,
            "ticks": ""
           }
          },
          "colorscale": {
           "diverging": [
            [
             0,
             "#8e0152"
            ],
            [
             0.1,
             "#c51b7d"
            ],
            [
             0.2,
             "#de77ae"
            ],
            [
             0.3,
             "#f1b6da"
            ],
            [
             0.4,
             "#fde0ef"
            ],
            [
             0.5,
             "#f7f7f7"
            ],
            [
             0.6,
             "#e6f5d0"
            ],
            [
             0.7,
             "#b8e186"
            ],
            [
             0.8,
             "#7fbc41"
            ],
            [
             0.9,
             "#4d9221"
            ],
            [
             1,
             "#276419"
            ]
           ],
           "sequential": [
            [
             0,
             "#0d0887"
            ],
            [
             0.1111111111111111,
             "#46039f"
            ],
            [
             0.2222222222222222,
             "#7201a8"
            ],
            [
             0.3333333333333333,
             "#9c179e"
            ],
            [
             0.4444444444444444,
             "#bd3786"
            ],
            [
             0.5555555555555556,
             "#d8576b"
            ],
            [
             0.6666666666666666,
             "#ed7953"
            ],
            [
             0.7777777777777778,
             "#fb9f3a"
            ],
            [
             0.8888888888888888,
             "#fdca26"
            ],
            [
             1,
             "#f0f921"
            ]
           ],
           "sequentialminus": [
            [
             0,
             "#0d0887"
            ],
            [
             0.1111111111111111,
             "#46039f"
            ],
            [
             0.2222222222222222,
             "#7201a8"
            ],
            [
             0.3333333333333333,
             "#9c179e"
            ],
            [
             0.4444444444444444,
             "#bd3786"
            ],
            [
             0.5555555555555556,
             "#d8576b"
            ],
            [
             0.6666666666666666,
             "#ed7953"
            ],
            [
             0.7777777777777778,
             "#fb9f3a"
            ],
            [
             0.8888888888888888,
             "#fdca26"
            ],
            [
             1,
             "#f0f921"
            ]
           ]
          },
          "colorway": [
           "#636efa",
           "#EF553B",
           "#00cc96",
           "#ab63fa",
           "#FFA15A",
           "#19d3f3",
           "#FF6692",
           "#B6E880",
           "#FF97FF",
           "#FECB52"
          ],
          "font": {
           "color": "#2a3f5f"
          },
          "geo": {
           "bgcolor": "white",
           "lakecolor": "white",
           "landcolor": "#E5ECF6",
           "showlakes": true,
           "showland": true,
           "subunitcolor": "white"
          },
          "hoverlabel": {
           "align": "left"
          },
          "hovermode": "closest",
          "mapbox": {
           "style": "light"
          },
          "paper_bgcolor": "white",
          "plot_bgcolor": "#E5ECF6",
          "polar": {
           "angularaxis": {
            "gridcolor": "white",
            "linecolor": "white",
            "ticks": ""
           },
           "bgcolor": "#E5ECF6",
           "radialaxis": {
            "gridcolor": "white",
            "linecolor": "white",
            "ticks": ""
           }
          },
          "scene": {
           "xaxis": {
            "backgroundcolor": "#E5ECF6",
            "gridcolor": "white",
            "gridwidth": 2,
            "linecolor": "white",
            "showbackground": true,
            "ticks": "",
            "zerolinecolor": "white"
           },
           "yaxis": {
            "backgroundcolor": "#E5ECF6",
            "gridcolor": "white",
            "gridwidth": 2,
            "linecolor": "white",
            "showbackground": true,
            "ticks": "",
            "zerolinecolor": "white"
           },
           "zaxis": {
            "backgroundcolor": "#E5ECF6",
            "gridcolor": "white",
            "gridwidth": 2,
            "linecolor": "white",
            "showbackground": true,
            "ticks": "",
            "zerolinecolor": "white"
           }
          },
          "shapedefaults": {
           "line": {
            "color": "#2a3f5f"
           }
          },
          "ternary": {
           "aaxis": {
            "gridcolor": "white",
            "linecolor": "white",
            "ticks": ""
           },
           "baxis": {
            "gridcolor": "white",
            "linecolor": "white",
            "ticks": ""
           },
           "bgcolor": "#E5ECF6",
           "caxis": {
            "gridcolor": "white",
            "linecolor": "white",
            "ticks": ""
           }
          },
          "title": {
           "x": 0.05
          },
          "xaxis": {
           "automargin": true,
           "gridcolor": "white",
           "linecolor": "white",
           "ticks": "",
           "title": {
            "standoff": 15
           },
           "zerolinecolor": "white",
           "zerolinewidth": 2
          },
          "yaxis": {
           "automargin": true,
           "gridcolor": "white",
           "linecolor": "white",
           "ticks": "",
           "title": {
            "standoff": 15
           },
           "zerolinecolor": "white",
           "zerolinewidth": 2
          }
         }
        },
        "title": {
         "text": "BBCA Stock Price January - April 2022"
        },
        "xaxis": {
         "anchor": "y",
         "domain": [
          0,
          0.94
         ],
         "title": {
          "text": "Tanggal"
         }
        },
        "yaxis": {
         "anchor": "x",
         "domain": [
          0,
          1
         ],
         "title": {
          "text": "Stock Price"
         }
        },
        "yaxis2": {
         "anchor": "x",
         "overlaying": "y",
         "side": "right"
        }
       }
      },
      "text/html": [
       "<div>                            <div id=\"7b6a18a5-13b5-4eca-b45e-caa9f9c4a877\" class=\"plotly-graph-div\" style=\"height:525px; width:100%;\"></div>            <script type=\"text/javascript\">                require([\"plotly\"], function(Plotly) {                    window.PLOTLYENV=window.PLOTLYENV || {};                                    if (document.getElementById(\"7b6a18a5-13b5-4eca-b45e-caa9f9c4a877\")) {                    Plotly.newPlot(                        \"7b6a18a5-13b5-4eca-b45e-caa9f9c4a877\",                        [{\"close\":[7325.0,7325.0,7325.0,7400.0,7450.0,7475.0,7650.0,7633.333333333333,7616.666666666667,7600.0,7700.0,7700.0,7700.0,7850.0,7816.666666666667,7783.333333333333,7750.0,7675.0,7675.0,7775.0,7950.0,7900.0,7850.0,7800.0,7775.0,7700.0,7800.0,7775.0,7725.0,7675.0,7625.0,7712.5,7800.0,7725.0,7725.0,7750.0,7775.0,7800.0,7725.0,7950.0,7750.0,7825.0,7783.333333333333,7741.666666666667,7700.0,7875.0,7975.0,7900.0,7925.0,7933.333333333333,7941.666666666667,7950.0,7900.0,8050.0,8000.0,8050.0,8050.0,8050.0,8050.0,8050.0,7975.0,7937.5,7900.0,7833.333333333333,7766.666666666667,7700.0,7650.0,7850.0,7925.0,7950.0,7991.666666666667,8033.333333333333,8075.0,8150.0,8200.0,8000.0,7900.0,7900.0,7900.0,7900.0,7925.0,7900.0,7925.0,7950.0,7933.333333333333,7916.666666666667,7900.0,7850.0,7875.0,7975.0,7850.0],\"high\":[7400.0,7400.0,7400.0,7450.0,7525.0,7525.0,7700.0,7683.333333333333,7666.666666666667,7650.0,7700.0,7700.0,7750.0,7850.0,7866.666666666667,7883.333333333333,7900.0,7775.0,7725.0,7775.0,7950.0,7916.666666666667,7883.333333333333,7850.0,7775.0,7750.0,7800.0,7825.0,7808.333333333333,7791.666666666667,7775.0,7787.5,7800.0,7825.0,7800.0,7800.0,7800.0,7800.0,7850.0,7950.0,7950.0,7825.0,7808.333333333333,7791.666666666667,7775.0,7875.0,7975.0,7925.0,7950.0,7958.333333333333,7966.666666666667,7975.0,7950.0,8100.0,8150.0,8175.0,8175.0,8175.0,8175.0,8175.0,8225.0,8125.0,8025.0,7966.666666666667,7908.333333333333,7850.0,7850.0,7950.0,7975.0,7950.0,8000.0,8050.0,8100.0,8200.0,8275.0,8300.0,8100.0,8050.0,8000.0,7950.0,7950.0,7950.0,7950.0,7950.0,7933.333333333333,7916.666666666667,7900.0,7900.0,7900.0,8000.0,8075.0],\"low\":[7300.0,7300.0,7300.0,7325.0,7375.0,7425.0,7500.0,7516.666666666667,7533.333333333333,7550.0,7625.0,7650.0,7650.0,7650.0,7666.666666666667,7683.333333333333,7700.0,7550.0,7575.0,7625.0,7700.0,7725.0,7750.0,7775.0,7625.0,7650.0,7625.0,7700.0,7675.0,7650.0,7625.0,7650.0,7675.0,7700.0,7700.0,7700.0,7700.0,7700.0,7725.0,7800.0,7750.0,7650.0,7666.666666666667,7683.333333333333,7700.0,7725.0,7825.0,7800.0,7850.0,7866.666666666667,7883.333333333333,7900.0,7850.0,7875.0,7925.0,7925.0,7943.75,7962.5,7981.25,8000.0,7975.0,7937.5,7900.0,7833.333333333333,7766.666666666667,7700.0,7650.0,7650.0,7800.0,7725.0,7800.0,7875.0,7950.0,8075.0,8075.0,8000.0,7900.0,7866.666666666667,7833.333333333333,7800.0,7875.0,7825.0,7800.0,7900.0,7866.666666666667,7833.333333333333,7800.0,7825.0,7825.0,7875.0,7850.0],\"open\":[7325.0,7325.0,7325.0,7325.0,7450.0,7500.0,7550.0,7558.333333333333,7566.666666666667,7575.0,7650.0,7700.0,7700.0,7700.0,7766.666666666667,7833.333333333333,7900.0,7775.0,7650.0,7725.0,7775.0,7791.666666666667,7808.333333333333,7825.0,7675.0,7700.0,7625.0,7800.0,7791.666666666667,7783.333333333333,7775.0,7775.0,7775.0,7800.0,7750.0,7758.333333333333,7766.666666666667,7775.0,7750.0,7850.0,7950.0,7675.0,7700.0,7725.0,7750.0,7750.0,7850.0,7850.0,7950.0,7941.666666666667,7933.333333333333,7925.0,7900.0,7900.0,8125.0,7950.0,7962.5,7975.0,7987.5,8000.0,8225.0,8100.0,7975.0,7916.666666666667,7858.333333333333,7800.0,7700.0,7700.0,7925.0,7725.0,7833.333333333333,7941.666666666667,8050.0,8150.0,8275.0,8300.0,8000.0,7933.333333333333,7866.666666666667,7800.0,7900.0,7925.0,7850.0,7900.0,7875.0,7850.0,7825.0,7875.0,7900.0,7925.0,8075.0],\"x\":[\"2022-01-01T00:00:00\",\"2022-01-02T00:00:00\",\"2022-01-03T00:00:00\",\"2022-01-04T00:00:00\",\"2022-01-05T00:00:00\",\"2022-01-06T00:00:00\",\"2022-01-07T00:00:00\",\"2022-01-08T00:00:00\",\"2022-01-09T00:00:00\",\"2022-01-10T00:00:00\",\"2022-01-11T00:00:00\",\"2022-01-12T00:00:00\",\"2022-01-13T00:00:00\",\"2022-01-14T00:00:00\",\"2022-01-15T00:00:00\",\"2022-01-16T00:00:00\",\"2022-01-17T00:00:00\",\"2022-01-18T00:00:00\",\"2022-01-19T00:00:00\",\"2022-01-20T00:00:00\",\"2022-01-21T00:00:00\",\"2022-01-22T00:00:00\",\"2022-01-23T00:00:00\",\"2022-01-24T00:00:00\",\"2022-01-25T00:00:00\",\"2022-01-26T00:00:00\",\"2022-01-27T00:00:00\",\"2022-01-28T00:00:00\",\"2022-01-29T00:00:00\",\"2022-01-30T00:00:00\",\"2022-01-31T00:00:00\",\"2022-02-01T00:00:00\",\"2022-02-02T00:00:00\",\"2022-02-03T00:00:00\",\"2022-02-04T00:00:00\",\"2022-02-05T00:00:00\",\"2022-02-06T00:00:00\",\"2022-02-07T00:00:00\",\"2022-02-08T00:00:00\",\"2022-02-09T00:00:00\",\"2022-02-10T00:00:00\",\"2022-02-11T00:00:00\",\"2022-02-12T00:00:00\",\"2022-02-13T00:00:00\",\"2022-02-14T00:00:00\",\"2022-02-15T00:00:00\",\"2022-02-16T00:00:00\",\"2022-02-17T00:00:00\",\"2022-02-18T00:00:00\",\"2022-02-19T00:00:00\",\"2022-02-20T00:00:00\",\"2022-02-21T00:00:00\",\"2022-02-22T00:00:00\",\"2022-02-23T00:00:00\",\"2022-02-24T00:00:00\",\"2022-02-25T00:00:00\",\"2022-02-26T00:00:00\",\"2022-02-27T00:00:00\",\"2022-02-28T00:00:00\",\"2022-03-01T00:00:00\",\"2022-03-02T00:00:00\",\"2022-03-03T00:00:00\",\"2022-03-04T00:00:00\",\"2022-03-05T00:00:00\",\"2022-03-06T00:00:00\",\"2022-03-07T00:00:00\",\"2022-03-08T00:00:00\",\"2022-03-09T00:00:00\",\"2022-03-10T00:00:00\",\"2022-03-11T00:00:00\",\"2022-03-12T00:00:00\",\"2022-03-13T00:00:00\",\"2022-03-14T00:00:00\",\"2022-03-15T00:00:00\",\"2022-03-16T00:00:00\",\"2022-03-17T00:00:00\",\"2022-03-18T00:00:00\",\"2022-03-19T00:00:00\",\"2022-03-20T00:00:00\",\"2022-03-21T00:00:00\",\"2022-03-22T00:00:00\",\"2022-03-23T00:00:00\",\"2022-03-24T00:00:00\",\"2022-03-25T00:00:00\",\"2022-03-26T00:00:00\",\"2022-03-27T00:00:00\",\"2022-03-28T00:00:00\",\"2022-03-29T00:00:00\",\"2022-03-30T00:00:00\",\"2022-03-31T00:00:00\",\"2022-04-01T00:00:00\"],\"type\":\"candlestick\"}],                        {\"template\":{\"data\":{\"bar\":[{\"error_x\":{\"color\":\"#2a3f5f\"},\"error_y\":{\"color\":\"#2a3f5f\"},\"marker\":{\"line\":{\"color\":\"#E5ECF6\",\"width\":0.5},\"pattern\":{\"fillmode\":\"overlay\",\"size\":10,\"solidity\":0.2}},\"type\":\"bar\"}],\"barpolar\":[{\"marker\":{\"line\":{\"color\":\"#E5ECF6\",\"width\":0.5},\"pattern\":{\"fillmode\":\"overlay\",\"size\":10,\"solidity\":0.2}},\"type\":\"barpolar\"}],\"carpet\":[{\"aaxis\":{\"endlinecolor\":\"#2a3f5f\",\"gridcolor\":\"white\",\"linecolor\":\"white\",\"minorgridcolor\":\"white\",\"startlinecolor\":\"#2a3f5f\"},\"baxis\":{\"endlinecolor\":\"#2a3f5f\",\"gridcolor\":\"white\",\"linecolor\":\"white\",\"minorgridcolor\":\"white\",\"startlinecolor\":\"#2a3f5f\"},\"type\":\"carpet\"}],\"choropleth\":[{\"colorbar\":{\"outlinewidth\":0,\"ticks\":\"\"},\"type\":\"choropleth\"}],\"contour\":[{\"colorbar\":{\"outlinewidth\":0,\"ticks\":\"\"},\"colorscale\":[[0.0,\"#0d0887\"],[0.1111111111111111,\"#46039f\"],[0.2222222222222222,\"#7201a8\"],[0.3333333333333333,\"#9c179e\"],[0.4444444444444444,\"#bd3786\"],[0.5555555555555556,\"#d8576b\"],[0.6666666666666666,\"#ed7953\"],[0.7777777777777778,\"#fb9f3a\"],[0.8888888888888888,\"#fdca26\"],[1.0,\"#f0f921\"]],\"type\":\"contour\"}],\"contourcarpet\":[{\"colorbar\":{\"outlinewidth\":0,\"ticks\":\"\"},\"type\":\"contourcarpet\"}],\"heatmap\":[{\"colorbar\":{\"outlinewidth\":0,\"ticks\":\"\"},\"colorscale\":[[0.0,\"#0d0887\"],[0.1111111111111111,\"#46039f\"],[0.2222222222222222,\"#7201a8\"],[0.3333333333333333,\"#9c179e\"],[0.4444444444444444,\"#bd3786\"],[0.5555555555555556,\"#d8576b\"],[0.6666666666666666,\"#ed7953\"],[0.7777777777777778,\"#fb9f3a\"],[0.8888888888888888,\"#fdca26\"],[1.0,\"#f0f921\"]],\"type\":\"heatmap\"}],\"heatmapgl\":[{\"colorbar\":{\"outlinewidth\":0,\"ticks\":\"\"},\"colorscale\":[[0.0,\"#0d0887\"],[0.1111111111111111,\"#46039f\"],[0.2222222222222222,\"#7201a8\"],[0.3333333333333333,\"#9c179e\"],[0.4444444444444444,\"#bd3786\"],[0.5555555555555556,\"#d8576b\"],[0.6666666666666666,\"#ed7953\"],[0.7777777777777778,\"#fb9f3a\"],[0.8888888888888888,\"#fdca26\"],[1.0,\"#f0f921\"]],\"type\":\"heatmapgl\"}],\"histogram\":[{\"marker\":{\"pattern\":{\"fillmode\":\"overlay\",\"size\":10,\"solidity\":0.2}},\"type\":\"histogram\"}],\"histogram2d\":[{\"colorbar\":{\"outlinewidth\":0,\"ticks\":\"\"},\"colorscale\":[[0.0,\"#0d0887\"],[0.1111111111111111,\"#46039f\"],[0.2222222222222222,\"#7201a8\"],[0.3333333333333333,\"#9c179e\"],[0.4444444444444444,\"#bd3786\"],[0.5555555555555556,\"#d8576b\"],[0.6666666666666666,\"#ed7953\"],[0.7777777777777778,\"#fb9f3a\"],[0.8888888888888888,\"#fdca26\"],[1.0,\"#f0f921\"]],\"type\":\"histogram2d\"}],\"histogram2dcontour\":[{\"colorbar\":{\"outlinewidth\":0,\"ticks\":\"\"},\"colorscale\":[[0.0,\"#0d0887\"],[0.1111111111111111,\"#46039f\"],[0.2222222222222222,\"#7201a8\"],[0.3333333333333333,\"#9c179e\"],[0.4444444444444444,\"#bd3786\"],[0.5555555555555556,\"#d8576b\"],[0.6666666666666666,\"#ed7953\"],[0.7777777777777778,\"#fb9f3a\"],[0.8888888888888888,\"#fdca26\"],[1.0,\"#f0f921\"]],\"type\":\"histogram2dcontour\"}],\"mesh3d\":[{\"colorbar\":{\"outlinewidth\":0,\"ticks\":\"\"},\"type\":\"mesh3d\"}],\"parcoords\":[{\"line\":{\"colorbar\":{\"outlinewidth\":0,\"ticks\":\"\"}},\"type\":\"parcoords\"}],\"pie\":[{\"automargin\":true,\"type\":\"pie\"}],\"scatter\":[{\"marker\":{\"colorbar\":{\"outlinewidth\":0,\"ticks\":\"\"}},\"type\":\"scatter\"}],\"scatter3d\":[{\"line\":{\"colorbar\":{\"outlinewidth\":0,\"ticks\":\"\"}},\"marker\":{\"colorbar\":{\"outlinewidth\":0,\"ticks\":\"\"}},\"type\":\"scatter3d\"}],\"scattercarpet\":[{\"marker\":{\"colorbar\":{\"outlinewidth\":0,\"ticks\":\"\"}},\"type\":\"scattercarpet\"}],\"scattergeo\":[{\"marker\":{\"colorbar\":{\"outlinewidth\":0,\"ticks\":\"\"}},\"type\":\"scattergeo\"}],\"scattergl\":[{\"marker\":{\"colorbar\":{\"outlinewidth\":0,\"ticks\":\"\"}},\"type\":\"scattergl\"}],\"scattermapbox\":[{\"marker\":{\"colorbar\":{\"outlinewidth\":0,\"ticks\":\"\"}},\"type\":\"scattermapbox\"}],\"scatterpolar\":[{\"marker\":{\"colorbar\":{\"outlinewidth\":0,\"ticks\":\"\"}},\"type\":\"scatterpolar\"}],\"scatterpolargl\":[{\"marker\":{\"colorbar\":{\"outlinewidth\":0,\"ticks\":\"\"}},\"type\":\"scatterpolargl\"}],\"scatterternary\":[{\"marker\":{\"colorbar\":{\"outlinewidth\":0,\"ticks\":\"\"}},\"type\":\"scatterternary\"}],\"surface\":[{\"colorbar\":{\"outlinewidth\":0,\"ticks\":\"\"},\"colorscale\":[[0.0,\"#0d0887\"],[0.1111111111111111,\"#46039f\"],[0.2222222222222222,\"#7201a8\"],[0.3333333333333333,\"#9c179e\"],[0.4444444444444444,\"#bd3786\"],[0.5555555555555556,\"#d8576b\"],[0.6666666666666666,\"#ed7953\"],[0.7777777777777778,\"#fb9f3a\"],[0.8888888888888888,\"#fdca26\"],[1.0,\"#f0f921\"]],\"type\":\"surface\"}],\"table\":[{\"cells\":{\"fill\":{\"color\":\"#EBF0F8\"},\"line\":{\"color\":\"white\"}},\"header\":{\"fill\":{\"color\":\"#C8D4E3\"},\"line\":{\"color\":\"white\"}},\"type\":\"table\"}]},\"layout\":{\"annotationdefaults\":{\"arrowcolor\":\"#2a3f5f\",\"arrowhead\":0,\"arrowwidth\":1},\"autotypenumbers\":\"strict\",\"coloraxis\":{\"colorbar\":{\"outlinewidth\":0,\"ticks\":\"\"}},\"colorscale\":{\"diverging\":[[0,\"#8e0152\"],[0.1,\"#c51b7d\"],[0.2,\"#de77ae\"],[0.3,\"#f1b6da\"],[0.4,\"#fde0ef\"],[0.5,\"#f7f7f7\"],[0.6,\"#e6f5d0\"],[0.7,\"#b8e186\"],[0.8,\"#7fbc41\"],[0.9,\"#4d9221\"],[1,\"#276419\"]],\"sequential\":[[0.0,\"#0d0887\"],[0.1111111111111111,\"#46039f\"],[0.2222222222222222,\"#7201a8\"],[0.3333333333333333,\"#9c179e\"],[0.4444444444444444,\"#bd3786\"],[0.5555555555555556,\"#d8576b\"],[0.6666666666666666,\"#ed7953\"],[0.7777777777777778,\"#fb9f3a\"],[0.8888888888888888,\"#fdca26\"],[1.0,\"#f0f921\"]],\"sequentialminus\":[[0.0,\"#0d0887\"],[0.1111111111111111,\"#46039f\"],[0.2222222222222222,\"#7201a8\"],[0.3333333333333333,\"#9c179e\"],[0.4444444444444444,\"#bd3786\"],[0.5555555555555556,\"#d8576b\"],[0.6666666666666666,\"#ed7953\"],[0.7777777777777778,\"#fb9f3a\"],[0.8888888888888888,\"#fdca26\"],[1.0,\"#f0f921\"]]},\"colorway\":[\"#636efa\",\"#EF553B\",\"#00cc96\",\"#ab63fa\",\"#FFA15A\",\"#19d3f3\",\"#FF6692\",\"#B6E880\",\"#FF97FF\",\"#FECB52\"],\"font\":{\"color\":\"#2a3f5f\"},\"geo\":{\"bgcolor\":\"white\",\"lakecolor\":\"white\",\"landcolor\":\"#E5ECF6\",\"showlakes\":true,\"showland\":true,\"subunitcolor\":\"white\"},\"hoverlabel\":{\"align\":\"left\"},\"hovermode\":\"closest\",\"mapbox\":{\"style\":\"light\"},\"paper_bgcolor\":\"white\",\"plot_bgcolor\":\"#E5ECF6\",\"polar\":{\"angularaxis\":{\"gridcolor\":\"white\",\"linecolor\":\"white\",\"ticks\":\"\"},\"bgcolor\":\"#E5ECF6\",\"radialaxis\":{\"gridcolor\":\"white\",\"linecolor\":\"white\",\"ticks\":\"\"}},\"scene\":{\"xaxis\":{\"backgroundcolor\":\"#E5ECF6\",\"gridcolor\":\"white\",\"gridwidth\":2,\"linecolor\":\"white\",\"showbackground\":true,\"ticks\":\"\",\"zerolinecolor\":\"white\"},\"yaxis\":{\"backgroundcolor\":\"#E5ECF6\",\"gridcolor\":\"white\",\"gridwidth\":2,\"linecolor\":\"white\",\"showbackground\":true,\"ticks\":\"\",\"zerolinecolor\":\"white\"},\"zaxis\":{\"backgroundcolor\":\"#E5ECF6\",\"gridcolor\":\"white\",\"gridwidth\":2,\"linecolor\":\"white\",\"showbackground\":true,\"ticks\":\"\",\"zerolinecolor\":\"white\"}},\"shapedefaults\":{\"line\":{\"color\":\"#2a3f5f\"}},\"ternary\":{\"aaxis\":{\"gridcolor\":\"white\",\"linecolor\":\"white\",\"ticks\":\"\"},\"baxis\":{\"gridcolor\":\"white\",\"linecolor\":\"white\",\"ticks\":\"\"},\"bgcolor\":\"#E5ECF6\",\"caxis\":{\"gridcolor\":\"white\",\"linecolor\":\"white\",\"ticks\":\"\"}},\"title\":{\"x\":0.05},\"xaxis\":{\"automargin\":true,\"gridcolor\":\"white\",\"linecolor\":\"white\",\"ticks\":\"\",\"title\":{\"standoff\":15},\"zerolinecolor\":\"white\",\"zerolinewidth\":2},\"yaxis\":{\"automargin\":true,\"gridcolor\":\"white\",\"linecolor\":\"white\",\"ticks\":\"\",\"title\":{\"standoff\":15},\"zerolinecolor\":\"white\",\"zerolinewidth\":2}}},\"xaxis\":{\"anchor\":\"y\",\"domain\":[0.0,0.94],\"title\":{\"text\":\"Tanggal\"}},\"yaxis\":{\"anchor\":\"x\",\"domain\":[0.0,1.0],\"title\":{\"text\":\"Stock Price\"}},\"yaxis2\":{\"anchor\":\"x\",\"overlaying\":\"y\",\"side\":\"right\"},\"title\":{\"text\":\"BBCA Stock Price January - April 2022\"},\"font\":{\"size\":12}},                        {\"responsive\": true}                    ).then(function(){\n",
       "                            \n",
       "var gd = document.getElementById('7b6a18a5-13b5-4eca-b45e-caa9f9c4a877');\n",
       "var x = new MutationObserver(function (mutations, observer) {{\n",
       "        var display = window.getComputedStyle(gd).display;\n",
       "        if (!display || display === 'none') {{\n",
       "            console.log([gd, 'removed!']);\n",
       "            Plotly.purge(gd);\n",
       "            observer.disconnect();\n",
       "        }}\n",
       "}});\n",
       "\n",
       "// Listen for the removal of the full notebook cells\n",
       "var notebookContainer = gd.closest('#notebook-container');\n",
       "if (notebookContainer) {{\n",
       "    x.observe(notebookContainer, {childList: true});\n",
       "}}\n",
       "\n",
       "// Listen for the clearing of the current output cell\n",
       "var outputEl = gd.closest('.output');\n",
       "if (outputEl) {{\n",
       "    x.observe(outputEl, {childList: true});\n",
       "}}\n",
       "\n",
       "                        })                };                });            </script>        </div>"
      ]
     },
     "metadata": {},
     "output_type": "display_data"
    }
   ],
   "source": [
    "# grafik saham sebelum interpolasi\n",
    "\n",
    "fig3 = make_subplots(specs=[[{\"secondary_y\": True}]])\n",
    "fig3.add_trace(go.Candlestick(x=data_saham['Date'],\n",
    "                              open=data_saham['Open'],\n",
    "                              high=data_saham['High'],\n",
    "                              low=data_saham['Low'],\n",
    "                              close=data_saham['Close'],\n",
    "                             ))\n",
    "fig3.update_layout(title_text='BBCA Stock Price January - April 2022',font=dict(size=12),\n",
    "                 xaxis_title_text=\"Tanggal\", yaxis_title_text=\"Stock Price\")"
   ]
  },
  {
   "cell_type": "code",
   "execution_count": 167,
   "id": "fd3646bb",
   "metadata": {},
   "outputs": [
    {
     "data": {
      "text/plain": [
       "91"
      ]
     },
     "execution_count": 167,
     "metadata": {},
     "output_type": "execute_result"
    }
   ],
   "source": [
    "# label close\n",
    "label = [1,1,1,1,1,0,1,1,1,1,1,1,1,1,1,0,0,0,1,1,1,1,1,0,1,0,1,0,0,0,0,0,1,0,\n",
    "         0,0,1,1,0,1,0,1,1,1,0,1,1,1,0,0,1,1,0,1,0,1,1,1,1,1,\n",
    "        0,0,0,0,0,0,0,1,1,1,1,1,1,1,0,0,0,0,1,1,1,0,1,1,1,1,1,0,0,1,0]\n",
    "len(label)"
   ]
  },
  {
   "cell_type": "code",
   "execution_count": 19,
   "id": "b1ea2442",
   "metadata": {},
   "outputs": [
    {
     "data": {
      "text/plain": [
       "91"
      ]
     },
     "execution_count": 19,
     "metadata": {},
     "output_type": "execute_result"
    }
   ],
   "source": [
    "# label adj close\n",
    "label = [\n",
    "    0,0,0,0,0,0,0,0,0,0,0,0,0,1,0,0,0,0,0,0,1,0,0,0,0,0,1,0,0,0,0,0,0,0,0,0,0,0,0,0,0,1,0,0,0,1,1,\n",
    "    0,0,0,0,0,0,1,0,0,0,0,0,0,0,0,0,0,0,0,0,1,0,1,1,0,0,0,0,0,0,0,0,0,0,0,0,0,0,1,1,0,0,1,0\n",
    "]\n",
    "len(label)"
   ]
  },
  {
   "cell_type": "markdown",
   "id": "5b352c65",
   "metadata": {},
   "source": [
    "# Arima"
   ]
  },
  {
   "cell_type": "code",
   "execution_count": 7,
   "id": "8c81df32",
   "metadata": {},
   "outputs": [],
   "source": [
    "model_train = data_saham.iloc[:int(data_saham.shape[0]*0.90)]\n",
    "valid = data_saham.iloc[int(data_saham.shape[0]*0.90):]\n",
    "y_pred = valid.copy()"
   ]
  },
  {
   "cell_type": "code",
   "execution_count": 8,
   "id": "93018f2f",
   "metadata": {},
   "outputs": [
    {
     "name": "stdout",
     "output_type": "stream",
     "text": [
      " ARIMA(0,0,0)(0,0,0)[0]             : AIC=1683.973, Time=0.17 sec\n",
      " ARIMA(0,0,1)(0,0,0)[0]             : AIC=inf, Time=0.08 sec\n",
      " ARIMA(0,0,2)(0,0,0)[0]             : AIC=inf, Time=0.07 sec\n",
      " ARIMA(0,0,3)(0,0,0)[0]             : AIC=inf, Time=0.09 sec\n",
      " ARIMA(0,0,4)(0,0,0)[0]             : AIC=inf, Time=0.20 sec\n",
      " ARIMA(0,0,5)(0,0,0)[0]             : AIC=inf, Time=0.29 sec\n",
      " ARIMA(1,0,0)(0,0,0)[0]             : AIC=inf, Time=0.05 sec\n",
      " ARIMA(1,0,1)(0,0,0)[0]             : AIC=951.937, Time=0.09 sec\n",
      " ARIMA(1,0,2)(0,0,0)[0]             : AIC=953.920, Time=0.10 sec\n",
      " ARIMA(1,0,3)(0,0,0)[0]             : AIC=955.430, Time=0.16 sec\n",
      " ARIMA(1,0,4)(0,0,0)[0]             : AIC=957.354, Time=0.15 sec\n",
      " ARIMA(2,0,0)(0,0,0)[0]             : AIC=inf, Time=0.07 sec\n",
      " ARIMA(2,0,1)(0,0,0)[0]             : AIC=inf, Time=0.10 sec\n",
      " ARIMA(2,0,2)(0,0,0)[0]             : AIC=inf, Time=0.15 sec\n",
      " ARIMA(2,0,3)(0,0,0)[0]             : AIC=957.877, Time=0.17 sec\n",
      " ARIMA(3,0,0)(0,0,0)[0]             : AIC=inf, Time=0.10 sec\n",
      " ARIMA(3,0,1)(0,0,0)[0]             : AIC=inf, Time=0.25 sec\n",
      " ARIMA(3,0,2)(0,0,0)[0]             : AIC=inf, Time=0.27 sec\n",
      " ARIMA(4,0,0)(0,0,0)[0]             : AIC=inf, Time=0.14 sec\n",
      " ARIMA(4,0,1)(0,0,0)[0]             : AIC=957.892, Time=0.15 sec\n",
      " ARIMA(5,0,0)(0,0,0)[0]             : AIC=inf, Time=0.17 sec\n",
      "\n",
      "Best model:  ARIMA(1,0,1)(0,0,0)[0]          \n",
      "Total fit time: 3.027 seconds\n"
     ]
    },
    {
     "data": {
      "text/plain": [
       "ARIMA(order=(1, 0, 1), scoring_args={}, suppress_warnings=True,\n",
       "      with_intercept=False)"
      ]
     },
     "execution_count": 8,
     "metadata": {},
     "output_type": "execute_result"
    }
   ],
   "source": [
    "model_scores_r2=[]\n",
    "model_scores_mse=[]\n",
    "model_scores_rmse=[]\n",
    "model_scores_mae=[]\n",
    "model_scores_rmsle=[]\n",
    "model_arima = auto_arima(model_train[\"Close\"],trace=True, error_action='ignore',d=0, start_p=1,start_q=1,max_p=5,max_q=5,\n",
    "                        suppress_warnings=True,stepwise=False,seasonal=False)\n",
    "model_arima.fit(model_train[\"Close\"])"
   ]
  },
  {
   "cell_type": "code",
   "execution_count": 9,
   "id": "cf156cf9",
   "metadata": {},
   "outputs": [
    {
     "name": "stdout",
     "output_type": "stream",
     "text": [
      "R Square Score ARIMA:  -0.10864563813486439\n",
      "Mean Square Error ARIMA:  1685.2953485258447\n",
      "Root Mean Square Error ARIMA:  41.05234887952022\n",
      "Mean Absoulute Error ARIMA:  33.13912983511782\n",
      "Root Mean Squared Logarithmic Error ARIMA:  0.005194585164235972\n"
     ]
    }
   ],
   "source": [
    "prediction_arima = model_arima.predict(len(valid))\n",
    "y_pred[\"close_pred\"] = prediction_arima\n",
    "r2_arima = r2_score(y_pred[\"Close\"],y_pred[\"close_pred\"])\n",
    "mse_arima = mean_squared_error(y_pred[\"Close\"],y_pred[\"close_pred\"])\n",
    "rmse_arima = np.sqrt(mean_squared_error(y_pred[\"Close\"],y_pred[\"close_pred\"]))\n",
    "mae_arima=mean_absolute_error(y_pred[\"Close\"],y_pred[\"close_pred\"])\n",
    "rmsle_arima = np.sqrt(mean_squared_log_error(y_pred[\"Close\"],y_pred[\"close_pred\"]))\n",
    "model_scores_r2.append(r2_arima)\n",
    "model_scores_mse.append(mse_arima)\n",
    "model_scores_rmse.append(rmse_arima)\n",
    "model_scores_mae.append(mae_arima)\n",
    "model_scores_rmsle.append(rmsle_arima)\n",
    "print(\"R Square Score ARIMA: \",r2_arima)\n",
    "print(\"Mean Square Error ARIMA: \",mse_arima)\n",
    "print(\"Root Mean Square Error ARIMA: \",rmse_arima)\n",
    "print(\"Mean Absoulute Error ARIMA: \",mae_arima)\n",
    "print(\"Root Mean Squared Logarithmic Error ARIMA: \", rmsle_arima)"
   ]
  },
  {
   "cell_type": "code",
   "execution_count": 10,
   "id": "aea4c093",
   "metadata": {},
   "outputs": [
    {
     "data": {
      "application/vnd.plotly.v1+json": {
       "config": {
        "plotlyServerURL": "https://plot.ly"
       },
       "data": [
        {
         "mode": "lines",
         "name": "Train Data",
         "type": "scatter",
         "x": [
          0,
          1,
          2,
          3,
          4,
          5,
          6,
          7,
          8,
          9,
          10,
          11,
          12,
          13,
          14,
          15,
          16,
          17,
          18,
          19,
          20,
          21,
          22,
          23,
          24,
          25,
          26,
          27,
          28,
          29,
          30,
          31,
          32,
          33,
          34,
          35,
          36,
          37,
          38,
          39,
          40,
          41,
          42,
          43,
          44,
          45,
          46,
          47,
          48,
          49,
          50,
          51,
          52,
          53,
          54,
          55,
          56,
          57,
          58,
          59,
          60,
          61,
          62,
          63,
          64,
          65,
          66,
          67,
          68,
          69,
          70,
          71,
          72,
          73,
          74,
          75,
          76,
          77,
          78,
          79,
          80
         ],
         "y": [
          7325,
          7325,
          7325,
          7400,
          7450,
          7475,
          7650,
          7633.333333333333,
          7616.666666666667,
          7600,
          7700,
          7700,
          7700,
          7850,
          7816.666666666667,
          7783.333333333333,
          7750,
          7675,
          7675,
          7775,
          7950,
          7900,
          7850,
          7800,
          7775,
          7700,
          7800,
          7775,
          7725,
          7675,
          7625,
          7712.5,
          7800,
          7725,
          7725,
          7750,
          7775,
          7800,
          7725,
          7950,
          7750,
          7825,
          7783.333333333333,
          7741.666666666667,
          7700,
          7875,
          7975,
          7900,
          7925,
          7933.333333333333,
          7941.666666666667,
          7950,
          7900,
          8050,
          8000,
          8050,
          8050,
          8050,
          8050,
          8050,
          7975,
          7937.5,
          7900,
          7833.333333333333,
          7766.666666666667,
          7700,
          7650,
          7850,
          7925,
          7950,
          7991.666666666667,
          8033.333333333333,
          8075,
          8150,
          8200,
          8000,
          7900,
          7900,
          7900,
          7900,
          7925
         ]
        },
        {
         "mode": "lines",
         "name": "Validation",
         "type": "scatter",
         "x": [
          81,
          82,
          83,
          84,
          85,
          86,
          87,
          88,
          89,
          90
         ],
         "y": [
          7900,
          7925,
          7950,
          7933.333333333333,
          7916.666666666667,
          7900,
          7850,
          7875,
          7975,
          7850
         ]
        },
        {
         "mode": "lines",
         "name": "Prediction",
         "type": "scatter",
         "x": [
          81,
          82,
          83,
          84,
          85,
          86,
          87,
          88,
          89,
          90
         ],
         "y": [
          7922.979184184782,
          7922.612437874058,
          7922.245708539632,
          7921.878996180718,
          7921.51230079653,
          7921.145622386284,
          7920.778960949193,
          7920.4123164844705,
          7920.045688991332,
          7919.679078468992
         ]
        }
       ],
       "layout": {
        "font": {
         "size": 12
        },
        "legend": {
         "traceorder": "normal",
         "x": 0,
         "y": 1
        },
        "template": {
         "data": {
          "bar": [
           {
            "error_x": {
             "color": "#2a3f5f"
            },
            "error_y": {
             "color": "#2a3f5f"
            },
            "marker": {
             "line": {
              "color": "#E5ECF6",
              "width": 0.5
             },
             "pattern": {
              "fillmode": "overlay",
              "size": 10,
              "solidity": 0.2
             }
            },
            "type": "bar"
           }
          ],
          "barpolar": [
           {
            "marker": {
             "line": {
              "color": "#E5ECF6",
              "width": 0.5
             },
             "pattern": {
              "fillmode": "overlay",
              "size": 10,
              "solidity": 0.2
             }
            },
            "type": "barpolar"
           }
          ],
          "carpet": [
           {
            "aaxis": {
             "endlinecolor": "#2a3f5f",
             "gridcolor": "white",
             "linecolor": "white",
             "minorgridcolor": "white",
             "startlinecolor": "#2a3f5f"
            },
            "baxis": {
             "endlinecolor": "#2a3f5f",
             "gridcolor": "white",
             "linecolor": "white",
             "minorgridcolor": "white",
             "startlinecolor": "#2a3f5f"
            },
            "type": "carpet"
           }
          ],
          "choropleth": [
           {
            "colorbar": {
             "outlinewidth": 0,
             "ticks": ""
            },
            "type": "choropleth"
           }
          ],
          "contour": [
           {
            "colorbar": {
             "outlinewidth": 0,
             "ticks": ""
            },
            "colorscale": [
             [
              0,
              "#0d0887"
             ],
             [
              0.1111111111111111,
              "#46039f"
             ],
             [
              0.2222222222222222,
              "#7201a8"
             ],
             [
              0.3333333333333333,
              "#9c179e"
             ],
             [
              0.4444444444444444,
              "#bd3786"
             ],
             [
              0.5555555555555556,
              "#d8576b"
             ],
             [
              0.6666666666666666,
              "#ed7953"
             ],
             [
              0.7777777777777778,
              "#fb9f3a"
             ],
             [
              0.8888888888888888,
              "#fdca26"
             ],
             [
              1,
              "#f0f921"
             ]
            ],
            "type": "contour"
           }
          ],
          "contourcarpet": [
           {
            "colorbar": {
             "outlinewidth": 0,
             "ticks": ""
            },
            "type": "contourcarpet"
           }
          ],
          "heatmap": [
           {
            "colorbar": {
             "outlinewidth": 0,
             "ticks": ""
            },
            "colorscale": [
             [
              0,
              "#0d0887"
             ],
             [
              0.1111111111111111,
              "#46039f"
             ],
             [
              0.2222222222222222,
              "#7201a8"
             ],
             [
              0.3333333333333333,
              "#9c179e"
             ],
             [
              0.4444444444444444,
              "#bd3786"
             ],
             [
              0.5555555555555556,
              "#d8576b"
             ],
             [
              0.6666666666666666,
              "#ed7953"
             ],
             [
              0.7777777777777778,
              "#fb9f3a"
             ],
             [
              0.8888888888888888,
              "#fdca26"
             ],
             [
              1,
              "#f0f921"
             ]
            ],
            "type": "heatmap"
           }
          ],
          "heatmapgl": [
           {
            "colorbar": {
             "outlinewidth": 0,
             "ticks": ""
            },
            "colorscale": [
             [
              0,
              "#0d0887"
             ],
             [
              0.1111111111111111,
              "#46039f"
             ],
             [
              0.2222222222222222,
              "#7201a8"
             ],
             [
              0.3333333333333333,
              "#9c179e"
             ],
             [
              0.4444444444444444,
              "#bd3786"
             ],
             [
              0.5555555555555556,
              "#d8576b"
             ],
             [
              0.6666666666666666,
              "#ed7953"
             ],
             [
              0.7777777777777778,
              "#fb9f3a"
             ],
             [
              0.8888888888888888,
              "#fdca26"
             ],
             [
              1,
              "#f0f921"
             ]
            ],
            "type": "heatmapgl"
           }
          ],
          "histogram": [
           {
            "marker": {
             "pattern": {
              "fillmode": "overlay",
              "size": 10,
              "solidity": 0.2
             }
            },
            "type": "histogram"
           }
          ],
          "histogram2d": [
           {
            "colorbar": {
             "outlinewidth": 0,
             "ticks": ""
            },
            "colorscale": [
             [
              0,
              "#0d0887"
             ],
             [
              0.1111111111111111,
              "#46039f"
             ],
             [
              0.2222222222222222,
              "#7201a8"
             ],
             [
              0.3333333333333333,
              "#9c179e"
             ],
             [
              0.4444444444444444,
              "#bd3786"
             ],
             [
              0.5555555555555556,
              "#d8576b"
             ],
             [
              0.6666666666666666,
              "#ed7953"
             ],
             [
              0.7777777777777778,
              "#fb9f3a"
             ],
             [
              0.8888888888888888,
              "#fdca26"
             ],
             [
              1,
              "#f0f921"
             ]
            ],
            "type": "histogram2d"
           }
          ],
          "histogram2dcontour": [
           {
            "colorbar": {
             "outlinewidth": 0,
             "ticks": ""
            },
            "colorscale": [
             [
              0,
              "#0d0887"
             ],
             [
              0.1111111111111111,
              "#46039f"
             ],
             [
              0.2222222222222222,
              "#7201a8"
             ],
             [
              0.3333333333333333,
              "#9c179e"
             ],
             [
              0.4444444444444444,
              "#bd3786"
             ],
             [
              0.5555555555555556,
              "#d8576b"
             ],
             [
              0.6666666666666666,
              "#ed7953"
             ],
             [
              0.7777777777777778,
              "#fb9f3a"
             ],
             [
              0.8888888888888888,
              "#fdca26"
             ],
             [
              1,
              "#f0f921"
             ]
            ],
            "type": "histogram2dcontour"
           }
          ],
          "mesh3d": [
           {
            "colorbar": {
             "outlinewidth": 0,
             "ticks": ""
            },
            "type": "mesh3d"
           }
          ],
          "parcoords": [
           {
            "line": {
             "colorbar": {
              "outlinewidth": 0,
              "ticks": ""
             }
            },
            "type": "parcoords"
           }
          ],
          "pie": [
           {
            "automargin": true,
            "type": "pie"
           }
          ],
          "scatter": [
           {
            "marker": {
             "colorbar": {
              "outlinewidth": 0,
              "ticks": ""
             }
            },
            "type": "scatter"
           }
          ],
          "scatter3d": [
           {
            "line": {
             "colorbar": {
              "outlinewidth": 0,
              "ticks": ""
             }
            },
            "marker": {
             "colorbar": {
              "outlinewidth": 0,
              "ticks": ""
             }
            },
            "type": "scatter3d"
           }
          ],
          "scattercarpet": [
           {
            "marker": {
             "colorbar": {
              "outlinewidth": 0,
              "ticks": ""
             }
            },
            "type": "scattercarpet"
           }
          ],
          "scattergeo": [
           {
            "marker": {
             "colorbar": {
              "outlinewidth": 0,
              "ticks": ""
             }
            },
            "type": "scattergeo"
           }
          ],
          "scattergl": [
           {
            "marker": {
             "colorbar": {
              "outlinewidth": 0,
              "ticks": ""
             }
            },
            "type": "scattergl"
           }
          ],
          "scattermapbox": [
           {
            "marker": {
             "colorbar": {
              "outlinewidth": 0,
              "ticks": ""
             }
            },
            "type": "scattermapbox"
           }
          ],
          "scatterpolar": [
           {
            "marker": {
             "colorbar": {
              "outlinewidth": 0,
              "ticks": ""
             }
            },
            "type": "scatterpolar"
           }
          ],
          "scatterpolargl": [
           {
            "marker": {
             "colorbar": {
              "outlinewidth": 0,
              "ticks": ""
             }
            },
            "type": "scatterpolargl"
           }
          ],
          "scatterternary": [
           {
            "marker": {
             "colorbar": {
              "outlinewidth": 0,
              "ticks": ""
             }
            },
            "type": "scatterternary"
           }
          ],
          "surface": [
           {
            "colorbar": {
             "outlinewidth": 0,
             "ticks": ""
            },
            "colorscale": [
             [
              0,
              "#0d0887"
             ],
             [
              0.1111111111111111,
              "#46039f"
             ],
             [
              0.2222222222222222,
              "#7201a8"
             ],
             [
              0.3333333333333333,
              "#9c179e"
             ],
             [
              0.4444444444444444,
              "#bd3786"
             ],
             [
              0.5555555555555556,
              "#d8576b"
             ],
             [
              0.6666666666666666,
              "#ed7953"
             ],
             [
              0.7777777777777778,
              "#fb9f3a"
             ],
             [
              0.8888888888888888,
              "#fdca26"
             ],
             [
              1,
              "#f0f921"
             ]
            ],
            "type": "surface"
           }
          ],
          "table": [
           {
            "cells": {
             "fill": {
              "color": "#EBF0F8"
             },
             "line": {
              "color": "white"
             }
            },
            "header": {
             "fill": {
              "color": "#C8D4E3"
             },
             "line": {
              "color": "white"
             }
            },
            "type": "table"
           }
          ]
         },
         "layout": {
          "annotationdefaults": {
           "arrowcolor": "#2a3f5f",
           "arrowhead": 0,
           "arrowwidth": 1
          },
          "autotypenumbers": "strict",
          "coloraxis": {
           "colorbar": {
            "outlinewidth": 0,
            "ticks": ""
           }
          },
          "colorscale": {
           "diverging": [
            [
             0,
             "#8e0152"
            ],
            [
             0.1,
             "#c51b7d"
            ],
            [
             0.2,
             "#de77ae"
            ],
            [
             0.3,
             "#f1b6da"
            ],
            [
             0.4,
             "#fde0ef"
            ],
            [
             0.5,
             "#f7f7f7"
            ],
            [
             0.6,
             "#e6f5d0"
            ],
            [
             0.7,
             "#b8e186"
            ],
            [
             0.8,
             "#7fbc41"
            ],
            [
             0.9,
             "#4d9221"
            ],
            [
             1,
             "#276419"
            ]
           ],
           "sequential": [
            [
             0,
             "#0d0887"
            ],
            [
             0.1111111111111111,
             "#46039f"
            ],
            [
             0.2222222222222222,
             "#7201a8"
            ],
            [
             0.3333333333333333,
             "#9c179e"
            ],
            [
             0.4444444444444444,
             "#bd3786"
            ],
            [
             0.5555555555555556,
             "#d8576b"
            ],
            [
             0.6666666666666666,
             "#ed7953"
            ],
            [
             0.7777777777777778,
             "#fb9f3a"
            ],
            [
             0.8888888888888888,
             "#fdca26"
            ],
            [
             1,
             "#f0f921"
            ]
           ],
           "sequentialminus": [
            [
             0,
             "#0d0887"
            ],
            [
             0.1111111111111111,
             "#46039f"
            ],
            [
             0.2222222222222222,
             "#7201a8"
            ],
            [
             0.3333333333333333,
             "#9c179e"
            ],
            [
             0.4444444444444444,
             "#bd3786"
            ],
            [
             0.5555555555555556,
             "#d8576b"
            ],
            [
             0.6666666666666666,
             "#ed7953"
            ],
            [
             0.7777777777777778,
             "#fb9f3a"
            ],
            [
             0.8888888888888888,
             "#fdca26"
            ],
            [
             1,
             "#f0f921"
            ]
           ]
          },
          "colorway": [
           "#636efa",
           "#EF553B",
           "#00cc96",
           "#ab63fa",
           "#FFA15A",
           "#19d3f3",
           "#FF6692",
           "#B6E880",
           "#FF97FF",
           "#FECB52"
          ],
          "font": {
           "color": "#2a3f5f"
          },
          "geo": {
           "bgcolor": "white",
           "lakecolor": "white",
           "landcolor": "#E5ECF6",
           "showlakes": true,
           "showland": true,
           "subunitcolor": "white"
          },
          "hoverlabel": {
           "align": "left"
          },
          "hovermode": "closest",
          "mapbox": {
           "style": "light"
          },
          "paper_bgcolor": "white",
          "plot_bgcolor": "#E5ECF6",
          "polar": {
           "angularaxis": {
            "gridcolor": "white",
            "linecolor": "white",
            "ticks": ""
           },
           "bgcolor": "#E5ECF6",
           "radialaxis": {
            "gridcolor": "white",
            "linecolor": "white",
            "ticks": ""
           }
          },
          "scene": {
           "xaxis": {
            "backgroundcolor": "#E5ECF6",
            "gridcolor": "white",
            "gridwidth": 2,
            "linecolor": "white",
            "showbackground": true,
            "ticks": "",
            "zerolinecolor": "white"
           },
           "yaxis": {
            "backgroundcolor": "#E5ECF6",
            "gridcolor": "white",
            "gridwidth": 2,
            "linecolor": "white",
            "showbackground": true,
            "ticks": "",
            "zerolinecolor": "white"
           },
           "zaxis": {
            "backgroundcolor": "#E5ECF6",
            "gridcolor": "white",
            "gridwidth": 2,
            "linecolor": "white",
            "showbackground": true,
            "ticks": "",
            "zerolinecolor": "white"
           }
          },
          "shapedefaults": {
           "line": {
            "color": "#2a3f5f"
           }
          },
          "ternary": {
           "aaxis": {
            "gridcolor": "white",
            "linecolor": "white",
            "ticks": ""
           },
           "baxis": {
            "gridcolor": "white",
            "linecolor": "white",
            "ticks": ""
           },
           "bgcolor": "#E5ECF6",
           "caxis": {
            "gridcolor": "white",
            "linecolor": "white",
            "ticks": ""
           }
          },
          "title": {
           "x": 0.05
          },
          "xaxis": {
           "automargin": true,
           "gridcolor": "white",
           "linecolor": "white",
           "ticks": "",
           "title": {
            "standoff": 15
           },
           "zerolinecolor": "white",
           "zerolinewidth": 2
          },
          "yaxis": {
           "automargin": true,
           "gridcolor": "white",
           "linecolor": "white",
           "ticks": "",
           "title": {
            "standoff": 15
           },
           "zerolinecolor": "white",
           "zerolinewidth": 2
          }
         }
        },
        "title": {
         "text": "ARIMA - Close"
        },
        "xaxis": {
         "title": {
          "text": "Date"
         }
        },
        "yaxis": {
         "title": {
          "text": "Close"
         }
        }
       }
      },
      "text/html": [
       "<div>                            <div id=\"aa9fc8ec-bcfa-43ca-9283-e464aa547e1c\" class=\"plotly-graph-div\" style=\"height:525px; width:100%;\"></div>            <script type=\"text/javascript\">                require([\"plotly\"], function(Plotly) {                    window.PLOTLYENV=window.PLOTLYENV || {};                                    if (document.getElementById(\"aa9fc8ec-bcfa-43ca-9283-e464aa547e1c\")) {                    Plotly.newPlot(                        \"aa9fc8ec-bcfa-43ca-9283-e464aa547e1c\",                        [{\"mode\":\"lines\",\"name\":\"Train Data\",\"x\":[0,1,2,3,4,5,6,7,8,9,10,11,12,13,14,15,16,17,18,19,20,21,22,23,24,25,26,27,28,29,30,31,32,33,34,35,36,37,38,39,40,41,42,43,44,45,46,47,48,49,50,51,52,53,54,55,56,57,58,59,60,61,62,63,64,65,66,67,68,69,70,71,72,73,74,75,76,77,78,79,80],\"y\":[7325.0,7325.0,7325.0,7400.0,7450.0,7475.0,7650.0,7633.333333333333,7616.666666666667,7600.0,7700.0,7700.0,7700.0,7850.0,7816.666666666667,7783.333333333333,7750.0,7675.0,7675.0,7775.0,7950.0,7900.0,7850.0,7800.0,7775.0,7700.0,7800.0,7775.0,7725.0,7675.0,7625.0,7712.5,7800.0,7725.0,7725.0,7750.0,7775.0,7800.0,7725.0,7950.0,7750.0,7825.0,7783.333333333333,7741.666666666667,7700.0,7875.0,7975.0,7900.0,7925.0,7933.333333333333,7941.666666666667,7950.0,7900.0,8050.0,8000.0,8050.0,8050.0,8050.0,8050.0,8050.0,7975.0,7937.5,7900.0,7833.333333333333,7766.666666666667,7700.0,7650.0,7850.0,7925.0,7950.0,7991.666666666667,8033.333333333333,8075.0,8150.0,8200.0,8000.0,7900.0,7900.0,7900.0,7900.0,7925.0],\"type\":\"scatter\"},{\"mode\":\"lines\",\"name\":\"Validation\",\"x\":[81,82,83,84,85,86,87,88,89,90],\"y\":[7900.0,7925.0,7950.0,7933.333333333333,7916.666666666667,7900.0,7850.0,7875.0,7975.0,7850.0],\"type\":\"scatter\"},{\"mode\":\"lines\",\"name\":\"Prediction\",\"x\":[81,82,83,84,85,86,87,88,89,90],\"y\":[7922.979184184782,7922.612437874058,7922.245708539632,7921.878996180718,7921.51230079653,7921.145622386284,7920.778960949193,7920.4123164844705,7920.045688991332,7919.679078468992],\"type\":\"scatter\"}],                        {\"template\":{\"data\":{\"bar\":[{\"error_x\":{\"color\":\"#2a3f5f\"},\"error_y\":{\"color\":\"#2a3f5f\"},\"marker\":{\"line\":{\"color\":\"#E5ECF6\",\"width\":0.5},\"pattern\":{\"fillmode\":\"overlay\",\"size\":10,\"solidity\":0.2}},\"type\":\"bar\"}],\"barpolar\":[{\"marker\":{\"line\":{\"color\":\"#E5ECF6\",\"width\":0.5},\"pattern\":{\"fillmode\":\"overlay\",\"size\":10,\"solidity\":0.2}},\"type\":\"barpolar\"}],\"carpet\":[{\"aaxis\":{\"endlinecolor\":\"#2a3f5f\",\"gridcolor\":\"white\",\"linecolor\":\"white\",\"minorgridcolor\":\"white\",\"startlinecolor\":\"#2a3f5f\"},\"baxis\":{\"endlinecolor\":\"#2a3f5f\",\"gridcolor\":\"white\",\"linecolor\":\"white\",\"minorgridcolor\":\"white\",\"startlinecolor\":\"#2a3f5f\"},\"type\":\"carpet\"}],\"choropleth\":[{\"colorbar\":{\"outlinewidth\":0,\"ticks\":\"\"},\"type\":\"choropleth\"}],\"contour\":[{\"colorbar\":{\"outlinewidth\":0,\"ticks\":\"\"},\"colorscale\":[[0.0,\"#0d0887\"],[0.1111111111111111,\"#46039f\"],[0.2222222222222222,\"#7201a8\"],[0.3333333333333333,\"#9c179e\"],[0.4444444444444444,\"#bd3786\"],[0.5555555555555556,\"#d8576b\"],[0.6666666666666666,\"#ed7953\"],[0.7777777777777778,\"#fb9f3a\"],[0.8888888888888888,\"#fdca26\"],[1.0,\"#f0f921\"]],\"type\":\"contour\"}],\"contourcarpet\":[{\"colorbar\":{\"outlinewidth\":0,\"ticks\":\"\"},\"type\":\"contourcarpet\"}],\"heatmap\":[{\"colorbar\":{\"outlinewidth\":0,\"ticks\":\"\"},\"colorscale\":[[0.0,\"#0d0887\"],[0.1111111111111111,\"#46039f\"],[0.2222222222222222,\"#7201a8\"],[0.3333333333333333,\"#9c179e\"],[0.4444444444444444,\"#bd3786\"],[0.5555555555555556,\"#d8576b\"],[0.6666666666666666,\"#ed7953\"],[0.7777777777777778,\"#fb9f3a\"],[0.8888888888888888,\"#fdca26\"],[1.0,\"#f0f921\"]],\"type\":\"heatmap\"}],\"heatmapgl\":[{\"colorbar\":{\"outlinewidth\":0,\"ticks\":\"\"},\"colorscale\":[[0.0,\"#0d0887\"],[0.1111111111111111,\"#46039f\"],[0.2222222222222222,\"#7201a8\"],[0.3333333333333333,\"#9c179e\"],[0.4444444444444444,\"#bd3786\"],[0.5555555555555556,\"#d8576b\"],[0.6666666666666666,\"#ed7953\"],[0.7777777777777778,\"#fb9f3a\"],[0.8888888888888888,\"#fdca26\"],[1.0,\"#f0f921\"]],\"type\":\"heatmapgl\"}],\"histogram\":[{\"marker\":{\"pattern\":{\"fillmode\":\"overlay\",\"size\":10,\"solidity\":0.2}},\"type\":\"histogram\"}],\"histogram2d\":[{\"colorbar\":{\"outlinewidth\":0,\"ticks\":\"\"},\"colorscale\":[[0.0,\"#0d0887\"],[0.1111111111111111,\"#46039f\"],[0.2222222222222222,\"#7201a8\"],[0.3333333333333333,\"#9c179e\"],[0.4444444444444444,\"#bd3786\"],[0.5555555555555556,\"#d8576b\"],[0.6666666666666666,\"#ed7953\"],[0.7777777777777778,\"#fb9f3a\"],[0.8888888888888888,\"#fdca26\"],[1.0,\"#f0f921\"]],\"type\":\"histogram2d\"}],\"histogram2dcontour\":[{\"colorbar\":{\"outlinewidth\":0,\"ticks\":\"\"},\"colorscale\":[[0.0,\"#0d0887\"],[0.1111111111111111,\"#46039f\"],[0.2222222222222222,\"#7201a8\"],[0.3333333333333333,\"#9c179e\"],[0.4444444444444444,\"#bd3786\"],[0.5555555555555556,\"#d8576b\"],[0.6666666666666666,\"#ed7953\"],[0.7777777777777778,\"#fb9f3a\"],[0.8888888888888888,\"#fdca26\"],[1.0,\"#f0f921\"]],\"type\":\"histogram2dcontour\"}],\"mesh3d\":[{\"colorbar\":{\"outlinewidth\":0,\"ticks\":\"\"},\"type\":\"mesh3d\"}],\"parcoords\":[{\"line\":{\"colorbar\":{\"outlinewidth\":0,\"ticks\":\"\"}},\"type\":\"parcoords\"}],\"pie\":[{\"automargin\":true,\"type\":\"pie\"}],\"scatter\":[{\"marker\":{\"colorbar\":{\"outlinewidth\":0,\"ticks\":\"\"}},\"type\":\"scatter\"}],\"scatter3d\":[{\"line\":{\"colorbar\":{\"outlinewidth\":0,\"ticks\":\"\"}},\"marker\":{\"colorbar\":{\"outlinewidth\":0,\"ticks\":\"\"}},\"type\":\"scatter3d\"}],\"scattercarpet\":[{\"marker\":{\"colorbar\":{\"outlinewidth\":0,\"ticks\":\"\"}},\"type\":\"scattercarpet\"}],\"scattergeo\":[{\"marker\":{\"colorbar\":{\"outlinewidth\":0,\"ticks\":\"\"}},\"type\":\"scattergeo\"}],\"scattergl\":[{\"marker\":{\"colorbar\":{\"outlinewidth\":0,\"ticks\":\"\"}},\"type\":\"scattergl\"}],\"scattermapbox\":[{\"marker\":{\"colorbar\":{\"outlinewidth\":0,\"ticks\":\"\"}},\"type\":\"scattermapbox\"}],\"scatterpolar\":[{\"marker\":{\"colorbar\":{\"outlinewidth\":0,\"ticks\":\"\"}},\"type\":\"scatterpolar\"}],\"scatterpolargl\":[{\"marker\":{\"colorbar\":{\"outlinewidth\":0,\"ticks\":\"\"}},\"type\":\"scatterpolargl\"}],\"scatterternary\":[{\"marker\":{\"colorbar\":{\"outlinewidth\":0,\"ticks\":\"\"}},\"type\":\"scatterternary\"}],\"surface\":[{\"colorbar\":{\"outlinewidth\":0,\"ticks\":\"\"},\"colorscale\":[[0.0,\"#0d0887\"],[0.1111111111111111,\"#46039f\"],[0.2222222222222222,\"#7201a8\"],[0.3333333333333333,\"#9c179e\"],[0.4444444444444444,\"#bd3786\"],[0.5555555555555556,\"#d8576b\"],[0.6666666666666666,\"#ed7953\"],[0.7777777777777778,\"#fb9f3a\"],[0.8888888888888888,\"#fdca26\"],[1.0,\"#f0f921\"]],\"type\":\"surface\"}],\"table\":[{\"cells\":{\"fill\":{\"color\":\"#EBF0F8\"},\"line\":{\"color\":\"white\"}},\"header\":{\"fill\":{\"color\":\"#C8D4E3\"},\"line\":{\"color\":\"white\"}},\"type\":\"table\"}]},\"layout\":{\"annotationdefaults\":{\"arrowcolor\":\"#2a3f5f\",\"arrowhead\":0,\"arrowwidth\":1},\"autotypenumbers\":\"strict\",\"coloraxis\":{\"colorbar\":{\"outlinewidth\":0,\"ticks\":\"\"}},\"colorscale\":{\"diverging\":[[0,\"#8e0152\"],[0.1,\"#c51b7d\"],[0.2,\"#de77ae\"],[0.3,\"#f1b6da\"],[0.4,\"#fde0ef\"],[0.5,\"#f7f7f7\"],[0.6,\"#e6f5d0\"],[0.7,\"#b8e186\"],[0.8,\"#7fbc41\"],[0.9,\"#4d9221\"],[1,\"#276419\"]],\"sequential\":[[0.0,\"#0d0887\"],[0.1111111111111111,\"#46039f\"],[0.2222222222222222,\"#7201a8\"],[0.3333333333333333,\"#9c179e\"],[0.4444444444444444,\"#bd3786\"],[0.5555555555555556,\"#d8576b\"],[0.6666666666666666,\"#ed7953\"],[0.7777777777777778,\"#fb9f3a\"],[0.8888888888888888,\"#fdca26\"],[1.0,\"#f0f921\"]],\"sequentialminus\":[[0.0,\"#0d0887\"],[0.1111111111111111,\"#46039f\"],[0.2222222222222222,\"#7201a8\"],[0.3333333333333333,\"#9c179e\"],[0.4444444444444444,\"#bd3786\"],[0.5555555555555556,\"#d8576b\"],[0.6666666666666666,\"#ed7953\"],[0.7777777777777778,\"#fb9f3a\"],[0.8888888888888888,\"#fdca26\"],[1.0,\"#f0f921\"]]},\"colorway\":[\"#636efa\",\"#EF553B\",\"#00cc96\",\"#ab63fa\",\"#FFA15A\",\"#19d3f3\",\"#FF6692\",\"#B6E880\",\"#FF97FF\",\"#FECB52\"],\"font\":{\"color\":\"#2a3f5f\"},\"geo\":{\"bgcolor\":\"white\",\"lakecolor\":\"white\",\"landcolor\":\"#E5ECF6\",\"showlakes\":true,\"showland\":true,\"subunitcolor\":\"white\"},\"hoverlabel\":{\"align\":\"left\"},\"hovermode\":\"closest\",\"mapbox\":{\"style\":\"light\"},\"paper_bgcolor\":\"white\",\"plot_bgcolor\":\"#E5ECF6\",\"polar\":{\"angularaxis\":{\"gridcolor\":\"white\",\"linecolor\":\"white\",\"ticks\":\"\"},\"bgcolor\":\"#E5ECF6\",\"radialaxis\":{\"gridcolor\":\"white\",\"linecolor\":\"white\",\"ticks\":\"\"}},\"scene\":{\"xaxis\":{\"backgroundcolor\":\"#E5ECF6\",\"gridcolor\":\"white\",\"gridwidth\":2,\"linecolor\":\"white\",\"showbackground\":true,\"ticks\":\"\",\"zerolinecolor\":\"white\"},\"yaxis\":{\"backgroundcolor\":\"#E5ECF6\",\"gridcolor\":\"white\",\"gridwidth\":2,\"linecolor\":\"white\",\"showbackground\":true,\"ticks\":\"\",\"zerolinecolor\":\"white\"},\"zaxis\":{\"backgroundcolor\":\"#E5ECF6\",\"gridcolor\":\"white\",\"gridwidth\":2,\"linecolor\":\"white\",\"showbackground\":true,\"ticks\":\"\",\"zerolinecolor\":\"white\"}},\"shapedefaults\":{\"line\":{\"color\":\"#2a3f5f\"}},\"ternary\":{\"aaxis\":{\"gridcolor\":\"white\",\"linecolor\":\"white\",\"ticks\":\"\"},\"baxis\":{\"gridcolor\":\"white\",\"linecolor\":\"white\",\"ticks\":\"\"},\"bgcolor\":\"#E5ECF6\",\"caxis\":{\"gridcolor\":\"white\",\"linecolor\":\"white\",\"ticks\":\"\"}},\"title\":{\"x\":0.05},\"xaxis\":{\"automargin\":true,\"gridcolor\":\"white\",\"linecolor\":\"white\",\"ticks\":\"\",\"title\":{\"standoff\":15},\"zerolinecolor\":\"white\",\"zerolinewidth\":2},\"yaxis\":{\"automargin\":true,\"gridcolor\":\"white\",\"linecolor\":\"white\",\"ticks\":\"\",\"title\":{\"standoff\":15},\"zerolinecolor\":\"white\",\"zerolinewidth\":2}}},\"legend\":{\"x\":0,\"y\":1,\"traceorder\":\"normal\"},\"font\":{\"size\":12},\"title\":{\"text\":\"ARIMA - Close\"},\"xaxis\":{\"title\":{\"text\":\"Date\"}},\"yaxis\":{\"title\":{\"text\":\"Close\"}}},                        {\"responsive\": true}                    ).then(function(){\n",
       "                            \n",
       "var gd = document.getElementById('aa9fc8ec-bcfa-43ca-9283-e464aa547e1c');\n",
       "var x = new MutationObserver(function (mutations, observer) {{\n",
       "        var display = window.getComputedStyle(gd).display;\n",
       "        if (!display || display === 'none') {{\n",
       "            console.log([gd, 'removed!']);\n",
       "            Plotly.purge(gd);\n",
       "            observer.disconnect();\n",
       "        }}\n",
       "}});\n",
       "\n",
       "// Listen for the removal of the full notebook cells\n",
       "var notebookContainer = gd.closest('#notebook-container');\n",
       "if (notebookContainer) {{\n",
       "    x.observe(notebookContainer, {childList: true});\n",
       "}}\n",
       "\n",
       "// Listen for the clearing of the current output cell\n",
       "var outputEl = gd.closest('.output');\n",
       "if (outputEl) {{\n",
       "    x.observe(outputEl, {childList: true});\n",
       "}}\n",
       "\n",
       "                        })                };                });            </script>        </div>"
      ]
     },
     "metadata": {},
     "output_type": "display_data"
    }
   ],
   "source": [
    "fig4=go.Figure()\n",
    "fig4.add_trace(go.Scatter(x=model_train.index, y=model_train[\"Close\"], mode='lines',name=\"Train Data\"))\n",
    "fig4.add_trace(go.Scatter(x=valid.index, y=valid[\"Close\"], mode='lines',name=\"Validation\",))\n",
    "fig4.add_trace(go.Scatter(x=valid.index, y=y_pred[\"close_pred\"], mode='lines',name=\"Prediction\",))\n",
    "fig4.update_layout(title=\"ARIMA - Close\",xaxis_title=\"Date\",yaxis_title=\"Close\",legend=dict(x=0,y=1,traceorder=\"normal\"),font=dict(size=12))\n",
    "fig4.show()"
   ]
  },
  {
   "cell_type": "code",
   "execution_count": 16,
   "id": "765f6102",
   "metadata": {},
   "outputs": [
    {
     "data": {
      "text/html": [
       "<div>\n",
       "<style scoped>\n",
       "    .dataframe tbody tr th:only-of-type {\n",
       "        vertical-align: middle;\n",
       "    }\n",
       "\n",
       "    .dataframe tbody tr th {\n",
       "        vertical-align: top;\n",
       "    }\n",
       "\n",
       "    .dataframe thead th {\n",
       "        text-align: right;\n",
       "    }\n",
       "</style>\n",
       "<table border=\"1\" class=\"dataframe\">\n",
       "  <thead>\n",
       "    <tr style=\"text-align: right;\">\n",
       "      <th></th>\n",
       "      <th>Date</th>\n",
       "      <th>Open</th>\n",
       "      <th>High</th>\n",
       "      <th>Low</th>\n",
       "      <th>Close</th>\n",
       "      <th>Adj Close</th>\n",
       "      <th>Volume</th>\n",
       "    </tr>\n",
       "  </thead>\n",
       "  <tbody>\n",
       "    <tr>\n",
       "      <th>0</th>\n",
       "      <td>2022-01-01</td>\n",
       "      <td>7325.0</td>\n",
       "      <td>7400.0</td>\n",
       "      <td>7300.0</td>\n",
       "      <td>7325.0</td>\n",
       "      <td>7214.434082</td>\n",
       "      <td>54287400.0</td>\n",
       "    </tr>\n",
       "    <tr>\n",
       "      <th>1</th>\n",
       "      <td>2022-01-02</td>\n",
       "      <td>7325.0</td>\n",
       "      <td>7400.0</td>\n",
       "      <td>7300.0</td>\n",
       "      <td>7325.0</td>\n",
       "      <td>7214.434082</td>\n",
       "      <td>54287400.0</td>\n",
       "    </tr>\n",
       "    <tr>\n",
       "      <th>2</th>\n",
       "      <td>2022-01-03</td>\n",
       "      <td>7325.0</td>\n",
       "      <td>7400.0</td>\n",
       "      <td>7300.0</td>\n",
       "      <td>7325.0</td>\n",
       "      <td>7214.434082</td>\n",
       "      <td>54287400.0</td>\n",
       "    </tr>\n",
       "    <tr>\n",
       "      <th>3</th>\n",
       "      <td>2022-01-04</td>\n",
       "      <td>7325.0</td>\n",
       "      <td>7450.0</td>\n",
       "      <td>7325.0</td>\n",
       "      <td>7400.0</td>\n",
       "      <td>7288.301758</td>\n",
       "      <td>70624000.0</td>\n",
       "    </tr>\n",
       "    <tr>\n",
       "      <th>4</th>\n",
       "      <td>2022-01-05</td>\n",
       "      <td>7450.0</td>\n",
       "      <td>7525.0</td>\n",
       "      <td>7375.0</td>\n",
       "      <td>7450.0</td>\n",
       "      <td>7337.547363</td>\n",
       "      <td>76164900.0</td>\n",
       "    </tr>\n",
       "  </tbody>\n",
       "</table>\n",
       "</div>"
      ],
      "text/plain": [
       "        Date    Open    High     Low   Close    Adj Close      Volume\n",
       "0 2022-01-01  7325.0  7400.0  7300.0  7325.0  7214.434082  54287400.0\n",
       "1 2022-01-02  7325.0  7400.0  7300.0  7325.0  7214.434082  54287400.0\n",
       "2 2022-01-03  7325.0  7400.0  7300.0  7325.0  7214.434082  54287400.0\n",
       "3 2022-01-04  7325.0  7450.0  7325.0  7400.0  7288.301758  70624000.0\n",
       "4 2022-01-05  7450.0  7525.0  7375.0  7450.0  7337.547363  76164900.0"
      ]
     },
     "execution_count": 16,
     "metadata": {},
     "output_type": "execute_result"
    }
   ],
   "source": [
    "data_saham.head()"
   ]
  },
  {
   "cell_type": "markdown",
   "id": "ca180a0a",
   "metadata": {},
   "source": [
    "For numeric stock prices, the features used are open, high, low and close."
   ]
  },
  {
   "cell_type": "code",
   "execution_count": 96,
   "id": "3e3aa1c1",
   "metadata": {},
   "outputs": [
    {
     "data": {
      "text/html": [
       "<div>\n",
       "<style scoped>\n",
       "    .dataframe tbody tr th:only-of-type {\n",
       "        vertical-align: middle;\n",
       "    }\n",
       "\n",
       "    .dataframe tbody tr th {\n",
       "        vertical-align: top;\n",
       "    }\n",
       "\n",
       "    .dataframe thead th {\n",
       "        text-align: right;\n",
       "    }\n",
       "</style>\n",
       "<table border=\"1\" class=\"dataframe\">\n",
       "  <thead>\n",
       "    <tr style=\"text-align: right;\">\n",
       "      <th></th>\n",
       "      <th>Date</th>\n",
       "      <th>Open</th>\n",
       "      <th>High</th>\n",
       "      <th>Low</th>\n",
       "      <th>Close</th>\n",
       "    </tr>\n",
       "  </thead>\n",
       "  <tbody>\n",
       "    <tr>\n",
       "      <th>0</th>\n",
       "      <td>2022-01-01</td>\n",
       "      <td>7325.0</td>\n",
       "      <td>7400.0</td>\n",
       "      <td>7300.0</td>\n",
       "      <td>7325.0</td>\n",
       "    </tr>\n",
       "    <tr>\n",
       "      <th>1</th>\n",
       "      <td>2022-01-02</td>\n",
       "      <td>7325.0</td>\n",
       "      <td>7400.0</td>\n",
       "      <td>7300.0</td>\n",
       "      <td>7325.0</td>\n",
       "    </tr>\n",
       "    <tr>\n",
       "      <th>2</th>\n",
       "      <td>2022-01-03</td>\n",
       "      <td>7325.0</td>\n",
       "      <td>7400.0</td>\n",
       "      <td>7300.0</td>\n",
       "      <td>7325.0</td>\n",
       "    </tr>\n",
       "    <tr>\n",
       "      <th>3</th>\n",
       "      <td>2022-01-04</td>\n",
       "      <td>7325.0</td>\n",
       "      <td>7450.0</td>\n",
       "      <td>7325.0</td>\n",
       "      <td>7400.0</td>\n",
       "    </tr>\n",
       "    <tr>\n",
       "      <th>4</th>\n",
       "      <td>2022-01-05</td>\n",
       "      <td>7450.0</td>\n",
       "      <td>7525.0</td>\n",
       "      <td>7375.0</td>\n",
       "      <td>7450.0</td>\n",
       "    </tr>\n",
       "    <tr>\n",
       "      <th>...</th>\n",
       "      <td>...</td>\n",
       "      <td>...</td>\n",
       "      <td>...</td>\n",
       "      <td>...</td>\n",
       "      <td>...</td>\n",
       "    </tr>\n",
       "    <tr>\n",
       "      <th>86</th>\n",
       "      <td>2022-03-28</td>\n",
       "      <td>7825.0</td>\n",
       "      <td>7900.0</td>\n",
       "      <td>7800.0</td>\n",
       "      <td>7900.0</td>\n",
       "    </tr>\n",
       "    <tr>\n",
       "      <th>87</th>\n",
       "      <td>2022-03-29</td>\n",
       "      <td>7875.0</td>\n",
       "      <td>7900.0</td>\n",
       "      <td>7825.0</td>\n",
       "      <td>7850.0</td>\n",
       "    </tr>\n",
       "    <tr>\n",
       "      <th>88</th>\n",
       "      <td>2022-03-30</td>\n",
       "      <td>7900.0</td>\n",
       "      <td>7900.0</td>\n",
       "      <td>7825.0</td>\n",
       "      <td>7875.0</td>\n",
       "    </tr>\n",
       "    <tr>\n",
       "      <th>89</th>\n",
       "      <td>2022-03-31</td>\n",
       "      <td>7925.0</td>\n",
       "      <td>8000.0</td>\n",
       "      <td>7875.0</td>\n",
       "      <td>7975.0</td>\n",
       "    </tr>\n",
       "    <tr>\n",
       "      <th>90</th>\n",
       "      <td>2022-04-01</td>\n",
       "      <td>8075.0</td>\n",
       "      <td>8075.0</td>\n",
       "      <td>7850.0</td>\n",
       "      <td>7850.0</td>\n",
       "    </tr>\n",
       "  </tbody>\n",
       "</table>\n",
       "<p>91 rows × 5 columns</p>\n",
       "</div>"
      ],
      "text/plain": [
       "         Date    Open    High     Low   Close\n",
       "0  2022-01-01  7325.0  7400.0  7300.0  7325.0\n",
       "1  2022-01-02  7325.0  7400.0  7300.0  7325.0\n",
       "2  2022-01-03  7325.0  7400.0  7300.0  7325.0\n",
       "3  2022-01-04  7325.0  7450.0  7325.0  7400.0\n",
       "4  2022-01-05  7450.0  7525.0  7375.0  7450.0\n",
       "..        ...     ...     ...     ...     ...\n",
       "86 2022-03-28  7825.0  7900.0  7800.0  7900.0\n",
       "87 2022-03-29  7875.0  7900.0  7825.0  7850.0\n",
       "88 2022-03-30  7900.0  7900.0  7825.0  7875.0\n",
       "89 2022-03-31  7925.0  8000.0  7875.0  7975.0\n",
       "90 2022-04-01  8075.0  8075.0  7850.0  7850.0\n",
       "\n",
       "[91 rows x 5 columns]"
      ]
     },
     "execution_count": 96,
     "metadata": {},
     "output_type": "execute_result"
    }
   ],
   "source": [
    "feature = data_saham.iloc[:,:5]\n",
    "feature"
   ]
  },
  {
   "cell_type": "markdown",
   "id": "7512f2ad",
   "metadata": {},
   "source": [
    "The first step, discretizes numeric values by converting all numeric attributes into discrete values to be positive, negative or equal [19]. This is performed by comparing all numeric values for each attribute with previous closing price value. After comparison, if the value of the attribute is greater than the previous closing price value, then this attribute value will be replaced with ―positive‖, if the attribute value is less than the previous closing price value it will be replaced with ―negative‖. "
   ]
  },
  {
   "cell_type": "code",
   "execution_count": 8,
   "id": "dee24a59",
   "metadata": {},
   "outputs": [
    {
     "data": {
      "text/html": [
       "<div>\n",
       "<style scoped>\n",
       "    .dataframe tbody tr th:only-of-type {\n",
       "        vertical-align: middle;\n",
       "    }\n",
       "\n",
       "    .dataframe tbody tr th {\n",
       "        vertical-align: top;\n",
       "    }\n",
       "\n",
       "    .dataframe thead th {\n",
       "        text-align: right;\n",
       "    }\n",
       "</style>\n",
       "<table border=\"1\" class=\"dataframe\">\n",
       "  <thead>\n",
       "    <tr style=\"text-align: right;\">\n",
       "      <th></th>\n",
       "      <th>Date</th>\n",
       "      <th>Open</th>\n",
       "      <th>High</th>\n",
       "      <th>Low</th>\n",
       "      <th>Close</th>\n",
       "    </tr>\n",
       "  </thead>\n",
       "  <tbody>\n",
       "    <tr>\n",
       "      <th>0</th>\n",
       "      <td>2022-01-01</td>\n",
       "      <td>7325.0</td>\n",
       "      <td>7400.0</td>\n",
       "      <td>7300.0</td>\n",
       "      <td>7325.0</td>\n",
       "    </tr>\n",
       "    <tr>\n",
       "      <th>1</th>\n",
       "      <td>2022-01-02</td>\n",
       "      <td>7325.0</td>\n",
       "      <td>7400.0</td>\n",
       "      <td>7300.0</td>\n",
       "      <td>7325.0</td>\n",
       "    </tr>\n",
       "    <tr>\n",
       "      <th>2</th>\n",
       "      <td>2022-01-03</td>\n",
       "      <td>7325.0</td>\n",
       "      <td>7400.0</td>\n",
       "      <td>7300.0</td>\n",
       "      <td>7325.0</td>\n",
       "    </tr>\n",
       "    <tr>\n",
       "      <th>3</th>\n",
       "      <td>2022-01-04</td>\n",
       "      <td>7325.0</td>\n",
       "      <td>7450.0</td>\n",
       "      <td>7325.0</td>\n",
       "      <td>7400.0</td>\n",
       "    </tr>\n",
       "    <tr>\n",
       "      <th>4</th>\n",
       "      <td>2022-01-05</td>\n",
       "      <td>7450.0</td>\n",
       "      <td>7525.0</td>\n",
       "      <td>7375.0</td>\n",
       "      <td>7450.0</td>\n",
       "    </tr>\n",
       "  </tbody>\n",
       "</table>\n",
       "</div>"
      ],
      "text/plain": [
       "        Date    Open    High     Low   Close\n",
       "0 2022-01-01  7325.0  7400.0  7300.0  7325.0\n",
       "1 2022-01-02  7325.0  7400.0  7300.0  7325.0\n",
       "2 2022-01-03  7325.0  7400.0  7300.0  7325.0\n",
       "3 2022-01-04  7325.0  7450.0  7325.0  7400.0\n",
       "4 2022-01-05  7450.0  7525.0  7375.0  7450.0"
      ]
     },
     "execution_count": 8,
     "metadata": {},
     "output_type": "execute_result"
    }
   ],
   "source": [
    "feature.head()"
   ]
  },
  {
   "cell_type": "code",
   "execution_count": 97,
   "id": "d45df535",
   "metadata": {},
   "outputs": [
    {
     "data": {
      "text/html": [
       "<div>\n",
       "<style scoped>\n",
       "    .dataframe tbody tr th:only-of-type {\n",
       "        vertical-align: middle;\n",
       "    }\n",
       "\n",
       "    .dataframe tbody tr th {\n",
       "        vertical-align: top;\n",
       "    }\n",
       "\n",
       "    .dataframe thead th {\n",
       "        text-align: right;\n",
       "    }\n",
       "</style>\n",
       "<table border=\"1\" class=\"dataframe\">\n",
       "  <thead>\n",
       "    <tr style=\"text-align: right;\">\n",
       "      <th></th>\n",
       "      <th>Date</th>\n",
       "      <th>Open</th>\n",
       "      <th>High</th>\n",
       "      <th>Low</th>\n",
       "      <th>Close</th>\n",
       "    </tr>\n",
       "  </thead>\n",
       "  <tbody>\n",
       "    <tr>\n",
       "      <th>0</th>\n",
       "      <td>2022-01-01</td>\n",
       "      <td>7325.0</td>\n",
       "      <td>7400.0</td>\n",
       "      <td>7300.0</td>\n",
       "      <td>7325.0</td>\n",
       "    </tr>\n",
       "    <tr>\n",
       "      <th>1</th>\n",
       "      <td>2022-01-02</td>\n",
       "      <td>Equal</td>\n",
       "      <td>Positive</td>\n",
       "      <td>Negative</td>\n",
       "      <td>7325.0</td>\n",
       "    </tr>\n",
       "    <tr>\n",
       "      <th>2</th>\n",
       "      <td>2022-01-03</td>\n",
       "      <td>Equal</td>\n",
       "      <td>Positive</td>\n",
       "      <td>Negative</td>\n",
       "      <td>7325.0</td>\n",
       "    </tr>\n",
       "    <tr>\n",
       "      <th>3</th>\n",
       "      <td>2022-01-04</td>\n",
       "      <td>Equal</td>\n",
       "      <td>Positive</td>\n",
       "      <td>Equal</td>\n",
       "      <td>7400.0</td>\n",
       "    </tr>\n",
       "    <tr>\n",
       "      <th>4</th>\n",
       "      <td>2022-01-05</td>\n",
       "      <td>Positive</td>\n",
       "      <td>Positive</td>\n",
       "      <td>Negative</td>\n",
       "      <td>7450.0</td>\n",
       "    </tr>\n",
       "    <tr>\n",
       "      <th>...</th>\n",
       "      <td>...</td>\n",
       "      <td>...</td>\n",
       "      <td>...</td>\n",
       "      <td>...</td>\n",
       "      <td>...</td>\n",
       "    </tr>\n",
       "    <tr>\n",
       "      <th>86</th>\n",
       "      <td>2022-03-28</td>\n",
       "      <td>Negative</td>\n",
       "      <td>Negative</td>\n",
       "      <td>Negative</td>\n",
       "      <td>7900.0</td>\n",
       "    </tr>\n",
       "    <tr>\n",
       "      <th>87</th>\n",
       "      <td>2022-03-29</td>\n",
       "      <td>Negative</td>\n",
       "      <td>Equal</td>\n",
       "      <td>Negative</td>\n",
       "      <td>7850.0</td>\n",
       "    </tr>\n",
       "    <tr>\n",
       "      <th>88</th>\n",
       "      <td>2022-03-30</td>\n",
       "      <td>Positive</td>\n",
       "      <td>Positive</td>\n",
       "      <td>Negative</td>\n",
       "      <td>7875.0</td>\n",
       "    </tr>\n",
       "    <tr>\n",
       "      <th>89</th>\n",
       "      <td>2022-03-31</td>\n",
       "      <td>Positive</td>\n",
       "      <td>Positive</td>\n",
       "      <td>Equal</td>\n",
       "      <td>7975.0</td>\n",
       "    </tr>\n",
       "    <tr>\n",
       "      <th>90</th>\n",
       "      <td>2022-04-01</td>\n",
       "      <td>Positive</td>\n",
       "      <td>Positive</td>\n",
       "      <td>Negative</td>\n",
       "      <td>7850.0</td>\n",
       "    </tr>\n",
       "  </tbody>\n",
       "</table>\n",
       "<p>91 rows × 5 columns</p>\n",
       "</div>"
      ],
      "text/plain": [
       "         Date      Open      High       Low   Close\n",
       "0  2022-01-01    7325.0    7400.0    7300.0  7325.0\n",
       "1  2022-01-02     Equal  Positive  Negative  7325.0\n",
       "2  2022-01-03     Equal  Positive  Negative  7325.0\n",
       "3  2022-01-04     Equal  Positive     Equal  7400.0\n",
       "4  2022-01-05  Positive  Positive  Negative  7450.0\n",
       "..        ...       ...       ...       ...     ...\n",
       "86 2022-03-28  Negative  Negative  Negative  7900.0\n",
       "87 2022-03-29  Negative     Equal  Negative  7850.0\n",
       "88 2022-03-30  Positive  Positive  Negative  7875.0\n",
       "89 2022-03-31  Positive  Positive     Equal  7975.0\n",
       "90 2022-04-01  Positive  Positive  Negative  7850.0\n",
       "\n",
       "[91 rows x 5 columns]"
      ]
     },
     "execution_count": 97,
     "metadata": {},
     "output_type": "execute_result"
    }
   ],
   "source": [
    "def discretize_value(value,idx):\n",
    "    if value > feature.iloc[idx-1,4]:\n",
    "        return 'Positive'\n",
    "    elif value < feature.iloc[idx-1,4]:\n",
    "        return 'Negative'\n",
    "    else:\n",
    "        return 'Equal'\n",
    "\n",
    "for x in range(1,91):\n",
    "    feature.iloc[x,1] = discretize_value(feature.iloc[x,1],x)\n",
    "    feature.iloc[x,2] = discretize_value(feature.iloc[x,2],x)\n",
    "    feature.iloc[x,3] = discretize_value(feature.iloc[x,3],x)\n",
    "feature"
   ]
  },
  {
   "cell_type": "code",
   "execution_count": 94,
   "id": "44b6b114",
   "metadata": {},
   "outputs": [],
   "source": [
    "# hari terakhir desember 2021 close = 7300.0"
   ]
  },
  {
   "cell_type": "code",
   "execution_count": 98,
   "id": "d1c659a3",
   "metadata": {},
   "outputs": [
    {
     "data": {
      "text/html": [
       "<div>\n",
       "<style scoped>\n",
       "    .dataframe tbody tr th:only-of-type {\n",
       "        vertical-align: middle;\n",
       "    }\n",
       "\n",
       "    .dataframe tbody tr th {\n",
       "        vertical-align: top;\n",
       "    }\n",
       "\n",
       "    .dataframe thead th {\n",
       "        text-align: right;\n",
       "    }\n",
       "</style>\n",
       "<table border=\"1\" class=\"dataframe\">\n",
       "  <thead>\n",
       "    <tr style=\"text-align: right;\">\n",
       "      <th></th>\n",
       "      <th>Date</th>\n",
       "      <th>Open</th>\n",
       "      <th>High</th>\n",
       "      <th>Low</th>\n",
       "      <th>Close</th>\n",
       "    </tr>\n",
       "  </thead>\n",
       "  <tbody>\n",
       "    <tr>\n",
       "      <th>0</th>\n",
       "      <td>2022-01-01</td>\n",
       "      <td>Positive</td>\n",
       "      <td>Positive</td>\n",
       "      <td>Equal</td>\n",
       "      <td>7325.0</td>\n",
       "    </tr>\n",
       "    <tr>\n",
       "      <th>1</th>\n",
       "      <td>2022-01-02</td>\n",
       "      <td>Equal</td>\n",
       "      <td>Positive</td>\n",
       "      <td>Negative</td>\n",
       "      <td>7325.0</td>\n",
       "    </tr>\n",
       "    <tr>\n",
       "      <th>2</th>\n",
       "      <td>2022-01-03</td>\n",
       "      <td>Equal</td>\n",
       "      <td>Positive</td>\n",
       "      <td>Negative</td>\n",
       "      <td>7325.0</td>\n",
       "    </tr>\n",
       "    <tr>\n",
       "      <th>3</th>\n",
       "      <td>2022-01-04</td>\n",
       "      <td>Equal</td>\n",
       "      <td>Positive</td>\n",
       "      <td>Equal</td>\n",
       "      <td>7400.0</td>\n",
       "    </tr>\n",
       "    <tr>\n",
       "      <th>4</th>\n",
       "      <td>2022-01-05</td>\n",
       "      <td>Positive</td>\n",
       "      <td>Positive</td>\n",
       "      <td>Negative</td>\n",
       "      <td>7450.0</td>\n",
       "    </tr>\n",
       "    <tr>\n",
       "      <th>...</th>\n",
       "      <td>...</td>\n",
       "      <td>...</td>\n",
       "      <td>...</td>\n",
       "      <td>...</td>\n",
       "      <td>...</td>\n",
       "    </tr>\n",
       "    <tr>\n",
       "      <th>86</th>\n",
       "      <td>2022-03-28</td>\n",
       "      <td>Negative</td>\n",
       "      <td>Negative</td>\n",
       "      <td>Negative</td>\n",
       "      <td>7900.0</td>\n",
       "    </tr>\n",
       "    <tr>\n",
       "      <th>87</th>\n",
       "      <td>2022-03-29</td>\n",
       "      <td>Negative</td>\n",
       "      <td>Equal</td>\n",
       "      <td>Negative</td>\n",
       "      <td>7850.0</td>\n",
       "    </tr>\n",
       "    <tr>\n",
       "      <th>88</th>\n",
       "      <td>2022-03-30</td>\n",
       "      <td>Positive</td>\n",
       "      <td>Positive</td>\n",
       "      <td>Negative</td>\n",
       "      <td>7875.0</td>\n",
       "    </tr>\n",
       "    <tr>\n",
       "      <th>89</th>\n",
       "      <td>2022-03-31</td>\n",
       "      <td>Positive</td>\n",
       "      <td>Positive</td>\n",
       "      <td>Equal</td>\n",
       "      <td>7975.0</td>\n",
       "    </tr>\n",
       "    <tr>\n",
       "      <th>90</th>\n",
       "      <td>2022-04-01</td>\n",
       "      <td>Positive</td>\n",
       "      <td>Positive</td>\n",
       "      <td>Negative</td>\n",
       "      <td>7850.0</td>\n",
       "    </tr>\n",
       "  </tbody>\n",
       "</table>\n",
       "<p>91 rows × 5 columns</p>\n",
       "</div>"
      ],
      "text/plain": [
       "         Date      Open      High       Low   Close\n",
       "0  2022-01-01  Positive  Positive     Equal  7325.0\n",
       "1  2022-01-02     Equal  Positive  Negative  7325.0\n",
       "2  2022-01-03     Equal  Positive  Negative  7325.0\n",
       "3  2022-01-04     Equal  Positive     Equal  7400.0\n",
       "4  2022-01-05  Positive  Positive  Negative  7450.0\n",
       "..        ...       ...       ...       ...     ...\n",
       "86 2022-03-28  Negative  Negative  Negative  7900.0\n",
       "87 2022-03-29  Negative     Equal  Negative  7850.0\n",
       "88 2022-03-30  Positive  Positive  Negative  7875.0\n",
       "89 2022-03-31  Positive  Positive     Equal  7975.0\n",
       "90 2022-04-01  Positive  Positive  Negative  7850.0\n",
       "\n",
       "[91 rows x 5 columns]"
      ]
     },
     "execution_count": 98,
     "metadata": {},
     "output_type": "execute_result"
    }
   ],
   "source": [
    "# Index 0 dibuat equal\n",
    "feature.iloc[0,1] = 'Positive'\n",
    "feature.iloc[0,2] = 'Positive'\n",
    "feature.iloc[0,3] = 'Equal'\n",
    "feature"
   ]
  },
  {
   "cell_type": "markdown",
   "id": "f79e9d0a",
   "metadata": {},
   "source": [
    "### Labelling \"raise\" or \"fall\""
   ]
  },
  {
   "cell_type": "code",
   "execution_count": 99,
   "id": "83d2f43d",
   "metadata": {},
   "outputs": [
    {
     "data": {
      "text/html": [
       "<div>\n",
       "<style scoped>\n",
       "    .dataframe tbody tr th:only-of-type {\n",
       "        vertical-align: middle;\n",
       "    }\n",
       "\n",
       "    .dataframe tbody tr th {\n",
       "        vertical-align: top;\n",
       "    }\n",
       "\n",
       "    .dataframe thead th {\n",
       "        text-align: right;\n",
       "    }\n",
       "</style>\n",
       "<table border=\"1\" class=\"dataframe\">\n",
       "  <thead>\n",
       "    <tr style=\"text-align: right;\">\n",
       "      <th></th>\n",
       "      <th>Date</th>\n",
       "      <th>Open</th>\n",
       "      <th>High</th>\n",
       "      <th>Low</th>\n",
       "      <th>Close</th>\n",
       "      <th>label</th>\n",
       "    </tr>\n",
       "  </thead>\n",
       "  <tbody>\n",
       "    <tr>\n",
       "      <th>0</th>\n",
       "      <td>2022-01-01</td>\n",
       "      <td>Positive</td>\n",
       "      <td>Positive</td>\n",
       "      <td>Equal</td>\n",
       "      <td>7325.0</td>\n",
       "      <td>1</td>\n",
       "    </tr>\n",
       "    <tr>\n",
       "      <th>1</th>\n",
       "      <td>2022-01-02</td>\n",
       "      <td>Equal</td>\n",
       "      <td>Positive</td>\n",
       "      <td>Negative</td>\n",
       "      <td>7325.0</td>\n",
       "      <td>1</td>\n",
       "    </tr>\n",
       "    <tr>\n",
       "      <th>2</th>\n",
       "      <td>2022-01-03</td>\n",
       "      <td>Equal</td>\n",
       "      <td>Positive</td>\n",
       "      <td>Negative</td>\n",
       "      <td>7325.0</td>\n",
       "      <td>1</td>\n",
       "    </tr>\n",
       "    <tr>\n",
       "      <th>3</th>\n",
       "      <td>2022-01-04</td>\n",
       "      <td>Equal</td>\n",
       "      <td>Positive</td>\n",
       "      <td>Equal</td>\n",
       "      <td>7400.0</td>\n",
       "      <td>1</td>\n",
       "    </tr>\n",
       "    <tr>\n",
       "      <th>4</th>\n",
       "      <td>2022-01-05</td>\n",
       "      <td>Positive</td>\n",
       "      <td>Positive</td>\n",
       "      <td>Negative</td>\n",
       "      <td>7450.0</td>\n",
       "      <td>1</td>\n",
       "    </tr>\n",
       "    <tr>\n",
       "      <th>...</th>\n",
       "      <td>...</td>\n",
       "      <td>...</td>\n",
       "      <td>...</td>\n",
       "      <td>...</td>\n",
       "      <td>...</td>\n",
       "      <td>...</td>\n",
       "    </tr>\n",
       "    <tr>\n",
       "      <th>86</th>\n",
       "      <td>2022-03-28</td>\n",
       "      <td>Negative</td>\n",
       "      <td>Negative</td>\n",
       "      <td>Negative</td>\n",
       "      <td>7900.0</td>\n",
       "      <td>0</td>\n",
       "    </tr>\n",
       "    <tr>\n",
       "      <th>87</th>\n",
       "      <td>2022-03-29</td>\n",
       "      <td>Negative</td>\n",
       "      <td>Equal</td>\n",
       "      <td>Negative</td>\n",
       "      <td>7850.0</td>\n",
       "      <td>0</td>\n",
       "    </tr>\n",
       "    <tr>\n",
       "      <th>88</th>\n",
       "      <td>2022-03-30</td>\n",
       "      <td>Positive</td>\n",
       "      <td>Positive</td>\n",
       "      <td>Negative</td>\n",
       "      <td>7875.0</td>\n",
       "      <td>1</td>\n",
       "    </tr>\n",
       "    <tr>\n",
       "      <th>89</th>\n",
       "      <td>2022-03-31</td>\n",
       "      <td>Positive</td>\n",
       "      <td>Positive</td>\n",
       "      <td>Equal</td>\n",
       "      <td>7975.0</td>\n",
       "      <td>1</td>\n",
       "    </tr>\n",
       "    <tr>\n",
       "      <th>90</th>\n",
       "      <td>2022-04-01</td>\n",
       "      <td>Positive</td>\n",
       "      <td>Positive</td>\n",
       "      <td>Negative</td>\n",
       "      <td>7850.0</td>\n",
       "      <td>0</td>\n",
       "    </tr>\n",
       "  </tbody>\n",
       "</table>\n",
       "<p>91 rows × 6 columns</p>\n",
       "</div>"
      ],
      "text/plain": [
       "         Date      Open      High       Low   Close  label\n",
       "0  2022-01-01  Positive  Positive     Equal  7325.0      1\n",
       "1  2022-01-02     Equal  Positive  Negative  7325.0      1\n",
       "2  2022-01-03     Equal  Positive  Negative  7325.0      1\n",
       "3  2022-01-04     Equal  Positive     Equal  7400.0      1\n",
       "4  2022-01-05  Positive  Positive  Negative  7450.0      1\n",
       "..        ...       ...       ...       ...     ...    ...\n",
       "86 2022-03-28  Negative  Negative  Negative  7900.0      0\n",
       "87 2022-03-29  Negative     Equal  Negative  7850.0      0\n",
       "88 2022-03-30  Positive  Positive  Negative  7875.0      1\n",
       "89 2022-03-31  Positive  Positive     Equal  7975.0      1\n",
       "90 2022-04-01  Positive  Positive  Negative  7850.0      0\n",
       "\n",
       "[91 rows x 6 columns]"
      ]
     },
     "execution_count": 99,
     "metadata": {},
     "output_type": "execute_result"
    }
   ],
   "source": [
    "def label_close(value,idx):\n",
    "    if value >= feature.iloc[idx-1,4]:\n",
    "        return 1\n",
    "    elif value < feature.iloc[idx-1,4]:\n",
    "        return 0\n",
    "\n",
    "# hari terakhir desember 2021 close = 7300.0\n",
    "label_stock = [1]\n",
    "for x in range(1,91):\n",
    "    label_stock.append(label_close(feature.iloc[x,4],x))\n",
    "feature['label'] = label_stock\n",
    "feature"
   ]
  },
  {
   "cell_type": "code",
   "execution_count": 100,
   "id": "5637f66c",
   "metadata": {},
   "outputs": [
    {
     "data": {
      "text/plain": [
       "1    51\n",
       "0    40\n",
       "Name: label, dtype: int64"
      ]
     },
     "execution_count": 100,
     "metadata": {},
     "output_type": "execute_result"
    }
   ],
   "source": [
    "feature['label'].value_counts()"
   ]
  },
  {
   "cell_type": "markdown",
   "id": "3874fac3",
   "metadata": {},
   "source": [
    "Data numerik sudah di process, perlu digabungkan dengan data sentimen"
   ]
  },
  {
   "cell_type": "markdown",
   "id": "0086368f",
   "metadata": {},
   "source": [
    "# Modelling Stock Movement"
   ]
  },
  {
   "cell_type": "code",
   "execution_count": 22,
   "id": "46d89100",
   "metadata": {},
   "outputs": [],
   "source": [
    "from sklearn.linear_model import LogisticRegression\n",
    "from sklearn.naive_bayes import MultinomialNB\n",
    "from sklearn.linear_model import SGDClassifier\n",
    "from sklearn.ensemble import RandomForestClassifier\n",
    "from sklearn.metrics import confusion_matrix, accuracy_score, classification_report, recall_score, precision_score, f1_score\n",
    "from sklearn.svm import SVC\n",
    "from imblearn.over_sampling import ADASYN, SMOTE, RandomOverSampler"
   ]
  },
  {
   "cell_type": "code",
   "execution_count": 101,
   "id": "8f00928c",
   "metadata": {},
   "outputs": [
    {
     "data": {
      "text/html": [
       "<div>\n",
       "<style scoped>\n",
       "    .dataframe tbody tr th:only-of-type {\n",
       "        vertical-align: middle;\n",
       "    }\n",
       "\n",
       "    .dataframe tbody tr th {\n",
       "        vertical-align: top;\n",
       "    }\n",
       "\n",
       "    .dataframe thead th {\n",
       "        text-align: right;\n",
       "    }\n",
       "</style>\n",
       "<table border=\"1\" class=\"dataframe\">\n",
       "  <thead>\n",
       "    <tr style=\"text-align: right;\">\n",
       "      <th></th>\n",
       "      <th>Date</th>\n",
       "      <th>sentimen_score</th>\n",
       "      <th>sentimen</th>\n",
       "    </tr>\n",
       "  </thead>\n",
       "  <tbody>\n",
       "    <tr>\n",
       "      <th>0</th>\n",
       "      <td>2022-01-01</td>\n",
       "      <td>-1.0</td>\n",
       "      <td>0.0</td>\n",
       "    </tr>\n",
       "    <tr>\n",
       "      <th>1</th>\n",
       "      <td>2022-01-02</td>\n",
       "      <td>1.0</td>\n",
       "      <td>1.0</td>\n",
       "    </tr>\n",
       "    <tr>\n",
       "      <th>2</th>\n",
       "      <td>2022-01-03</td>\n",
       "      <td>0.0</td>\n",
       "      <td>1.0</td>\n",
       "    </tr>\n",
       "    <tr>\n",
       "      <th>3</th>\n",
       "      <td>2022-01-04</td>\n",
       "      <td>0.0</td>\n",
       "      <td>1.0</td>\n",
       "    </tr>\n",
       "    <tr>\n",
       "      <th>4</th>\n",
       "      <td>2022-01-05</td>\n",
       "      <td>1.0</td>\n",
       "      <td>1.0</td>\n",
       "    </tr>\n",
       "    <tr>\n",
       "      <th>...</th>\n",
       "      <td>...</td>\n",
       "      <td>...</td>\n",
       "      <td>...</td>\n",
       "    </tr>\n",
       "    <tr>\n",
       "      <th>86</th>\n",
       "      <td>2022-03-28</td>\n",
       "      <td>4.0</td>\n",
       "      <td>1.0</td>\n",
       "    </tr>\n",
       "    <tr>\n",
       "      <th>87</th>\n",
       "      <td>2022-03-29</td>\n",
       "      <td>4.0</td>\n",
       "      <td>1.0</td>\n",
       "    </tr>\n",
       "    <tr>\n",
       "      <th>88</th>\n",
       "      <td>2022-03-30</td>\n",
       "      <td>-2.0</td>\n",
       "      <td>0.0</td>\n",
       "    </tr>\n",
       "    <tr>\n",
       "      <th>89</th>\n",
       "      <td>2022-03-31</td>\n",
       "      <td>-6.0</td>\n",
       "      <td>0.0</td>\n",
       "    </tr>\n",
       "    <tr>\n",
       "      <th>90</th>\n",
       "      <td>2022-04-01</td>\n",
       "      <td>-276.0</td>\n",
       "      <td>0.0</td>\n",
       "    </tr>\n",
       "  </tbody>\n",
       "</table>\n",
       "<p>91 rows × 3 columns</p>\n",
       "</div>"
      ],
      "text/plain": [
       "         Date  sentimen_score  sentimen\n",
       "0  2022-01-01            -1.0       0.0\n",
       "1  2022-01-02             1.0       1.0\n",
       "2  2022-01-03             0.0       1.0\n",
       "3  2022-01-04             0.0       1.0\n",
       "4  2022-01-05             1.0       1.0\n",
       "..        ...             ...       ...\n",
       "86 2022-03-28             4.0       1.0\n",
       "87 2022-03-29             4.0       1.0\n",
       "88 2022-03-30            -2.0       0.0\n",
       "89 2022-03-31            -6.0       0.0\n",
       "90 2022-04-01          -276.0       0.0\n",
       "\n",
       "[91 rows x 3 columns]"
      ]
     },
     "execution_count": 101,
     "metadata": {},
     "output_type": "execute_result"
    }
   ],
   "source": [
    "sentimen_data = pd.read_csv('data/sentimen_full.csv')\n",
    "sentimen_data['Datetime'] = pd.to_datetime(sentimen_data['Datetime'])\n",
    "sentimen_data.rename(columns={'Datetime':'Date'}, inplace=True)\n",
    "sentimen_data"
   ]
  },
  {
   "cell_type": "code",
   "execution_count": 102,
   "id": "8316a413",
   "metadata": {},
   "outputs": [
    {
     "data": {
      "text/plain": [
       "1.0    51\n",
       "0.0    40\n",
       "Name: sentimen, dtype: int64"
      ]
     },
     "execution_count": 102,
     "metadata": {},
     "output_type": "execute_result"
    }
   ],
   "source": [
    "sentimen_data.sentimen.value_counts()"
   ]
  },
  {
   "cell_type": "code",
   "execution_count": 103,
   "id": "1f7aa0d6",
   "metadata": {},
   "outputs": [
    {
     "data": {
      "text/html": [
       "<div>\n",
       "<style scoped>\n",
       "    .dataframe tbody tr th:only-of-type {\n",
       "        vertical-align: middle;\n",
       "    }\n",
       "\n",
       "    .dataframe tbody tr th {\n",
       "        vertical-align: top;\n",
       "    }\n",
       "\n",
       "    .dataframe thead th {\n",
       "        text-align: right;\n",
       "    }\n",
       "</style>\n",
       "<table border=\"1\" class=\"dataframe\">\n",
       "  <thead>\n",
       "    <tr style=\"text-align: right;\">\n",
       "      <th></th>\n",
       "      <th>Date</th>\n",
       "      <th>sentimen</th>\n",
       "      <th>Open</th>\n",
       "      <th>High</th>\n",
       "      <th>Low</th>\n",
       "      <th>Close</th>\n",
       "      <th>label</th>\n",
       "    </tr>\n",
       "  </thead>\n",
       "  <tbody>\n",
       "    <tr>\n",
       "      <th>0</th>\n",
       "      <td>2022-01-01</td>\n",
       "      <td>0.0</td>\n",
       "      <td>Positive</td>\n",
       "      <td>Positive</td>\n",
       "      <td>Equal</td>\n",
       "      <td>7325.0</td>\n",
       "      <td>1</td>\n",
       "    </tr>\n",
       "    <tr>\n",
       "      <th>1</th>\n",
       "      <td>2022-01-02</td>\n",
       "      <td>1.0</td>\n",
       "      <td>Equal</td>\n",
       "      <td>Positive</td>\n",
       "      <td>Negative</td>\n",
       "      <td>7325.0</td>\n",
       "      <td>1</td>\n",
       "    </tr>\n",
       "    <tr>\n",
       "      <th>2</th>\n",
       "      <td>2022-01-03</td>\n",
       "      <td>1.0</td>\n",
       "      <td>Equal</td>\n",
       "      <td>Positive</td>\n",
       "      <td>Negative</td>\n",
       "      <td>7325.0</td>\n",
       "      <td>1</td>\n",
       "    </tr>\n",
       "    <tr>\n",
       "      <th>3</th>\n",
       "      <td>2022-01-04</td>\n",
       "      <td>1.0</td>\n",
       "      <td>Equal</td>\n",
       "      <td>Positive</td>\n",
       "      <td>Equal</td>\n",
       "      <td>7400.0</td>\n",
       "      <td>1</td>\n",
       "    </tr>\n",
       "    <tr>\n",
       "      <th>4</th>\n",
       "      <td>2022-01-05</td>\n",
       "      <td>1.0</td>\n",
       "      <td>Positive</td>\n",
       "      <td>Positive</td>\n",
       "      <td>Negative</td>\n",
       "      <td>7450.0</td>\n",
       "      <td>1</td>\n",
       "    </tr>\n",
       "    <tr>\n",
       "      <th>...</th>\n",
       "      <td>...</td>\n",
       "      <td>...</td>\n",
       "      <td>...</td>\n",
       "      <td>...</td>\n",
       "      <td>...</td>\n",
       "      <td>...</td>\n",
       "      <td>...</td>\n",
       "    </tr>\n",
       "    <tr>\n",
       "      <th>86</th>\n",
       "      <td>2022-03-28</td>\n",
       "      <td>1.0</td>\n",
       "      <td>Negative</td>\n",
       "      <td>Negative</td>\n",
       "      <td>Negative</td>\n",
       "      <td>7900.0</td>\n",
       "      <td>0</td>\n",
       "    </tr>\n",
       "    <tr>\n",
       "      <th>87</th>\n",
       "      <td>2022-03-29</td>\n",
       "      <td>1.0</td>\n",
       "      <td>Negative</td>\n",
       "      <td>Equal</td>\n",
       "      <td>Negative</td>\n",
       "      <td>7850.0</td>\n",
       "      <td>0</td>\n",
       "    </tr>\n",
       "    <tr>\n",
       "      <th>88</th>\n",
       "      <td>2022-03-30</td>\n",
       "      <td>0.0</td>\n",
       "      <td>Positive</td>\n",
       "      <td>Positive</td>\n",
       "      <td>Negative</td>\n",
       "      <td>7875.0</td>\n",
       "      <td>1</td>\n",
       "    </tr>\n",
       "    <tr>\n",
       "      <th>89</th>\n",
       "      <td>2022-03-31</td>\n",
       "      <td>0.0</td>\n",
       "      <td>Positive</td>\n",
       "      <td>Positive</td>\n",
       "      <td>Equal</td>\n",
       "      <td>7975.0</td>\n",
       "      <td>1</td>\n",
       "    </tr>\n",
       "    <tr>\n",
       "      <th>90</th>\n",
       "      <td>2022-04-01</td>\n",
       "      <td>0.0</td>\n",
       "      <td>Positive</td>\n",
       "      <td>Positive</td>\n",
       "      <td>Negative</td>\n",
       "      <td>7850.0</td>\n",
       "      <td>0</td>\n",
       "    </tr>\n",
       "  </tbody>\n",
       "</table>\n",
       "<p>91 rows × 7 columns</p>\n",
       "</div>"
      ],
      "text/plain": [
       "         Date  sentimen      Open      High       Low   Close  label\n",
       "0  2022-01-01       0.0  Positive  Positive     Equal  7325.0      1\n",
       "1  2022-01-02       1.0     Equal  Positive  Negative  7325.0      1\n",
       "2  2022-01-03       1.0     Equal  Positive  Negative  7325.0      1\n",
       "3  2022-01-04       1.0     Equal  Positive     Equal  7400.0      1\n",
       "4  2022-01-05       1.0  Positive  Positive  Negative  7450.0      1\n",
       "..        ...       ...       ...       ...       ...     ...    ...\n",
       "86 2022-03-28       1.0  Negative  Negative  Negative  7900.0      0\n",
       "87 2022-03-29       1.0  Negative     Equal  Negative  7850.0      0\n",
       "88 2022-03-30       0.0  Positive  Positive  Negative  7875.0      1\n",
       "89 2022-03-31       0.0  Positive  Positive     Equal  7975.0      1\n",
       "90 2022-04-01       0.0  Positive  Positive  Negative  7850.0      0\n",
       "\n",
       "[91 rows x 7 columns]"
      ]
     },
     "execution_count": 103,
     "metadata": {},
     "output_type": "execute_result"
    }
   ],
   "source": [
    "new_df = sentimen_data[['Date','sentimen']].merge(feature, on=['Date'], how='right')\n",
    "new_df"
   ]
  },
  {
   "cell_type": "markdown",
   "id": "0c75987f",
   "metadata": {},
   "source": [
    "## Encode"
   ]
  },
  {
   "cell_type": "code",
   "execution_count": 104,
   "id": "3b2238cc",
   "metadata": {},
   "outputs": [
    {
     "data": {
      "text/html": [
       "<div>\n",
       "<style scoped>\n",
       "    .dataframe tbody tr th:only-of-type {\n",
       "        vertical-align: middle;\n",
       "    }\n",
       "\n",
       "    .dataframe tbody tr th {\n",
       "        vertical-align: top;\n",
       "    }\n",
       "\n",
       "    .dataframe thead th {\n",
       "        text-align: right;\n",
       "    }\n",
       "</style>\n",
       "<table border=\"1\" class=\"dataframe\">\n",
       "  <thead>\n",
       "    <tr style=\"text-align: right;\">\n",
       "      <th></th>\n",
       "      <th>Date</th>\n",
       "      <th>sentimen</th>\n",
       "      <th>Open</th>\n",
       "      <th>High</th>\n",
       "      <th>Low</th>\n",
       "      <th>Close</th>\n",
       "      <th>label</th>\n",
       "      <th>open_Positive</th>\n",
       "      <th>open_Equal</th>\n",
       "      <th>open_Negative</th>\n",
       "    </tr>\n",
       "  </thead>\n",
       "  <tbody>\n",
       "    <tr>\n",
       "      <th>0</th>\n",
       "      <td>2022-01-01</td>\n",
       "      <td>0.0</td>\n",
       "      <td>Positive</td>\n",
       "      <td>Positive</td>\n",
       "      <td>Equal</td>\n",
       "      <td>7325.0</td>\n",
       "      <td>1</td>\n",
       "      <td>1.0</td>\n",
       "      <td>0.0</td>\n",
       "      <td>0.0</td>\n",
       "    </tr>\n",
       "    <tr>\n",
       "      <th>1</th>\n",
       "      <td>2022-01-02</td>\n",
       "      <td>1.0</td>\n",
       "      <td>Equal</td>\n",
       "      <td>Positive</td>\n",
       "      <td>Negative</td>\n",
       "      <td>7325.0</td>\n",
       "      <td>1</td>\n",
       "      <td>0.0</td>\n",
       "      <td>1.0</td>\n",
       "      <td>0.0</td>\n",
       "    </tr>\n",
       "    <tr>\n",
       "      <th>2</th>\n",
       "      <td>2022-01-03</td>\n",
       "      <td>1.0</td>\n",
       "      <td>Equal</td>\n",
       "      <td>Positive</td>\n",
       "      <td>Negative</td>\n",
       "      <td>7325.0</td>\n",
       "      <td>1</td>\n",
       "      <td>0.0</td>\n",
       "      <td>1.0</td>\n",
       "      <td>0.0</td>\n",
       "    </tr>\n",
       "    <tr>\n",
       "      <th>3</th>\n",
       "      <td>2022-01-04</td>\n",
       "      <td>1.0</td>\n",
       "      <td>Equal</td>\n",
       "      <td>Positive</td>\n",
       "      <td>Equal</td>\n",
       "      <td>7400.0</td>\n",
       "      <td>1</td>\n",
       "      <td>0.0</td>\n",
       "      <td>1.0</td>\n",
       "      <td>0.0</td>\n",
       "    </tr>\n",
       "    <tr>\n",
       "      <th>4</th>\n",
       "      <td>2022-01-05</td>\n",
       "      <td>1.0</td>\n",
       "      <td>Positive</td>\n",
       "      <td>Positive</td>\n",
       "      <td>Negative</td>\n",
       "      <td>7450.0</td>\n",
       "      <td>1</td>\n",
       "      <td>1.0</td>\n",
       "      <td>0.0</td>\n",
       "      <td>0.0</td>\n",
       "    </tr>\n",
       "  </tbody>\n",
       "</table>\n",
       "</div>"
      ],
      "text/plain": [
       "        Date  sentimen      Open      High       Low   Close  label  \\\n",
       "0 2022-01-01       0.0  Positive  Positive     Equal  7325.0      1   \n",
       "1 2022-01-02       1.0     Equal  Positive  Negative  7325.0      1   \n",
       "2 2022-01-03       1.0     Equal  Positive  Negative  7325.0      1   \n",
       "3 2022-01-04       1.0     Equal  Positive     Equal  7400.0      1   \n",
       "4 2022-01-05       1.0  Positive  Positive  Negative  7450.0      1   \n",
       "\n",
       "   open_Positive  open_Equal  open_Negative  \n",
       "0            1.0         0.0            0.0  \n",
       "1            0.0         1.0            0.0  \n",
       "2            0.0         1.0            0.0  \n",
       "3            0.0         1.0            0.0  \n",
       "4            1.0         0.0            0.0  "
      ]
     },
     "execution_count": 104,
     "metadata": {},
     "output_type": "execute_result"
    }
   ],
   "source": [
    "# Cara 2 untuk one hot encoder\n",
    "\n",
    "from sklearn.preprocessing import OneHotEncoder\n",
    "\n",
    "# Membuat Object OneHotEncoder dengan kategori yang disesuaikan dengan isi unique dari kolom\n",
    "# lalu object digunakan untuk fit kemudian transform\n",
    "ohe = OneHotEncoder(categories=[list(new_df.Open.unique())], handle_unknown='ignore', sparse=False)\n",
    "y = np.array(new_df['Open']).reshape(-1,1)\n",
    "ohe.fit(y)\n",
    "y_transform = ohe.transform(y)\n",
    "\n",
    "# Membuat kolom baru untuk menampung hasil encoding \n",
    "new_df[[ f'open_{opn}' for opn in new_df.Open.unique() ]] = y_transform\n",
    "new_df.head()"
   ]
  },
  {
   "cell_type": "code",
   "execution_count": 105,
   "id": "c2d3afb2",
   "metadata": {},
   "outputs": [
    {
     "data": {
      "text/html": [
       "<div>\n",
       "<style scoped>\n",
       "    .dataframe tbody tr th:only-of-type {\n",
       "        vertical-align: middle;\n",
       "    }\n",
       "\n",
       "    .dataframe tbody tr th {\n",
       "        vertical-align: top;\n",
       "    }\n",
       "\n",
       "    .dataframe thead th {\n",
       "        text-align: right;\n",
       "    }\n",
       "</style>\n",
       "<table border=\"1\" class=\"dataframe\">\n",
       "  <thead>\n",
       "    <tr style=\"text-align: right;\">\n",
       "      <th></th>\n",
       "      <th>Date</th>\n",
       "      <th>sentimen</th>\n",
       "      <th>Open</th>\n",
       "      <th>High</th>\n",
       "      <th>Low</th>\n",
       "      <th>Close</th>\n",
       "      <th>label</th>\n",
       "      <th>open_Positive</th>\n",
       "      <th>open_Equal</th>\n",
       "      <th>open_Negative</th>\n",
       "      <th>high_Positive</th>\n",
       "      <th>high_Equal</th>\n",
       "      <th>high_Negative</th>\n",
       "    </tr>\n",
       "  </thead>\n",
       "  <tbody>\n",
       "    <tr>\n",
       "      <th>0</th>\n",
       "      <td>2022-01-01</td>\n",
       "      <td>0.0</td>\n",
       "      <td>Positive</td>\n",
       "      <td>Positive</td>\n",
       "      <td>Equal</td>\n",
       "      <td>7325.0</td>\n",
       "      <td>1</td>\n",
       "      <td>1.0</td>\n",
       "      <td>0.0</td>\n",
       "      <td>0.0</td>\n",
       "      <td>1.0</td>\n",
       "      <td>0.0</td>\n",
       "      <td>0.0</td>\n",
       "    </tr>\n",
       "    <tr>\n",
       "      <th>1</th>\n",
       "      <td>2022-01-02</td>\n",
       "      <td>1.0</td>\n",
       "      <td>Equal</td>\n",
       "      <td>Positive</td>\n",
       "      <td>Negative</td>\n",
       "      <td>7325.0</td>\n",
       "      <td>1</td>\n",
       "      <td>0.0</td>\n",
       "      <td>1.0</td>\n",
       "      <td>0.0</td>\n",
       "      <td>1.0</td>\n",
       "      <td>0.0</td>\n",
       "      <td>0.0</td>\n",
       "    </tr>\n",
       "    <tr>\n",
       "      <th>2</th>\n",
       "      <td>2022-01-03</td>\n",
       "      <td>1.0</td>\n",
       "      <td>Equal</td>\n",
       "      <td>Positive</td>\n",
       "      <td>Negative</td>\n",
       "      <td>7325.0</td>\n",
       "      <td>1</td>\n",
       "      <td>0.0</td>\n",
       "      <td>1.0</td>\n",
       "      <td>0.0</td>\n",
       "      <td>1.0</td>\n",
       "      <td>0.0</td>\n",
       "      <td>0.0</td>\n",
       "    </tr>\n",
       "    <tr>\n",
       "      <th>3</th>\n",
       "      <td>2022-01-04</td>\n",
       "      <td>1.0</td>\n",
       "      <td>Equal</td>\n",
       "      <td>Positive</td>\n",
       "      <td>Equal</td>\n",
       "      <td>7400.0</td>\n",
       "      <td>1</td>\n",
       "      <td>0.0</td>\n",
       "      <td>1.0</td>\n",
       "      <td>0.0</td>\n",
       "      <td>1.0</td>\n",
       "      <td>0.0</td>\n",
       "      <td>0.0</td>\n",
       "    </tr>\n",
       "    <tr>\n",
       "      <th>4</th>\n",
       "      <td>2022-01-05</td>\n",
       "      <td>1.0</td>\n",
       "      <td>Positive</td>\n",
       "      <td>Positive</td>\n",
       "      <td>Negative</td>\n",
       "      <td>7450.0</td>\n",
       "      <td>1</td>\n",
       "      <td>1.0</td>\n",
       "      <td>0.0</td>\n",
       "      <td>0.0</td>\n",
       "      <td>1.0</td>\n",
       "      <td>0.0</td>\n",
       "      <td>0.0</td>\n",
       "    </tr>\n",
       "  </tbody>\n",
       "</table>\n",
       "</div>"
      ],
      "text/plain": [
       "        Date  sentimen      Open      High       Low   Close  label  \\\n",
       "0 2022-01-01       0.0  Positive  Positive     Equal  7325.0      1   \n",
       "1 2022-01-02       1.0     Equal  Positive  Negative  7325.0      1   \n",
       "2 2022-01-03       1.0     Equal  Positive  Negative  7325.0      1   \n",
       "3 2022-01-04       1.0     Equal  Positive     Equal  7400.0      1   \n",
       "4 2022-01-05       1.0  Positive  Positive  Negative  7450.0      1   \n",
       "\n",
       "   open_Positive  open_Equal  open_Negative  high_Positive  high_Equal  \\\n",
       "0            1.0         0.0            0.0            1.0         0.0   \n",
       "1            0.0         1.0            0.0            1.0         0.0   \n",
       "2            0.0         1.0            0.0            1.0         0.0   \n",
       "3            0.0         1.0            0.0            1.0         0.0   \n",
       "4            1.0         0.0            0.0            1.0         0.0   \n",
       "\n",
       "   high_Negative  \n",
       "0            0.0  \n",
       "1            0.0  \n",
       "2            0.0  \n",
       "3            0.0  \n",
       "4            0.0  "
      ]
     },
     "execution_count": 105,
     "metadata": {},
     "output_type": "execute_result"
    }
   ],
   "source": [
    "# Cara 2 untuk one hot encoder\n",
    "\n",
    "from sklearn.preprocessing import OneHotEncoder\n",
    "\n",
    "# Membuat Object OneHotEncoder dengan kategori yang disesuaikan dengan isi unique dari kolom\n",
    "# lalu object digunakan untuk fit kemudian transform\n",
    "ohe = OneHotEncoder(categories=[list(new_df.High.unique())], handle_unknown='ignore', sparse=False)\n",
    "y = np.array(new_df['High']).reshape(-1,1)\n",
    "ohe.fit(y)\n",
    "y_transform = ohe.transform(y)\n",
    "\n",
    "# Membuat kolom baru untuk menampung hasil encoding \n",
    "new_df[[ f'high_{high}' for high in new_df.High.unique() ]] = y_transform\n",
    "new_df.head()"
   ]
  },
  {
   "cell_type": "code",
   "execution_count": 106,
   "id": "c88af90a",
   "metadata": {},
   "outputs": [
    {
     "data": {
      "text/html": [
       "<div>\n",
       "<style scoped>\n",
       "    .dataframe tbody tr th:only-of-type {\n",
       "        vertical-align: middle;\n",
       "    }\n",
       "\n",
       "    .dataframe tbody tr th {\n",
       "        vertical-align: top;\n",
       "    }\n",
       "\n",
       "    .dataframe thead th {\n",
       "        text-align: right;\n",
       "    }\n",
       "</style>\n",
       "<table border=\"1\" class=\"dataframe\">\n",
       "  <thead>\n",
       "    <tr style=\"text-align: right;\">\n",
       "      <th></th>\n",
       "      <th>Date</th>\n",
       "      <th>sentimen</th>\n",
       "      <th>Open</th>\n",
       "      <th>High</th>\n",
       "      <th>Low</th>\n",
       "      <th>Close</th>\n",
       "      <th>label</th>\n",
       "      <th>open_Positive</th>\n",
       "      <th>open_Equal</th>\n",
       "      <th>open_Negative</th>\n",
       "      <th>high_Positive</th>\n",
       "      <th>high_Equal</th>\n",
       "      <th>high_Negative</th>\n",
       "      <th>low_Equal</th>\n",
       "      <th>low_Negative</th>\n",
       "      <th>low_Positive</th>\n",
       "    </tr>\n",
       "  </thead>\n",
       "  <tbody>\n",
       "    <tr>\n",
       "      <th>0</th>\n",
       "      <td>2022-01-01</td>\n",
       "      <td>0.0</td>\n",
       "      <td>Positive</td>\n",
       "      <td>Positive</td>\n",
       "      <td>Equal</td>\n",
       "      <td>7325.0</td>\n",
       "      <td>1</td>\n",
       "      <td>1.0</td>\n",
       "      <td>0.0</td>\n",
       "      <td>0.0</td>\n",
       "      <td>1.0</td>\n",
       "      <td>0.0</td>\n",
       "      <td>0.0</td>\n",
       "      <td>1.0</td>\n",
       "      <td>0.0</td>\n",
       "      <td>0.0</td>\n",
       "    </tr>\n",
       "    <tr>\n",
       "      <th>1</th>\n",
       "      <td>2022-01-02</td>\n",
       "      <td>1.0</td>\n",
       "      <td>Equal</td>\n",
       "      <td>Positive</td>\n",
       "      <td>Negative</td>\n",
       "      <td>7325.0</td>\n",
       "      <td>1</td>\n",
       "      <td>0.0</td>\n",
       "      <td>1.0</td>\n",
       "      <td>0.0</td>\n",
       "      <td>1.0</td>\n",
       "      <td>0.0</td>\n",
       "      <td>0.0</td>\n",
       "      <td>0.0</td>\n",
       "      <td>1.0</td>\n",
       "      <td>0.0</td>\n",
       "    </tr>\n",
       "    <tr>\n",
       "      <th>2</th>\n",
       "      <td>2022-01-03</td>\n",
       "      <td>1.0</td>\n",
       "      <td>Equal</td>\n",
       "      <td>Positive</td>\n",
       "      <td>Negative</td>\n",
       "      <td>7325.0</td>\n",
       "      <td>1</td>\n",
       "      <td>0.0</td>\n",
       "      <td>1.0</td>\n",
       "      <td>0.0</td>\n",
       "      <td>1.0</td>\n",
       "      <td>0.0</td>\n",
       "      <td>0.0</td>\n",
       "      <td>0.0</td>\n",
       "      <td>1.0</td>\n",
       "      <td>0.0</td>\n",
       "    </tr>\n",
       "    <tr>\n",
       "      <th>3</th>\n",
       "      <td>2022-01-04</td>\n",
       "      <td>1.0</td>\n",
       "      <td>Equal</td>\n",
       "      <td>Positive</td>\n",
       "      <td>Equal</td>\n",
       "      <td>7400.0</td>\n",
       "      <td>1</td>\n",
       "      <td>0.0</td>\n",
       "      <td>1.0</td>\n",
       "      <td>0.0</td>\n",
       "      <td>1.0</td>\n",
       "      <td>0.0</td>\n",
       "      <td>0.0</td>\n",
       "      <td>1.0</td>\n",
       "      <td>0.0</td>\n",
       "      <td>0.0</td>\n",
       "    </tr>\n",
       "    <tr>\n",
       "      <th>4</th>\n",
       "      <td>2022-01-05</td>\n",
       "      <td>1.0</td>\n",
       "      <td>Positive</td>\n",
       "      <td>Positive</td>\n",
       "      <td>Negative</td>\n",
       "      <td>7450.0</td>\n",
       "      <td>1</td>\n",
       "      <td>1.0</td>\n",
       "      <td>0.0</td>\n",
       "      <td>0.0</td>\n",
       "      <td>1.0</td>\n",
       "      <td>0.0</td>\n",
       "      <td>0.0</td>\n",
       "      <td>0.0</td>\n",
       "      <td>1.0</td>\n",
       "      <td>0.0</td>\n",
       "    </tr>\n",
       "  </tbody>\n",
       "</table>\n",
       "</div>"
      ],
      "text/plain": [
       "        Date  sentimen      Open      High       Low   Close  label  \\\n",
       "0 2022-01-01       0.0  Positive  Positive     Equal  7325.0      1   \n",
       "1 2022-01-02       1.0     Equal  Positive  Negative  7325.0      1   \n",
       "2 2022-01-03       1.0     Equal  Positive  Negative  7325.0      1   \n",
       "3 2022-01-04       1.0     Equal  Positive     Equal  7400.0      1   \n",
       "4 2022-01-05       1.0  Positive  Positive  Negative  7450.0      1   \n",
       "\n",
       "   open_Positive  open_Equal  open_Negative  high_Positive  high_Equal  \\\n",
       "0            1.0         0.0            0.0            1.0         0.0   \n",
       "1            0.0         1.0            0.0            1.0         0.0   \n",
       "2            0.0         1.0            0.0            1.0         0.0   \n",
       "3            0.0         1.0            0.0            1.0         0.0   \n",
       "4            1.0         0.0            0.0            1.0         0.0   \n",
       "\n",
       "   high_Negative  low_Equal  low_Negative  low_Positive  \n",
       "0            0.0        1.0           0.0           0.0  \n",
       "1            0.0        0.0           1.0           0.0  \n",
       "2            0.0        0.0           1.0           0.0  \n",
       "3            0.0        1.0           0.0           0.0  \n",
       "4            0.0        0.0           1.0           0.0  "
      ]
     },
     "execution_count": 106,
     "metadata": {},
     "output_type": "execute_result"
    }
   ],
   "source": [
    "# Cara 2 untuk one hot encoder\n",
    "\n",
    "from sklearn.preprocessing import OneHotEncoder\n",
    "\n",
    "# Membuat Object OneHotEncoder dengan kategori yang disesuaikan dengan isi unique dari kolom\n",
    "# lalu object digunakan untuk fit kemudian transform\n",
    "ohe = OneHotEncoder(categories=[list(new_df.Low.unique())], handle_unknown='ignore', sparse=False)\n",
    "y = np.array(new_df['Low']).reshape(-1,1)\n",
    "ohe.fit(y)\n",
    "y_transform = ohe.transform(y)\n",
    "\n",
    "# Membuat kolom baru untuk menampung hasil encoding \n",
    "new_df[[ f'low_{low}' for low in new_df.Low.unique() ]] = y_transform\n",
    "new_df.head()"
   ]
  },
  {
   "cell_type": "code",
   "execution_count": 107,
   "id": "d90025a4",
   "metadata": {},
   "outputs": [
    {
     "data": {
      "text/html": [
       "<div>\n",
       "<style scoped>\n",
       "    .dataframe tbody tr th:only-of-type {\n",
       "        vertical-align: middle;\n",
       "    }\n",
       "\n",
       "    .dataframe tbody tr th {\n",
       "        vertical-align: top;\n",
       "    }\n",
       "\n",
       "    .dataframe thead th {\n",
       "        text-align: right;\n",
       "    }\n",
       "</style>\n",
       "<table border=\"1\" class=\"dataframe\">\n",
       "  <thead>\n",
       "    <tr style=\"text-align: right;\">\n",
       "      <th></th>\n",
       "      <th>Date</th>\n",
       "      <th>sentimen</th>\n",
       "      <th>Close</th>\n",
       "      <th>label</th>\n",
       "      <th>open_Positive</th>\n",
       "      <th>open_Equal</th>\n",
       "      <th>open_Negative</th>\n",
       "      <th>high_Positive</th>\n",
       "      <th>high_Equal</th>\n",
       "      <th>high_Negative</th>\n",
       "      <th>low_Equal</th>\n",
       "      <th>low_Negative</th>\n",
       "      <th>low_Positive</th>\n",
       "    </tr>\n",
       "  </thead>\n",
       "  <tbody>\n",
       "    <tr>\n",
       "      <th>0</th>\n",
       "      <td>2022-01-01</td>\n",
       "      <td>0.0</td>\n",
       "      <td>7325.0</td>\n",
       "      <td>1</td>\n",
       "      <td>1.0</td>\n",
       "      <td>0.0</td>\n",
       "      <td>0.0</td>\n",
       "      <td>1.0</td>\n",
       "      <td>0.0</td>\n",
       "      <td>0.0</td>\n",
       "      <td>1.0</td>\n",
       "      <td>0.0</td>\n",
       "      <td>0.0</td>\n",
       "    </tr>\n",
       "    <tr>\n",
       "      <th>1</th>\n",
       "      <td>2022-01-02</td>\n",
       "      <td>1.0</td>\n",
       "      <td>7325.0</td>\n",
       "      <td>1</td>\n",
       "      <td>0.0</td>\n",
       "      <td>1.0</td>\n",
       "      <td>0.0</td>\n",
       "      <td>1.0</td>\n",
       "      <td>0.0</td>\n",
       "      <td>0.0</td>\n",
       "      <td>0.0</td>\n",
       "      <td>1.0</td>\n",
       "      <td>0.0</td>\n",
       "    </tr>\n",
       "    <tr>\n",
       "      <th>2</th>\n",
       "      <td>2022-01-03</td>\n",
       "      <td>1.0</td>\n",
       "      <td>7325.0</td>\n",
       "      <td>1</td>\n",
       "      <td>0.0</td>\n",
       "      <td>1.0</td>\n",
       "      <td>0.0</td>\n",
       "      <td>1.0</td>\n",
       "      <td>0.0</td>\n",
       "      <td>0.0</td>\n",
       "      <td>0.0</td>\n",
       "      <td>1.0</td>\n",
       "      <td>0.0</td>\n",
       "    </tr>\n",
       "    <tr>\n",
       "      <th>3</th>\n",
       "      <td>2022-01-04</td>\n",
       "      <td>1.0</td>\n",
       "      <td>7400.0</td>\n",
       "      <td>1</td>\n",
       "      <td>0.0</td>\n",
       "      <td>1.0</td>\n",
       "      <td>0.0</td>\n",
       "      <td>1.0</td>\n",
       "      <td>0.0</td>\n",
       "      <td>0.0</td>\n",
       "      <td>1.0</td>\n",
       "      <td>0.0</td>\n",
       "      <td>0.0</td>\n",
       "    </tr>\n",
       "    <tr>\n",
       "      <th>4</th>\n",
       "      <td>2022-01-05</td>\n",
       "      <td>1.0</td>\n",
       "      <td>7450.0</td>\n",
       "      <td>1</td>\n",
       "      <td>1.0</td>\n",
       "      <td>0.0</td>\n",
       "      <td>0.0</td>\n",
       "      <td>1.0</td>\n",
       "      <td>0.0</td>\n",
       "      <td>0.0</td>\n",
       "      <td>0.0</td>\n",
       "      <td>1.0</td>\n",
       "      <td>0.0</td>\n",
       "    </tr>\n",
       "  </tbody>\n",
       "</table>\n",
       "</div>"
      ],
      "text/plain": [
       "        Date  sentimen   Close  label  open_Positive  open_Equal  \\\n",
       "0 2022-01-01       0.0  7325.0      1            1.0         0.0   \n",
       "1 2022-01-02       1.0  7325.0      1            0.0         1.0   \n",
       "2 2022-01-03       1.0  7325.0      1            0.0         1.0   \n",
       "3 2022-01-04       1.0  7400.0      1            0.0         1.0   \n",
       "4 2022-01-05       1.0  7450.0      1            1.0         0.0   \n",
       "\n",
       "   open_Negative  high_Positive  high_Equal  high_Negative  low_Equal  \\\n",
       "0            0.0            1.0         0.0            0.0        1.0   \n",
       "1            0.0            1.0         0.0            0.0        0.0   \n",
       "2            0.0            1.0         0.0            0.0        0.0   \n",
       "3            0.0            1.0         0.0            0.0        1.0   \n",
       "4            0.0            1.0         0.0            0.0        0.0   \n",
       "\n",
       "   low_Negative  low_Positive  \n",
       "0           0.0           0.0  \n",
       "1           1.0           0.0  \n",
       "2           1.0           0.0  \n",
       "3           0.0           0.0  \n",
       "4           1.0           0.0  "
      ]
     },
     "execution_count": 107,
     "metadata": {},
     "output_type": "execute_result"
    }
   ],
   "source": [
    "new_df.drop(columns=['Open','High','Low'], inplace=True)\n",
    "new_df.head()"
   ]
  },
  {
   "cell_type": "markdown",
   "id": "4b04d5fb",
   "metadata": {},
   "source": [
    "## Ordinal Encoding"
   ]
  },
  {
   "cell_type": "code",
   "execution_count": 97,
   "id": "f5cabc1d",
   "metadata": {},
   "outputs": [
    {
     "data": {
      "text/html": [
       "<div>\n",
       "<style scoped>\n",
       "    .dataframe tbody tr th:only-of-type {\n",
       "        vertical-align: middle;\n",
       "    }\n",
       "\n",
       "    .dataframe tbody tr th {\n",
       "        vertical-align: top;\n",
       "    }\n",
       "\n",
       "    .dataframe thead th {\n",
       "        text-align: right;\n",
       "    }\n",
       "</style>\n",
       "<table border=\"1\" class=\"dataframe\">\n",
       "  <thead>\n",
       "    <tr style=\"text-align: right;\">\n",
       "      <th></th>\n",
       "      <th>Date</th>\n",
       "      <th>sentimen</th>\n",
       "      <th>Open</th>\n",
       "      <th>High</th>\n",
       "      <th>Low</th>\n",
       "      <th>Close</th>\n",
       "      <th>label</th>\n",
       "    </tr>\n",
       "  </thead>\n",
       "  <tbody>\n",
       "    <tr>\n",
       "      <th>0</th>\n",
       "      <td>2022-01-01</td>\n",
       "      <td>0.0</td>\n",
       "      <td>1.0</td>\n",
       "      <td>1.0</td>\n",
       "      <td>1.0</td>\n",
       "      <td>7325.0</td>\n",
       "      <td>0</td>\n",
       "    </tr>\n",
       "    <tr>\n",
       "      <th>1</th>\n",
       "      <td>2022-01-02</td>\n",
       "      <td>1.0</td>\n",
       "      <td>1.0</td>\n",
       "      <td>2.0</td>\n",
       "      <td>0.0</td>\n",
       "      <td>7325.0</td>\n",
       "      <td>1</td>\n",
       "    </tr>\n",
       "    <tr>\n",
       "      <th>2</th>\n",
       "      <td>2022-01-03</td>\n",
       "      <td>1.0</td>\n",
       "      <td>1.0</td>\n",
       "      <td>2.0</td>\n",
       "      <td>0.0</td>\n",
       "      <td>7325.0</td>\n",
       "      <td>1</td>\n",
       "    </tr>\n",
       "    <tr>\n",
       "      <th>3</th>\n",
       "      <td>2022-01-04</td>\n",
       "      <td>1.0</td>\n",
       "      <td>1.0</td>\n",
       "      <td>2.0</td>\n",
       "      <td>1.0</td>\n",
       "      <td>7400.0</td>\n",
       "      <td>1</td>\n",
       "    </tr>\n",
       "    <tr>\n",
       "      <th>4</th>\n",
       "      <td>2022-01-05</td>\n",
       "      <td>1.0</td>\n",
       "      <td>2.0</td>\n",
       "      <td>2.0</td>\n",
       "      <td>0.0</td>\n",
       "      <td>7450.0</td>\n",
       "      <td>1</td>\n",
       "    </tr>\n",
       "  </tbody>\n",
       "</table>\n",
       "</div>"
      ],
      "text/plain": [
       "        Date  sentimen  Open  High  Low   Close label\n",
       "0 2022-01-01       0.0   1.0   1.0  1.0  7325.0     0\n",
       "1 2022-01-02       1.0   1.0   2.0  0.0  7325.0     1\n",
       "2 2022-01-03       1.0   1.0   2.0  0.0  7325.0     1\n",
       "3 2022-01-04       1.0   1.0   2.0  1.0  7400.0     1\n",
       "4 2022-01-05       1.0   2.0   2.0  0.0  7450.0     1"
      ]
     },
     "execution_count": 97,
     "metadata": {},
     "output_type": "execute_result"
    }
   ],
   "source": [
    "#Label encoder\n",
    "from sklearn.preprocessing import OrdinalEncoder\n",
    "\n",
    "ordinal_encoder = OrdinalEncoder( categories=[['Negative','Equal','Positive']] )\n",
    "\n",
    "#ubah dulu sebagai array\n",
    "cols = ['Open','High','Low']\n",
    "for col in cols:\n",
    "    y = np.array(new_df[col]).reshape(-1,1)\n",
    "    ordinal_encoder.fit(y)\n",
    "    new_df[col] = ordinal_encoder.transform(y)\n",
    "new_df.head()"
   ]
  },
  {
   "cell_type": "code",
   "execution_count": 169,
   "id": "75fe5b0d",
   "metadata": {},
   "outputs": [
    {
     "data": {
      "text/html": [
       "<div>\n",
       "<style scoped>\n",
       "    .dataframe tbody tr th:only-of-type {\n",
       "        vertical-align: middle;\n",
       "    }\n",
       "\n",
       "    .dataframe tbody tr th {\n",
       "        vertical-align: top;\n",
       "    }\n",
       "\n",
       "    .dataframe thead th {\n",
       "        text-align: right;\n",
       "    }\n",
       "</style>\n",
       "<table border=\"1\" class=\"dataframe\">\n",
       "  <thead>\n",
       "    <tr style=\"text-align: right;\">\n",
       "      <th></th>\n",
       "      <th>Date</th>\n",
       "      <th>sentimen</th>\n",
       "      <th>Open</th>\n",
       "      <th>High</th>\n",
       "      <th>Low</th>\n",
       "      <th>Close</th>\n",
       "      <th>label</th>\n",
       "      <th>State</th>\n",
       "    </tr>\n",
       "  </thead>\n",
       "  <tbody>\n",
       "    <tr>\n",
       "      <th>0</th>\n",
       "      <td>2022-01-01</td>\n",
       "      <td>0.0</td>\n",
       "      <td>Equal</td>\n",
       "      <td>Equal</td>\n",
       "      <td>Equal</td>\n",
       "      <td>7325.0</td>\n",
       "      <td>Fall</td>\n",
       "      <td>0.0</td>\n",
       "    </tr>\n",
       "    <tr>\n",
       "      <th>1</th>\n",
       "      <td>2022-01-02</td>\n",
       "      <td>1.0</td>\n",
       "      <td>Equal</td>\n",
       "      <td>Positive</td>\n",
       "      <td>Negative</td>\n",
       "      <td>7325.0</td>\n",
       "      <td>Raise</td>\n",
       "      <td>1.0</td>\n",
       "    </tr>\n",
       "    <tr>\n",
       "      <th>2</th>\n",
       "      <td>2022-01-03</td>\n",
       "      <td>1.0</td>\n",
       "      <td>Equal</td>\n",
       "      <td>Positive</td>\n",
       "      <td>Negative</td>\n",
       "      <td>7325.0</td>\n",
       "      <td>Raise</td>\n",
       "      <td>1.0</td>\n",
       "    </tr>\n",
       "    <tr>\n",
       "      <th>3</th>\n",
       "      <td>2022-01-04</td>\n",
       "      <td>1.0</td>\n",
       "      <td>Equal</td>\n",
       "      <td>Positive</td>\n",
       "      <td>Equal</td>\n",
       "      <td>7400.0</td>\n",
       "      <td>Raise</td>\n",
       "      <td>1.0</td>\n",
       "    </tr>\n",
       "    <tr>\n",
       "      <th>4</th>\n",
       "      <td>2022-01-05</td>\n",
       "      <td>1.0</td>\n",
       "      <td>Positive</td>\n",
       "      <td>Positive</td>\n",
       "      <td>Negative</td>\n",
       "      <td>7450.0</td>\n",
       "      <td>Raise</td>\n",
       "      <td>1.0</td>\n",
       "    </tr>\n",
       "  </tbody>\n",
       "</table>\n",
       "</div>"
      ],
      "text/plain": [
       "        Date  sentimen      Open      High       Low   Close  label  State\n",
       "0 2022-01-01       0.0     Equal     Equal     Equal  7325.0   Fall    0.0\n",
       "1 2022-01-02       1.0     Equal  Positive  Negative  7325.0  Raise    1.0\n",
       "2 2022-01-03       1.0     Equal  Positive  Negative  7325.0  Raise    1.0\n",
       "3 2022-01-04       1.0     Equal  Positive     Equal  7400.0  Raise    1.0\n",
       "4 2022-01-05       1.0  Positive  Positive  Negative  7450.0  Raise    1.0"
      ]
     },
     "execution_count": 169,
     "metadata": {},
     "output_type": "execute_result"
    }
   ],
   "source": [
    "# #Label encoder\n",
    "# from sklearn.preprocessing import OrdinalEncoder\n",
    "\n",
    "# ordinal_encoder = OrdinalEncoder( categories=[['Fall','Raise']] )\n",
    "\n",
    "# #ubah dulu sebagai array\n",
    "# y = np.array(new_df['label']).reshape(-1,1)\n",
    "# ordinal_encoder.fit(y)\n",
    "# new_df['State'] = ordinal_encoder.transform(y)\n",
    "# new_df.head()"
   ]
  },
  {
   "cell_type": "code",
   "execution_count": 108,
   "id": "6f2d16a8",
   "metadata": {},
   "outputs": [
    {
     "data": {
      "text/html": [
       "<div>\n",
       "<style scoped>\n",
       "    .dataframe tbody tr th:only-of-type {\n",
       "        vertical-align: middle;\n",
       "    }\n",
       "\n",
       "    .dataframe tbody tr th {\n",
       "        vertical-align: top;\n",
       "    }\n",
       "\n",
       "    .dataframe thead th {\n",
       "        text-align: right;\n",
       "    }\n",
       "</style>\n",
       "<table border=\"1\" class=\"dataframe\">\n",
       "  <thead>\n",
       "    <tr style=\"text-align: right;\">\n",
       "      <th></th>\n",
       "      <th>Date</th>\n",
       "      <th>sentimen</th>\n",
       "      <th>Close</th>\n",
       "      <th>label</th>\n",
       "      <th>open_Positive</th>\n",
       "      <th>open_Equal</th>\n",
       "      <th>open_Negative</th>\n",
       "      <th>high_Positive</th>\n",
       "      <th>high_Equal</th>\n",
       "      <th>high_Negative</th>\n",
       "      <th>low_Equal</th>\n",
       "      <th>low_Negative</th>\n",
       "      <th>low_Positive</th>\n",
       "    </tr>\n",
       "  </thead>\n",
       "  <tbody>\n",
       "    <tr>\n",
       "      <th>0</th>\n",
       "      <td>2022-01-01</td>\n",
       "      <td>0.0</td>\n",
       "      <td>7325.0</td>\n",
       "      <td>1</td>\n",
       "      <td>1.0</td>\n",
       "      <td>0.0</td>\n",
       "      <td>0.0</td>\n",
       "      <td>1.0</td>\n",
       "      <td>0.0</td>\n",
       "      <td>0.0</td>\n",
       "      <td>1.0</td>\n",
       "      <td>0.0</td>\n",
       "      <td>0.0</td>\n",
       "    </tr>\n",
       "    <tr>\n",
       "      <th>1</th>\n",
       "      <td>2022-01-02</td>\n",
       "      <td>1.0</td>\n",
       "      <td>7325.0</td>\n",
       "      <td>1</td>\n",
       "      <td>0.0</td>\n",
       "      <td>1.0</td>\n",
       "      <td>0.0</td>\n",
       "      <td>1.0</td>\n",
       "      <td>0.0</td>\n",
       "      <td>0.0</td>\n",
       "      <td>0.0</td>\n",
       "      <td>1.0</td>\n",
       "      <td>0.0</td>\n",
       "    </tr>\n",
       "    <tr>\n",
       "      <th>2</th>\n",
       "      <td>2022-01-03</td>\n",
       "      <td>1.0</td>\n",
       "      <td>7325.0</td>\n",
       "      <td>1</td>\n",
       "      <td>0.0</td>\n",
       "      <td>1.0</td>\n",
       "      <td>0.0</td>\n",
       "      <td>1.0</td>\n",
       "      <td>0.0</td>\n",
       "      <td>0.0</td>\n",
       "      <td>0.0</td>\n",
       "      <td>1.0</td>\n",
       "      <td>0.0</td>\n",
       "    </tr>\n",
       "    <tr>\n",
       "      <th>3</th>\n",
       "      <td>2022-01-04</td>\n",
       "      <td>1.0</td>\n",
       "      <td>7400.0</td>\n",
       "      <td>1</td>\n",
       "      <td>0.0</td>\n",
       "      <td>1.0</td>\n",
       "      <td>0.0</td>\n",
       "      <td>1.0</td>\n",
       "      <td>0.0</td>\n",
       "      <td>0.0</td>\n",
       "      <td>1.0</td>\n",
       "      <td>0.0</td>\n",
       "      <td>0.0</td>\n",
       "    </tr>\n",
       "    <tr>\n",
       "      <th>4</th>\n",
       "      <td>2022-01-05</td>\n",
       "      <td>1.0</td>\n",
       "      <td>7450.0</td>\n",
       "      <td>1</td>\n",
       "      <td>1.0</td>\n",
       "      <td>0.0</td>\n",
       "      <td>0.0</td>\n",
       "      <td>1.0</td>\n",
       "      <td>0.0</td>\n",
       "      <td>0.0</td>\n",
       "      <td>0.0</td>\n",
       "      <td>1.0</td>\n",
       "      <td>0.0</td>\n",
       "    </tr>\n",
       "    <tr>\n",
       "      <th>...</th>\n",
       "      <td>...</td>\n",
       "      <td>...</td>\n",
       "      <td>...</td>\n",
       "      <td>...</td>\n",
       "      <td>...</td>\n",
       "      <td>...</td>\n",
       "      <td>...</td>\n",
       "      <td>...</td>\n",
       "      <td>...</td>\n",
       "      <td>...</td>\n",
       "      <td>...</td>\n",
       "      <td>...</td>\n",
       "      <td>...</td>\n",
       "    </tr>\n",
       "    <tr>\n",
       "      <th>86</th>\n",
       "      <td>2022-03-28</td>\n",
       "      <td>1.0</td>\n",
       "      <td>7900.0</td>\n",
       "      <td>0</td>\n",
       "      <td>0.0</td>\n",
       "      <td>0.0</td>\n",
       "      <td>1.0</td>\n",
       "      <td>0.0</td>\n",
       "      <td>0.0</td>\n",
       "      <td>1.0</td>\n",
       "      <td>0.0</td>\n",
       "      <td>1.0</td>\n",
       "      <td>0.0</td>\n",
       "    </tr>\n",
       "    <tr>\n",
       "      <th>87</th>\n",
       "      <td>2022-03-29</td>\n",
       "      <td>1.0</td>\n",
       "      <td>7850.0</td>\n",
       "      <td>0</td>\n",
       "      <td>0.0</td>\n",
       "      <td>0.0</td>\n",
       "      <td>1.0</td>\n",
       "      <td>0.0</td>\n",
       "      <td>1.0</td>\n",
       "      <td>0.0</td>\n",
       "      <td>0.0</td>\n",
       "      <td>1.0</td>\n",
       "      <td>0.0</td>\n",
       "    </tr>\n",
       "    <tr>\n",
       "      <th>88</th>\n",
       "      <td>2022-03-30</td>\n",
       "      <td>0.0</td>\n",
       "      <td>7875.0</td>\n",
       "      <td>1</td>\n",
       "      <td>1.0</td>\n",
       "      <td>0.0</td>\n",
       "      <td>0.0</td>\n",
       "      <td>1.0</td>\n",
       "      <td>0.0</td>\n",
       "      <td>0.0</td>\n",
       "      <td>0.0</td>\n",
       "      <td>1.0</td>\n",
       "      <td>0.0</td>\n",
       "    </tr>\n",
       "    <tr>\n",
       "      <th>89</th>\n",
       "      <td>2022-03-31</td>\n",
       "      <td>0.0</td>\n",
       "      <td>7975.0</td>\n",
       "      <td>1</td>\n",
       "      <td>1.0</td>\n",
       "      <td>0.0</td>\n",
       "      <td>0.0</td>\n",
       "      <td>1.0</td>\n",
       "      <td>0.0</td>\n",
       "      <td>0.0</td>\n",
       "      <td>1.0</td>\n",
       "      <td>0.0</td>\n",
       "      <td>0.0</td>\n",
       "    </tr>\n",
       "    <tr>\n",
       "      <th>90</th>\n",
       "      <td>2022-04-01</td>\n",
       "      <td>0.0</td>\n",
       "      <td>7850.0</td>\n",
       "      <td>0</td>\n",
       "      <td>1.0</td>\n",
       "      <td>0.0</td>\n",
       "      <td>0.0</td>\n",
       "      <td>1.0</td>\n",
       "      <td>0.0</td>\n",
       "      <td>0.0</td>\n",
       "      <td>0.0</td>\n",
       "      <td>1.0</td>\n",
       "      <td>0.0</td>\n",
       "    </tr>\n",
       "  </tbody>\n",
       "</table>\n",
       "<p>91 rows × 13 columns</p>\n",
       "</div>"
      ],
      "text/plain": [
       "         Date  sentimen   Close  label  open_Positive  open_Equal  \\\n",
       "0  2022-01-01       0.0  7325.0      1            1.0         0.0   \n",
       "1  2022-01-02       1.0  7325.0      1            0.0         1.0   \n",
       "2  2022-01-03       1.0  7325.0      1            0.0         1.0   \n",
       "3  2022-01-04       1.0  7400.0      1            0.0         1.0   \n",
       "4  2022-01-05       1.0  7450.0      1            1.0         0.0   \n",
       "..        ...       ...     ...    ...            ...         ...   \n",
       "86 2022-03-28       1.0  7900.0      0            0.0         0.0   \n",
       "87 2022-03-29       1.0  7850.0      0            0.0         0.0   \n",
       "88 2022-03-30       0.0  7875.0      1            1.0         0.0   \n",
       "89 2022-03-31       0.0  7975.0      1            1.0         0.0   \n",
       "90 2022-04-01       0.0  7850.0      0            1.0         0.0   \n",
       "\n",
       "    open_Negative  high_Positive  high_Equal  high_Negative  low_Equal  \\\n",
       "0             0.0            1.0         0.0            0.0        1.0   \n",
       "1             0.0            1.0         0.0            0.0        0.0   \n",
       "2             0.0            1.0         0.0            0.0        0.0   \n",
       "3             0.0            1.0         0.0            0.0        1.0   \n",
       "4             0.0            1.0         0.0            0.0        0.0   \n",
       "..            ...            ...         ...            ...        ...   \n",
       "86            1.0            0.0         0.0            1.0        0.0   \n",
       "87            1.0            0.0         1.0            0.0        0.0   \n",
       "88            0.0            1.0         0.0            0.0        0.0   \n",
       "89            0.0            1.0         0.0            0.0        1.0   \n",
       "90            0.0            1.0         0.0            0.0        0.0   \n",
       "\n",
       "    low_Negative  low_Positive  \n",
       "0            0.0           0.0  \n",
       "1            1.0           0.0  \n",
       "2            1.0           0.0  \n",
       "3            0.0           0.0  \n",
       "4            1.0           0.0  \n",
       "..           ...           ...  \n",
       "86           1.0           0.0  \n",
       "87           1.0           0.0  \n",
       "88           1.0           0.0  \n",
       "89           0.0           0.0  \n",
       "90           1.0           0.0  \n",
       "\n",
       "[91 rows x 13 columns]"
      ]
     },
     "execution_count": 108,
     "metadata": {},
     "output_type": "execute_result"
    }
   ],
   "source": [
    "new_df"
   ]
  },
  {
   "cell_type": "code",
   "execution_count": 123,
   "id": "622bd9e3",
   "metadata": {},
   "outputs": [
    {
     "data": {
      "text/html": [
       "<div>\n",
       "<style scoped>\n",
       "    .dataframe tbody tr th:only-of-type {\n",
       "        vertical-align: middle;\n",
       "    }\n",
       "\n",
       "    .dataframe tbody tr th {\n",
       "        vertical-align: top;\n",
       "    }\n",
       "\n",
       "    .dataframe thead th {\n",
       "        text-align: right;\n",
       "    }\n",
       "</style>\n",
       "<table border=\"1\" class=\"dataframe\">\n",
       "  <thead>\n",
       "    <tr style=\"text-align: right;\">\n",
       "      <th></th>\n",
       "      <th>sentimen</th>\n",
       "      <th>open_Positive</th>\n",
       "      <th>open_Equal</th>\n",
       "      <th>open_Negative</th>\n",
       "      <th>high_Positive</th>\n",
       "      <th>high_Equal</th>\n",
       "      <th>high_Negative</th>\n",
       "      <th>low_Equal</th>\n",
       "      <th>low_Negative</th>\n",
       "      <th>low_Positive</th>\n",
       "    </tr>\n",
       "  </thead>\n",
       "  <tbody>\n",
       "    <tr>\n",
       "      <th>0</th>\n",
       "      <td>0.0</td>\n",
       "      <td>1.0</td>\n",
       "      <td>0.0</td>\n",
       "      <td>0.0</td>\n",
       "      <td>1.0</td>\n",
       "      <td>0.0</td>\n",
       "      <td>0.0</td>\n",
       "      <td>1.0</td>\n",
       "      <td>0.0</td>\n",
       "      <td>0.0</td>\n",
       "    </tr>\n",
       "    <tr>\n",
       "      <th>1</th>\n",
       "      <td>1.0</td>\n",
       "      <td>0.0</td>\n",
       "      <td>1.0</td>\n",
       "      <td>0.0</td>\n",
       "      <td>1.0</td>\n",
       "      <td>0.0</td>\n",
       "      <td>0.0</td>\n",
       "      <td>0.0</td>\n",
       "      <td>1.0</td>\n",
       "      <td>0.0</td>\n",
       "    </tr>\n",
       "    <tr>\n",
       "      <th>2</th>\n",
       "      <td>1.0</td>\n",
       "      <td>0.0</td>\n",
       "      <td>1.0</td>\n",
       "      <td>0.0</td>\n",
       "      <td>1.0</td>\n",
       "      <td>0.0</td>\n",
       "      <td>0.0</td>\n",
       "      <td>0.0</td>\n",
       "      <td>1.0</td>\n",
       "      <td>0.0</td>\n",
       "    </tr>\n",
       "    <tr>\n",
       "      <th>3</th>\n",
       "      <td>1.0</td>\n",
       "      <td>0.0</td>\n",
       "      <td>1.0</td>\n",
       "      <td>0.0</td>\n",
       "      <td>1.0</td>\n",
       "      <td>0.0</td>\n",
       "      <td>0.0</td>\n",
       "      <td>1.0</td>\n",
       "      <td>0.0</td>\n",
       "      <td>0.0</td>\n",
       "    </tr>\n",
       "    <tr>\n",
       "      <th>4</th>\n",
       "      <td>1.0</td>\n",
       "      <td>1.0</td>\n",
       "      <td>0.0</td>\n",
       "      <td>0.0</td>\n",
       "      <td>1.0</td>\n",
       "      <td>0.0</td>\n",
       "      <td>0.0</td>\n",
       "      <td>0.0</td>\n",
       "      <td>1.0</td>\n",
       "      <td>0.0</td>\n",
       "    </tr>\n",
       "    <tr>\n",
       "      <th>...</th>\n",
       "      <td>...</td>\n",
       "      <td>...</td>\n",
       "      <td>...</td>\n",
       "      <td>...</td>\n",
       "      <td>...</td>\n",
       "      <td>...</td>\n",
       "      <td>...</td>\n",
       "      <td>...</td>\n",
       "      <td>...</td>\n",
       "      <td>...</td>\n",
       "    </tr>\n",
       "    <tr>\n",
       "      <th>86</th>\n",
       "      <td>1.0</td>\n",
       "      <td>0.0</td>\n",
       "      <td>0.0</td>\n",
       "      <td>1.0</td>\n",
       "      <td>0.0</td>\n",
       "      <td>0.0</td>\n",
       "      <td>1.0</td>\n",
       "      <td>0.0</td>\n",
       "      <td>1.0</td>\n",
       "      <td>0.0</td>\n",
       "    </tr>\n",
       "    <tr>\n",
       "      <th>87</th>\n",
       "      <td>1.0</td>\n",
       "      <td>0.0</td>\n",
       "      <td>0.0</td>\n",
       "      <td>1.0</td>\n",
       "      <td>0.0</td>\n",
       "      <td>1.0</td>\n",
       "      <td>0.0</td>\n",
       "      <td>0.0</td>\n",
       "      <td>1.0</td>\n",
       "      <td>0.0</td>\n",
       "    </tr>\n",
       "    <tr>\n",
       "      <th>88</th>\n",
       "      <td>0.0</td>\n",
       "      <td>1.0</td>\n",
       "      <td>0.0</td>\n",
       "      <td>0.0</td>\n",
       "      <td>1.0</td>\n",
       "      <td>0.0</td>\n",
       "      <td>0.0</td>\n",
       "      <td>0.0</td>\n",
       "      <td>1.0</td>\n",
       "      <td>0.0</td>\n",
       "    </tr>\n",
       "    <tr>\n",
       "      <th>89</th>\n",
       "      <td>0.0</td>\n",
       "      <td>1.0</td>\n",
       "      <td>0.0</td>\n",
       "      <td>0.0</td>\n",
       "      <td>1.0</td>\n",
       "      <td>0.0</td>\n",
       "      <td>0.0</td>\n",
       "      <td>1.0</td>\n",
       "      <td>0.0</td>\n",
       "      <td>0.0</td>\n",
       "    </tr>\n",
       "    <tr>\n",
       "      <th>90</th>\n",
       "      <td>0.0</td>\n",
       "      <td>1.0</td>\n",
       "      <td>0.0</td>\n",
       "      <td>0.0</td>\n",
       "      <td>1.0</td>\n",
       "      <td>0.0</td>\n",
       "      <td>0.0</td>\n",
       "      <td>0.0</td>\n",
       "      <td>1.0</td>\n",
       "      <td>0.0</td>\n",
       "    </tr>\n",
       "  </tbody>\n",
       "</table>\n",
       "<p>91 rows × 10 columns</p>\n",
       "</div>"
      ],
      "text/plain": [
       "    sentimen  open_Positive  open_Equal  open_Negative  high_Positive  \\\n",
       "0        0.0            1.0         0.0            0.0            1.0   \n",
       "1        1.0            0.0         1.0            0.0            1.0   \n",
       "2        1.0            0.0         1.0            0.0            1.0   \n",
       "3        1.0            0.0         1.0            0.0            1.0   \n",
       "4        1.0            1.0         0.0            0.0            1.0   \n",
       "..       ...            ...         ...            ...            ...   \n",
       "86       1.0            0.0         0.0            1.0            0.0   \n",
       "87       1.0            0.0         0.0            1.0            0.0   \n",
       "88       0.0            1.0         0.0            0.0            1.0   \n",
       "89       0.0            1.0         0.0            0.0            1.0   \n",
       "90       0.0            1.0         0.0            0.0            1.0   \n",
       "\n",
       "    high_Equal  high_Negative  low_Equal  low_Negative  low_Positive  \n",
       "0          0.0            0.0        1.0           0.0           0.0  \n",
       "1          0.0            0.0        0.0           1.0           0.0  \n",
       "2          0.0            0.0        0.0           1.0           0.0  \n",
       "3          0.0            0.0        1.0           0.0           0.0  \n",
       "4          0.0            0.0        0.0           1.0           0.0  \n",
       "..         ...            ...        ...           ...           ...  \n",
       "86         0.0            1.0        0.0           1.0           0.0  \n",
       "87         1.0            0.0        0.0           1.0           0.0  \n",
       "88         0.0            0.0        0.0           1.0           0.0  \n",
       "89         0.0            0.0        1.0           0.0           0.0  \n",
       "90         0.0            0.0        0.0           1.0           0.0  \n",
       "\n",
       "[91 rows x 10 columns]"
      ]
     },
     "execution_count": 123,
     "metadata": {},
     "output_type": "execute_result"
    }
   ],
   "source": [
    "X = new_df.drop(columns=['Date','label'])\n",
    "y = new_df['label']\n",
    "X"
   ]
  },
  {
   "cell_type": "code",
   "execution_count": 124,
   "id": "cfaaf0bd",
   "metadata": {},
   "outputs": [],
   "source": [
    "from sklearn.model_selection import train_test_split\n",
    "\n",
    "X_train, X_test, y_train, y_test = train_test_split(X, y, test_size=0.2, random_state=None, shuffle=False)"
   ]
  },
  {
   "cell_type": "code",
   "execution_count": 125,
   "id": "77f530a5",
   "metadata": {},
   "outputs": [
    {
     "data": {
      "text/plain": [
       "Index(['sentimen', 'open_Positive', 'open_Equal', 'open_Negative',\n",
       "       'high_Positive', 'high_Equal', 'high_Negative', 'low_Equal',\n",
       "       'low_Negative', 'low_Positive'],\n",
       "      dtype='object')"
      ]
     },
     "execution_count": 125,
     "metadata": {},
     "output_type": "execute_result"
    }
   ],
   "source": [
    "X_train.columns"
   ]
  },
  {
   "cell_type": "markdown",
   "id": "86081883",
   "metadata": {},
   "source": [
    "## Scaling"
   ]
  },
  {
   "cell_type": "code",
   "execution_count": 76,
   "id": "7ebf69b6",
   "metadata": {},
   "outputs": [
    {
     "name": "stderr",
     "output_type": "stream",
     "text": [
      "<ipython-input-76-4eb0ea771d66>:13: SettingWithCopyWarning:\n",
      "\n",
      "\n",
      "A value is trying to be set on a copy of a slice from a DataFrame.\n",
      "Try using .loc[row_indexer,col_indexer] = value instead\n",
      "\n",
      "See the caveats in the documentation: https://pandas.pydata.org/pandas-docs/stable/user_guide/indexing.html#returning-a-view-versus-a-copy\n",
      "\n",
      "C:\\ProgramData\\Anaconda3\\lib\\site-packages\\pandas\\core\\indexing.py:1637: SettingWithCopyWarning:\n",
      "\n",
      "\n",
      "A value is trying to be set on a copy of a slice from a DataFrame\n",
      "\n",
      "See the caveats in the documentation: https://pandas.pydata.org/pandas-docs/stable/user_guide/indexing.html#returning-a-view-versus-a-copy\n",
      "\n",
      "C:\\ProgramData\\Anaconda3\\lib\\site-packages\\pandas\\core\\indexing.py:692: SettingWithCopyWarning:\n",
      "\n",
      "\n",
      "A value is trying to be set on a copy of a slice from a DataFrame\n",
      "\n",
      "See the caveats in the documentation: https://pandas.pydata.org/pandas-docs/stable/user_guide/indexing.html#returning-a-view-versus-a-copy\n",
      "\n",
      "<ipython-input-76-4eb0ea771d66>:14: SettingWithCopyWarning:\n",
      "\n",
      "\n",
      "A value is trying to be set on a copy of a slice from a DataFrame.\n",
      "Try using .loc[row_indexer,col_indexer] = value instead\n",
      "\n",
      "See the caveats in the documentation: https://pandas.pydata.org/pandas-docs/stable/user_guide/indexing.html#returning-a-view-versus-a-copy\n",
      "\n"
     ]
    }
   ],
   "source": [
    "# standard scaler all columns\n",
    "# fit scaler to train data only\n",
    "\n",
    "from sklearn.preprocessing import StandardScaler, MinMaxScaler, RobustScaler, MaxAbsScaler, QuantileTransformer\n",
    "scaler = StandardScaler()\n",
    "# y = np.array(df_encode['Balance']).reshape(-1,1)\n",
    "columns = list(X_train.columns)\n",
    "scaler.fit(X_train[columns])\n",
    "\n",
    "X_train_scaled = scaler.transform(X_train)\n",
    "X_test_scaled = scaler.transform(X_test)\n",
    "\n",
    "X_train[columns] = X_train_scaled\n",
    "X_test[columns] = X_test_scaled"
   ]
  },
  {
   "cell_type": "code",
   "execution_count": 28,
   "id": "3ff2b529",
   "metadata": {},
   "outputs": [
    {
     "data": {
      "image/png": "[encoded data removed]",
      "text/plain": [
       "<Figure size 432x288 with 1 Axes>"
      ]
     },
     "metadata": {},
     "output_type": "display_data"
    }
   ],
   "source": [
    "import matplotlib.pyplot as plt\n",
    "import seaborn as sns\n",
    "\n",
    "y_train.value_counts().plot(kind='bar')\n",
    "plt.xticks([0,1],['Yes','No'], rotation=0)\n",
    "plt.title('proportion of stock movement')\n",
    "sns.set_theme()"
   ]
  },
  {
   "cell_type": "code",
   "execution_count": 23,
   "id": "089dee83",
   "metadata": {},
   "outputs": [],
   "source": [
    "# sm = SMOTE(sampling_strategy = 1)\n",
    "# X_smote, y_smote = sm.fit_resample(X_train, y_train)"
   ]
  },
  {
   "cell_type": "code",
   "execution_count": 181,
   "id": "8298ce33",
   "metadata": {
    "collapsed": true
   },
   "outputs": [
    {
     "data": {
      "image/png": "[encoded data removed]",
      "text/plain": [
       "<Figure size 432x288 with 1 Axes>"
      ]
     },
     "metadata": {},
     "output_type": "display_data"
    }
   ],
   "source": [
    "# y_smote.value_counts().plot(kind='bar')\n",
    "# plt.xticks([0,1],['yes','No'], rotation=0)\n",
    "# plt.title('amount of sentiment')\n",
    "# sns.set_theme()"
   ]
  },
  {
   "cell_type": "markdown",
   "id": "222886a5",
   "metadata": {},
   "source": [
    "# Model from One Hot Encoding "
   ]
  },
  {
   "cell_type": "markdown",
   "id": "9f873c3c",
   "metadata": {},
   "source": [
    "## SVM"
   ]
  },
  {
   "cell_type": "code",
   "execution_count": 136,
   "id": "02d3d24b",
   "metadata": {},
   "outputs": [
    {
     "name": "stdout",
     "output_type": "stream",
     "text": [
      "SVM :  0.6842105263157895\n",
      "[[6 2]\n",
      " [4 7]]\n",
      "\n",
      "              precision    recall  f1-score   support\n",
      "\n",
      "           0       0.60      0.75      0.67         8\n",
      "           1       0.78      0.64      0.70        11\n",
      "\n",
      "    accuracy                           0.68        19\n",
      "   macro avg       0.69      0.69      0.68        19\n",
      "weighted avg       0.70      0.68      0.69        19\n",
      "\n"
     ]
    }
   ],
   "source": [
    "svm = SVC(C=1,kernel='linear')\n",
    "svm = svm.fit(X_train, y_train)\n",
    "\n",
    "y_predict = svm.predict(X_test)\n",
    "\n",
    "print('SVM : ', accuracy_score(y_test,y_predict))\n",
    "print(confusion_matrix(y_test,y_predict))\n",
    "print()\n",
    "print(classification_report(y_test,y_predict))"
   ]
  },
  {
   "cell_type": "markdown",
   "id": "a508433e",
   "metadata": {},
   "source": [
    "## KNN"
   ]
  },
  {
   "cell_type": "code",
   "execution_count": 212,
   "id": "6e554feb",
   "metadata": {},
   "outputs": [
    {
     "name": "stdout",
     "output_type": "stream",
     "text": [
      "KNN :  0.7894736842105263\n",
      "[[7 1]\n",
      " [3 8]]\n",
      "\n",
      "              precision    recall  f1-score   support\n",
      "\n",
      "        Fall       0.70      0.88      0.78         8\n",
      "       Raise       0.89      0.73      0.80        11\n",
      "\n",
      "    accuracy                           0.79        19\n",
      "   macro avg       0.79      0.80      0.79        19\n",
      "weighted avg       0.81      0.79      0.79        19\n",
      "\n"
     ]
    },
    {
     "name": "stderr",
     "output_type": "stream",
     "text": [
      "C:\\ProgramData\\Anaconda3\\lib\\site-packages\\sklearn\\neighbors\\_classification.py:179: DataConversionWarning:\n",
      "\n",
      "A column-vector y was passed when a 1d array was expected. Please change the shape of y to (n_samples,), for example using ravel().\n",
      "\n"
     ]
    }
   ],
   "source": [
    "from sklearn.neighbors import KNeighborsClassifier\n",
    "\n",
    "knn = KNeighborsClassifier(n_neighbors=4)\n",
    "knn.fit(X_train,y_train)\n",
    "\n",
    "y_pred = knn.predict(X_test)\n",
    "\n",
    "print('KNN : ', accuracy_score(y_test,y_pred))\n",
    "print(confusion_matrix(y_test,y_pred))\n",
    "print()\n",
    "print(classification_report(y_test,y_pred))"
   ]
  },
  {
   "cell_type": "code",
   "execution_count": 38,
   "id": "0b46ad4e",
   "metadata": {},
   "outputs": [],
   "source": [
    "import pickle\n",
    "\n",
    "# Load Model gabungan\n",
    "filename = 'pickles/movement_model_knn78.sav'\n",
    "knn = pickle.load(open(filename, 'rb'))"
   ]
  },
  {
   "cell_type": "code",
   "execution_count": 40,
   "id": "52bdcb01",
   "metadata": {},
   "outputs": [
    {
     "data": {
      "text/plain": [
       "array(['Fall', 'Raise'], dtype=object)"
      ]
     },
     "execution_count": 40,
     "metadata": {},
     "output_type": "execute_result"
    }
   ],
   "source": [
    "knn.classes_"
   ]
  },
  {
   "cell_type": "code",
   "execution_count": 58,
   "id": "606146c9",
   "metadata": {},
   "outputs": [
    {
     "name": "stdout",
     "output_type": "stream",
     "text": [
      "KNN :  0.7368421052631579\n",
      "[[7 1]\n",
      " [4 7]]\n",
      "\n",
      "              precision    recall  f1-score   support\n",
      "\n",
      "        Fall       0.64      0.88      0.74         8\n",
      "       Raise       0.88      0.64      0.74        11\n",
      "\n",
      "    accuracy                           0.74        19\n",
      "   macro avg       0.76      0.76      0.74        19\n",
      "weighted avg       0.77      0.74      0.74        19\n",
      "\n"
     ]
    }
   ],
   "source": [
    "y_pred = knn.predict(X_test)\n",
    "\n",
    "print('KNN : ', accuracy_score(y_test,y_pred))\n",
    "print(confusion_matrix(y_test,y_pred))\n",
    "print()\n",
    "print(classification_report(y_test,y_pred))"
   ]
  },
  {
   "cell_type": "code",
   "execution_count": 48,
   "id": "bdb7a415",
   "metadata": {},
   "outputs": [
    {
     "name": "stdout",
     "output_type": "stream",
     "text": [
      "KNN :  0.7142857142857143\n",
      "[[11  1]\n",
      " [ 7  9]]\n",
      "\n",
      "              precision    recall  f1-score   support\n",
      "\n",
      "           0       0.61      0.92      0.73        12\n",
      "           1       0.90      0.56      0.69        16\n",
      "\n",
      "    accuracy                           0.71        28\n",
      "   macro avg       0.76      0.74      0.71        28\n",
      "weighted avg       0.78      0.71      0.71        28\n",
      "\n"
     ]
    }
   ],
   "source": [
    "from sklearn.neighbors import KNeighborsClassifier\n",
    "\n",
    "knn = KNeighborsClassifier(n_neighbors=2)\n",
    "knn.fit(X_train,y_train)\n",
    "\n",
    "y_pred = knn.predict(X_test)\n",
    "\n",
    "print('KNN : ', accuracy_score(y_test,y_pred))\n",
    "print(confusion_matrix(y_test,y_pred))\n",
    "print()\n",
    "print(classification_report(y_test,y_pred))"
   ]
  },
  {
   "cell_type": "code",
   "execution_count": 49,
   "id": "0e7fb792",
   "metadata": {},
   "outputs": [],
   "source": [
    "import pickle\n",
    "\n",
    "# Save the trained model as a pickle string.\n",
    "filename = 'pickles/movement_model_knn71.sav'\n",
    "pickle.dump(knn, open(filename, 'wb'))"
   ]
  },
  {
   "cell_type": "markdown",
   "id": "f2916118",
   "metadata": {},
   "source": [
    "# Model from Ordinal Encoding"
   ]
  },
  {
   "cell_type": "code",
   "execution_count": 53,
   "id": "2a320d0b",
   "metadata": {},
   "outputs": [
    {
     "name": "stdout",
     "output_type": "stream",
     "text": [
      "SVM :  0.5789473684210527\n",
      "[[ 1  8]\n",
      " [ 0 10]]\n",
      "\n",
      "              precision    recall  f1-score   support\n",
      "\n",
      "         0.0       1.00      0.11      0.20         9\n",
      "         1.0       0.56      1.00      0.71        10\n",
      "\n",
      "    accuracy                           0.58        19\n",
      "   macro avg       0.78      0.56      0.46        19\n",
      "weighted avg       0.77      0.58      0.47        19\n",
      "\n"
     ]
    }
   ],
   "source": [
    "svm = SVC(C=4,kernel='linear')\n",
    "svm = svm.fit(X_train, y_train)\n",
    "\n",
    "y_predict = svm.predict(X_test)\n",
    "\n",
    "print('SVM : ', accuracy_score(y_test,y_predict))\n",
    "print(confusion_matrix(y_test,y_predict))\n",
    "print()\n",
    "print(classification_report(y_test,y_predict))"
   ]
  },
  {
   "cell_type": "code",
   "execution_count": 64,
   "id": "fefbbef6",
   "metadata": {},
   "outputs": [
    {
     "name": "stdout",
     "output_type": "stream",
     "text": [
      "KNN :  0.7368421052631579\n",
      "[[6 3]\n",
      " [2 8]]\n",
      "\n",
      "              precision    recall  f1-score   support\n",
      "\n",
      "         0.0       0.75      0.67      0.71         9\n",
      "         1.0       0.73      0.80      0.76        10\n",
      "\n",
      "    accuracy                           0.74        19\n",
      "   macro avg       0.74      0.73      0.73        19\n",
      "weighted avg       0.74      0.74      0.74        19\n",
      "\n"
     ]
    }
   ],
   "source": [
    "from sklearn.neighbors import KNeighborsClassifier\n",
    "\n",
    "knn = KNeighborsClassifier(n_neighbors=7)\n",
    "knn.fit(X_train,y_train)\n",
    "\n",
    "y_pred = knn.predict(X_test)\n",
    "\n",
    "print('KNN : ', accuracy_score(y_test,y_pred))\n",
    "print(confusion_matrix(y_test,y_pred))\n",
    "print()\n",
    "print(classification_report(y_test,y_pred))"
   ]
  },
  {
   "cell_type": "markdown",
   "id": "51731329",
   "metadata": {},
   "source": [
    "Hasil ketika hanya menggunakan sentimen atribut : 52%\n",
    "\n",
    "#########################\n",
    "\n",
    "hasil modelling data dengan one hot encoding (tanpa scaling):\n",
    "- knn = 78% ( n=4 )\n",
    "- svm = 78%, recall 50% ( C=2 linear )\n",
    "\n",
    "hasil modelling data dengan one hot encoding (dengan random_state=123):\n",
    "- knn = 78% ( n=6 )\n",
    "- svm = 63% ( C=3 linear )\n",
    "\n",
    "hasil modelling data dengan one hot encoding (dg scaling):\n",
    "- knn = 68%\n",
    "- svm = 68% n=3\n",
    "\n",
    "hasil modelling data dengan ordinal encoding (std scaler):\n",
    "- knn = 68%\n",
    "- svm = 73% ( C=1, linear )\n",
    "\n",
    "hasil modelling data dengan ordinal encoding (mimmax scaler):\n",
    "- knn = 73% n=7\n",
    "- svm = 57%"
   ]
  },
  {
   "cell_type": "markdown",
   "id": "ba397e60",
   "metadata": {},
   "source": [
    "prediksi Menggunakan data close lebih baik dari pada adj close, cari referensi lagi untuk menentukan metode dan feature yang digunakan"
   ]
  },
  {
   "cell_type": "markdown",
   "id": "4b0edb88",
   "metadata": {},
   "source": [
    "to do list :\n",
    "- cari data baru untuk testing, tanggal 2-11 april\n",
    "- lakukan testing"
   ]
  },
  {
   "cell_type": "markdown",
   "id": "f1489998",
   "metadata": {},
   "source": [
    "## Testing"
   ]
  },
  {
   "cell_type": "code",
   "execution_count": 11,
   "id": "25b01b15",
   "metadata": {},
   "outputs": [
    {
     "data": {
      "text/html": [
       "<div>\n",
       "<style scoped>\n",
       "    .dataframe tbody tr th:only-of-type {\n",
       "        vertical-align: middle;\n",
       "    }\n",
       "\n",
       "    .dataframe tbody tr th {\n",
       "        vertical-align: top;\n",
       "    }\n",
       "\n",
       "    .dataframe thead th {\n",
       "        text-align: right;\n",
       "    }\n",
       "</style>\n",
       "<table border=\"1\" class=\"dataframe\">\n",
       "  <thead>\n",
       "    <tr style=\"text-align: right;\">\n",
       "      <th></th>\n",
       "      <th>Date</th>\n",
       "      <th>Open</th>\n",
       "      <th>High</th>\n",
       "      <th>Low</th>\n",
       "      <th>Close</th>\n",
       "      <th>Adj Close</th>\n",
       "      <th>Volume</th>\n",
       "    </tr>\n",
       "  </thead>\n",
       "  <tbody>\n",
       "    <tr>\n",
       "      <th>0</th>\n",
       "      <td>2022-01-03</td>\n",
       "      <td>7325.0</td>\n",
       "      <td>7400.0</td>\n",
       "      <td>7300.0</td>\n",
       "      <td>7325.0</td>\n",
       "      <td>7214.434082</td>\n",
       "      <td>54287400</td>\n",
       "    </tr>\n",
       "    <tr>\n",
       "      <th>1</th>\n",
       "      <td>2022-01-04</td>\n",
       "      <td>7325.0</td>\n",
       "      <td>7450.0</td>\n",
       "      <td>7325.0</td>\n",
       "      <td>7400.0</td>\n",
       "      <td>7288.301758</td>\n",
       "      <td>70624000</td>\n",
       "    </tr>\n",
       "    <tr>\n",
       "      <th>2</th>\n",
       "      <td>2022-01-05</td>\n",
       "      <td>7450.0</td>\n",
       "      <td>7525.0</td>\n",
       "      <td>7375.0</td>\n",
       "      <td>7450.0</td>\n",
       "      <td>7337.547363</td>\n",
       "      <td>76164900</td>\n",
       "    </tr>\n",
       "    <tr>\n",
       "      <th>3</th>\n",
       "      <td>2022-01-06</td>\n",
       "      <td>7500.0</td>\n",
       "      <td>7525.0</td>\n",
       "      <td>7425.0</td>\n",
       "      <td>7475.0</td>\n",
       "      <td>7362.169922</td>\n",
       "      <td>63657100</td>\n",
       "    </tr>\n",
       "    <tr>\n",
       "      <th>4</th>\n",
       "      <td>2022-01-07</td>\n",
       "      <td>7550.0</td>\n",
       "      <td>7700.0</td>\n",
       "      <td>7500.0</td>\n",
       "      <td>7650.0</td>\n",
       "      <td>7534.528320</td>\n",
       "      <td>143433300</td>\n",
       "    </tr>\n",
       "    <tr>\n",
       "      <th>...</th>\n",
       "      <td>...</td>\n",
       "      <td>...</td>\n",
       "      <td>...</td>\n",
       "      <td>...</td>\n",
       "      <td>...</td>\n",
       "      <td>...</td>\n",
       "      <td>...</td>\n",
       "    </tr>\n",
       "    <tr>\n",
       "      <th>66</th>\n",
       "      <td>2022-04-08</td>\n",
       "      <td>7800.0</td>\n",
       "      <td>7875.0</td>\n",
       "      <td>7775.0</td>\n",
       "      <td>7850.0</td>\n",
       "      <td>7850.000000</td>\n",
       "      <td>69791600</td>\n",
       "    </tr>\n",
       "    <tr>\n",
       "      <th>67</th>\n",
       "      <td>2022-04-11</td>\n",
       "      <td>7825.0</td>\n",
       "      <td>7875.0</td>\n",
       "      <td>7725.0</td>\n",
       "      <td>7725.0</td>\n",
       "      <td>7725.000000</td>\n",
       "      <td>62776200</td>\n",
       "    </tr>\n",
       "    <tr>\n",
       "      <th>68</th>\n",
       "      <td>2022-04-12</td>\n",
       "      <td>7725.0</td>\n",
       "      <td>7800.0</td>\n",
       "      <td>7700.0</td>\n",
       "      <td>7800.0</td>\n",
       "      <td>7800.000000</td>\n",
       "      <td>73471300</td>\n",
       "    </tr>\n",
       "    <tr>\n",
       "      <th>69</th>\n",
       "      <td>2022-04-13</td>\n",
       "      <td>7800.0</td>\n",
       "      <td>7850.0</td>\n",
       "      <td>7750.0</td>\n",
       "      <td>7800.0</td>\n",
       "      <td>7800.000000</td>\n",
       "      <td>57622100</td>\n",
       "    </tr>\n",
       "    <tr>\n",
       "      <th>70</th>\n",
       "      <td>2022-04-14</td>\n",
       "      <td>7800.0</td>\n",
       "      <td>7800.0</td>\n",
       "      <td>7700.0</td>\n",
       "      <td>7700.0</td>\n",
       "      <td>7700.000000</td>\n",
       "      <td>93342900</td>\n",
       "    </tr>\n",
       "  </tbody>\n",
       "</table>\n",
       "<p>71 rows × 7 columns</p>\n",
       "</div>"
      ],
      "text/plain": [
       "         Date    Open    High     Low   Close    Adj Close     Volume\n",
       "0  2022-01-03  7325.0  7400.0  7300.0  7325.0  7214.434082   54287400\n",
       "1  2022-01-04  7325.0  7450.0  7325.0  7400.0  7288.301758   70624000\n",
       "2  2022-01-05  7450.0  7525.0  7375.0  7450.0  7337.547363   76164900\n",
       "3  2022-01-06  7500.0  7525.0  7425.0  7475.0  7362.169922   63657100\n",
       "4  2022-01-07  7550.0  7700.0  7500.0  7650.0  7534.528320  143433300\n",
       "..        ...     ...     ...     ...     ...          ...        ...\n",
       "66 2022-04-08  7800.0  7875.0  7775.0  7850.0  7850.000000   69791600\n",
       "67 2022-04-11  7825.0  7875.0  7725.0  7725.0  7725.000000   62776200\n",
       "68 2022-04-12  7725.0  7800.0  7700.0  7800.0  7800.000000   73471300\n",
       "69 2022-04-13  7800.0  7850.0  7750.0  7800.0  7800.000000   57622100\n",
       "70 2022-04-14  7800.0  7800.0  7700.0  7700.0  7700.000000   93342900\n",
       "\n",
       "[71 rows x 7 columns]"
      ]
     },
     "execution_count": 11,
     "metadata": {},
     "output_type": "execute_result"
    }
   ],
   "source": [
    "data_test = pd.read_csv('data/BBCA.JK Test.csv')\n",
    "data_test['Date'] = pd.to_datetime(data_test['Date'])\n",
    "data_test"
   ]
  },
  {
   "cell_type": "code",
   "execution_count": 21,
   "id": "b3c3ad56",
   "metadata": {},
   "outputs": [
    {
     "data": {
      "text/html": [
       "<div>\n",
       "<style scoped>\n",
       "    .dataframe tbody tr th:only-of-type {\n",
       "        vertical-align: middle;\n",
       "    }\n",
       "\n",
       "    .dataframe tbody tr th {\n",
       "        vertical-align: top;\n",
       "    }\n",
       "\n",
       "    .dataframe thead th {\n",
       "        text-align: right;\n",
       "    }\n",
       "</style>\n",
       "<table border=\"1\" class=\"dataframe\">\n",
       "  <thead>\n",
       "    <tr style=\"text-align: right;\">\n",
       "      <th></th>\n",
       "      <th>Date</th>\n",
       "    </tr>\n",
       "  </thead>\n",
       "  <tbody>\n",
       "    <tr>\n",
       "      <th>0</th>\n",
       "      <td>2022-04-02</td>\n",
       "    </tr>\n",
       "    <tr>\n",
       "      <th>1</th>\n",
       "      <td>2022-04-03</td>\n",
       "    </tr>\n",
       "    <tr>\n",
       "      <th>2</th>\n",
       "      <td>2022-04-04</td>\n",
       "    </tr>\n",
       "    <tr>\n",
       "      <th>3</th>\n",
       "      <td>2022-04-05</td>\n",
       "    </tr>\n",
       "    <tr>\n",
       "      <th>4</th>\n",
       "      <td>2022-04-06</td>\n",
       "    </tr>\n",
       "    <tr>\n",
       "      <th>5</th>\n",
       "      <td>2022-04-07</td>\n",
       "    </tr>\n",
       "    <tr>\n",
       "      <th>6</th>\n",
       "      <td>2022-04-08</td>\n",
       "    </tr>\n",
       "    <tr>\n",
       "      <th>7</th>\n",
       "      <td>2022-04-09</td>\n",
       "    </tr>\n",
       "    <tr>\n",
       "      <th>8</th>\n",
       "      <td>2022-04-10</td>\n",
       "    </tr>\n",
       "    <tr>\n",
       "      <th>9</th>\n",
       "      <td>2022-04-11</td>\n",
       "    </tr>\n",
       "    <tr>\n",
       "      <th>10</th>\n",
       "      <td>2022-04-12</td>\n",
       "    </tr>\n",
       "    <tr>\n",
       "      <th>11</th>\n",
       "      <td>2022-04-13</td>\n",
       "    </tr>\n",
       "    <tr>\n",
       "      <th>12</th>\n",
       "      <td>2022-04-14</td>\n",
       "    </tr>\n",
       "  </tbody>\n",
       "</table>\n",
       "</div>"
      ],
      "text/plain": [
       "         Date\n",
       "0  2022-04-02\n",
       "1  2022-04-03\n",
       "2  2022-04-04\n",
       "3  2022-04-05\n",
       "4  2022-04-06\n",
       "5  2022-04-07\n",
       "6  2022-04-08\n",
       "7  2022-04-09\n",
       "8  2022-04-10\n",
       "9  2022-04-11\n",
       "10 2022-04-12\n",
       "11 2022-04-13\n",
       "12 2022-04-14"
      ]
     },
     "execution_count": 21,
     "metadata": {},
     "output_type": "execute_result"
    }
   ],
   "source": [
    "df_date = pd.DataFrame({\n",
    "    'Date' : pd.date_range(start=\"2022-04-02\",periods=13)\n",
    "})\n",
    "df_date"
   ]
  },
  {
   "cell_type": "code",
   "execution_count": 22,
   "id": "d8794277",
   "metadata": {},
   "outputs": [
    {
     "data": {
      "text/html": [
       "<div>\n",
       "<style scoped>\n",
       "    .dataframe tbody tr th:only-of-type {\n",
       "        vertical-align: middle;\n",
       "    }\n",
       "\n",
       "    .dataframe tbody tr th {\n",
       "        vertical-align: top;\n",
       "    }\n",
       "\n",
       "    .dataframe thead th {\n",
       "        text-align: right;\n",
       "    }\n",
       "</style>\n",
       "<table border=\"1\" class=\"dataframe\">\n",
       "  <thead>\n",
       "    <tr style=\"text-align: right;\">\n",
       "      <th></th>\n",
       "      <th>Date</th>\n",
       "      <th>Open</th>\n",
       "      <th>High</th>\n",
       "      <th>Low</th>\n",
       "      <th>Close</th>\n",
       "      <th>Adj Close</th>\n",
       "      <th>Volume</th>\n",
       "    </tr>\n",
       "  </thead>\n",
       "  <tbody>\n",
       "    <tr>\n",
       "      <th>0</th>\n",
       "      <td>2022-04-02</td>\n",
       "      <td>NaN</td>\n",
       "      <td>NaN</td>\n",
       "      <td>NaN</td>\n",
       "      <td>NaN</td>\n",
       "      <td>NaN</td>\n",
       "      <td>NaN</td>\n",
       "    </tr>\n",
       "    <tr>\n",
       "      <th>1</th>\n",
       "      <td>2022-04-03</td>\n",
       "      <td>NaN</td>\n",
       "      <td>NaN</td>\n",
       "      <td>NaN</td>\n",
       "      <td>NaN</td>\n",
       "      <td>NaN</td>\n",
       "      <td>NaN</td>\n",
       "    </tr>\n",
       "    <tr>\n",
       "      <th>2</th>\n",
       "      <td>2022-04-04</td>\n",
       "      <td>7925.0</td>\n",
       "      <td>7925.0</td>\n",
       "      <td>7825.0</td>\n",
       "      <td>7900.0</td>\n",
       "      <td>7900.0</td>\n",
       "      <td>57321200.0</td>\n",
       "    </tr>\n",
       "    <tr>\n",
       "      <th>3</th>\n",
       "      <td>2022-04-05</td>\n",
       "      <td>7900.0</td>\n",
       "      <td>7900.0</td>\n",
       "      <td>7850.0</td>\n",
       "      <td>7900.0</td>\n",
       "      <td>7900.0</td>\n",
       "      <td>48528300.0</td>\n",
       "    </tr>\n",
       "    <tr>\n",
       "      <th>4</th>\n",
       "      <td>2022-04-06</td>\n",
       "      <td>7825.0</td>\n",
       "      <td>7850.0</td>\n",
       "      <td>7750.0</td>\n",
       "      <td>7750.0</td>\n",
       "      <td>7750.0</td>\n",
       "      <td>119263000.0</td>\n",
       "    </tr>\n",
       "    <tr>\n",
       "      <th>5</th>\n",
       "      <td>2022-04-07</td>\n",
       "      <td>7725.0</td>\n",
       "      <td>7825.0</td>\n",
       "      <td>7700.0</td>\n",
       "      <td>7750.0</td>\n",
       "      <td>7750.0</td>\n",
       "      <td>68619400.0</td>\n",
       "    </tr>\n",
       "    <tr>\n",
       "      <th>6</th>\n",
       "      <td>2022-04-08</td>\n",
       "      <td>7800.0</td>\n",
       "      <td>7875.0</td>\n",
       "      <td>7775.0</td>\n",
       "      <td>7850.0</td>\n",
       "      <td>7850.0</td>\n",
       "      <td>69791600.0</td>\n",
       "    </tr>\n",
       "    <tr>\n",
       "      <th>7</th>\n",
       "      <td>2022-04-09</td>\n",
       "      <td>NaN</td>\n",
       "      <td>NaN</td>\n",
       "      <td>NaN</td>\n",
       "      <td>NaN</td>\n",
       "      <td>NaN</td>\n",
       "      <td>NaN</td>\n",
       "    </tr>\n",
       "    <tr>\n",
       "      <th>8</th>\n",
       "      <td>2022-04-10</td>\n",
       "      <td>NaN</td>\n",
       "      <td>NaN</td>\n",
       "      <td>NaN</td>\n",
       "      <td>NaN</td>\n",
       "      <td>NaN</td>\n",
       "      <td>NaN</td>\n",
       "    </tr>\n",
       "    <tr>\n",
       "      <th>9</th>\n",
       "      <td>2022-04-11</td>\n",
       "      <td>7825.0</td>\n",
       "      <td>7875.0</td>\n",
       "      <td>7725.0</td>\n",
       "      <td>7725.0</td>\n",
       "      <td>7725.0</td>\n",
       "      <td>62776200.0</td>\n",
       "    </tr>\n",
       "    <tr>\n",
       "      <th>10</th>\n",
       "      <td>2022-04-12</td>\n",
       "      <td>7725.0</td>\n",
       "      <td>7800.0</td>\n",
       "      <td>7700.0</td>\n",
       "      <td>7800.0</td>\n",
       "      <td>7800.0</td>\n",
       "      <td>73471300.0</td>\n",
       "    </tr>\n",
       "    <tr>\n",
       "      <th>11</th>\n",
       "      <td>2022-04-13</td>\n",
       "      <td>7800.0</td>\n",
       "      <td>7850.0</td>\n",
       "      <td>7750.0</td>\n",
       "      <td>7800.0</td>\n",
       "      <td>7800.0</td>\n",
       "      <td>57622100.0</td>\n",
       "    </tr>\n",
       "    <tr>\n",
       "      <th>12</th>\n",
       "      <td>2022-04-14</td>\n",
       "      <td>7800.0</td>\n",
       "      <td>7800.0</td>\n",
       "      <td>7700.0</td>\n",
       "      <td>7700.0</td>\n",
       "      <td>7700.0</td>\n",
       "      <td>93342900.0</td>\n",
       "    </tr>\n",
       "  </tbody>\n",
       "</table>\n",
       "</div>"
      ],
      "text/plain": [
       "         Date    Open    High     Low   Close  Adj Close       Volume\n",
       "0  2022-04-02     NaN     NaN     NaN     NaN        NaN          NaN\n",
       "1  2022-04-03     NaN     NaN     NaN     NaN        NaN          NaN\n",
       "2  2022-04-04  7925.0  7925.0  7825.0  7900.0     7900.0   57321200.0\n",
       "3  2022-04-05  7900.0  7900.0  7850.0  7900.0     7900.0   48528300.0\n",
       "4  2022-04-06  7825.0  7850.0  7750.0  7750.0     7750.0  119263000.0\n",
       "5  2022-04-07  7725.0  7825.0  7700.0  7750.0     7750.0   68619400.0\n",
       "6  2022-04-08  7800.0  7875.0  7775.0  7850.0     7850.0   69791600.0\n",
       "7  2022-04-09     NaN     NaN     NaN     NaN        NaN          NaN\n",
       "8  2022-04-10     NaN     NaN     NaN     NaN        NaN          NaN\n",
       "9  2022-04-11  7825.0  7875.0  7725.0  7725.0     7725.0   62776200.0\n",
       "10 2022-04-12  7725.0  7800.0  7700.0  7800.0     7800.0   73471300.0\n",
       "11 2022-04-13  7800.0  7850.0  7750.0  7800.0     7800.0   57622100.0\n",
       "12 2022-04-14  7800.0  7800.0  7700.0  7700.0     7700.0   93342900.0"
      ]
     },
     "execution_count": 22,
     "metadata": {},
     "output_type": "execute_result"
    }
   ],
   "source": [
    "new_df = data_test.merge(df_date, on=['Date'], how='right')\n",
    "new_df"
   ]
  },
  {
   "cell_type": "code",
   "execution_count": 23,
   "id": "82dc3c26",
   "metadata": {},
   "outputs": [
    {
     "data": {
      "text/html": [
       "<div>\n",
       "<style scoped>\n",
       "    .dataframe tbody tr th:only-of-type {\n",
       "        vertical-align: middle;\n",
       "    }\n",
       "\n",
       "    .dataframe tbody tr th {\n",
       "        vertical-align: top;\n",
       "    }\n",
       "\n",
       "    .dataframe thead th {\n",
       "        text-align: right;\n",
       "    }\n",
       "</style>\n",
       "<table border=\"1\" class=\"dataframe\">\n",
       "  <thead>\n",
       "    <tr style=\"text-align: right;\">\n",
       "      <th></th>\n",
       "      <th>Date</th>\n",
       "      <th>Open</th>\n",
       "      <th>High</th>\n",
       "      <th>Low</th>\n",
       "      <th>Close</th>\n",
       "      <th>Adj Close</th>\n",
       "      <th>Volume</th>\n",
       "    </tr>\n",
       "  </thead>\n",
       "  <tbody>\n",
       "    <tr>\n",
       "      <th>0</th>\n",
       "      <td>2022-04-02</td>\n",
       "      <td>7925.000000</td>\n",
       "      <td>7925.0</td>\n",
       "      <td>7825.000000</td>\n",
       "      <td>7900.000000</td>\n",
       "      <td>7900.000000</td>\n",
       "      <td>5.732120e+07</td>\n",
       "    </tr>\n",
       "    <tr>\n",
       "      <th>1</th>\n",
       "      <td>2022-04-03</td>\n",
       "      <td>7925.000000</td>\n",
       "      <td>7925.0</td>\n",
       "      <td>7825.000000</td>\n",
       "      <td>7900.000000</td>\n",
       "      <td>7900.000000</td>\n",
       "      <td>5.732120e+07</td>\n",
       "    </tr>\n",
       "    <tr>\n",
       "      <th>2</th>\n",
       "      <td>2022-04-04</td>\n",
       "      <td>7925.000000</td>\n",
       "      <td>7925.0</td>\n",
       "      <td>7825.000000</td>\n",
       "      <td>7900.000000</td>\n",
       "      <td>7900.000000</td>\n",
       "      <td>5.732120e+07</td>\n",
       "    </tr>\n",
       "    <tr>\n",
       "      <th>3</th>\n",
       "      <td>2022-04-05</td>\n",
       "      <td>7900.000000</td>\n",
       "      <td>7900.0</td>\n",
       "      <td>7850.000000</td>\n",
       "      <td>7900.000000</td>\n",
       "      <td>7900.000000</td>\n",
       "      <td>4.852830e+07</td>\n",
       "    </tr>\n",
       "    <tr>\n",
       "      <th>4</th>\n",
       "      <td>2022-04-06</td>\n",
       "      <td>7825.000000</td>\n",
       "      <td>7850.0</td>\n",
       "      <td>7750.000000</td>\n",
       "      <td>7750.000000</td>\n",
       "      <td>7750.000000</td>\n",
       "      <td>1.192630e+08</td>\n",
       "    </tr>\n",
       "    <tr>\n",
       "      <th>5</th>\n",
       "      <td>2022-04-07</td>\n",
       "      <td>7725.000000</td>\n",
       "      <td>7825.0</td>\n",
       "      <td>7700.000000</td>\n",
       "      <td>7750.000000</td>\n",
       "      <td>7750.000000</td>\n",
       "      <td>6.861940e+07</td>\n",
       "    </tr>\n",
       "    <tr>\n",
       "      <th>6</th>\n",
       "      <td>2022-04-08</td>\n",
       "      <td>7800.000000</td>\n",
       "      <td>7875.0</td>\n",
       "      <td>7775.000000</td>\n",
       "      <td>7850.000000</td>\n",
       "      <td>7850.000000</td>\n",
       "      <td>6.979160e+07</td>\n",
       "    </tr>\n",
       "    <tr>\n",
       "      <th>7</th>\n",
       "      <td>2022-04-09</td>\n",
       "      <td>7808.333333</td>\n",
       "      <td>7875.0</td>\n",
       "      <td>7758.333333</td>\n",
       "      <td>7808.333333</td>\n",
       "      <td>7808.333333</td>\n",
       "      <td>6.745313e+07</td>\n",
       "    </tr>\n",
       "    <tr>\n",
       "      <th>8</th>\n",
       "      <td>2022-04-10</td>\n",
       "      <td>7816.666667</td>\n",
       "      <td>7875.0</td>\n",
       "      <td>7741.666667</td>\n",
       "      <td>7766.666667</td>\n",
       "      <td>7766.666667</td>\n",
       "      <td>6.511467e+07</td>\n",
       "    </tr>\n",
       "    <tr>\n",
       "      <th>9</th>\n",
       "      <td>2022-04-11</td>\n",
       "      <td>7825.000000</td>\n",
       "      <td>7875.0</td>\n",
       "      <td>7725.000000</td>\n",
       "      <td>7725.000000</td>\n",
       "      <td>7725.000000</td>\n",
       "      <td>6.277620e+07</td>\n",
       "    </tr>\n",
       "    <tr>\n",
       "      <th>10</th>\n",
       "      <td>2022-04-12</td>\n",
       "      <td>7725.000000</td>\n",
       "      <td>7800.0</td>\n",
       "      <td>7700.000000</td>\n",
       "      <td>7800.000000</td>\n",
       "      <td>7800.000000</td>\n",
       "      <td>7.347130e+07</td>\n",
       "    </tr>\n",
       "    <tr>\n",
       "      <th>11</th>\n",
       "      <td>2022-04-13</td>\n",
       "      <td>7800.000000</td>\n",
       "      <td>7850.0</td>\n",
       "      <td>7750.000000</td>\n",
       "      <td>7800.000000</td>\n",
       "      <td>7800.000000</td>\n",
       "      <td>5.762210e+07</td>\n",
       "    </tr>\n",
       "    <tr>\n",
       "      <th>12</th>\n",
       "      <td>2022-04-14</td>\n",
       "      <td>7800.000000</td>\n",
       "      <td>7800.0</td>\n",
       "      <td>7700.000000</td>\n",
       "      <td>7700.000000</td>\n",
       "      <td>7700.000000</td>\n",
       "      <td>9.334290e+07</td>\n",
       "    </tr>\n",
       "  </tbody>\n",
       "</table>\n",
       "</div>"
      ],
      "text/plain": [
       "         Date         Open    High          Low        Close    Adj Close  \\\n",
       "0  2022-04-02  7925.000000  7925.0  7825.000000  7900.000000  7900.000000   \n",
       "1  2022-04-03  7925.000000  7925.0  7825.000000  7900.000000  7900.000000   \n",
       "2  2022-04-04  7925.000000  7925.0  7825.000000  7900.000000  7900.000000   \n",
       "3  2022-04-05  7900.000000  7900.0  7850.000000  7900.000000  7900.000000   \n",
       "4  2022-04-06  7825.000000  7850.0  7750.000000  7750.000000  7750.000000   \n",
       "5  2022-04-07  7725.000000  7825.0  7700.000000  7750.000000  7750.000000   \n",
       "6  2022-04-08  7800.000000  7875.0  7775.000000  7850.000000  7850.000000   \n",
       "7  2022-04-09  7808.333333  7875.0  7758.333333  7808.333333  7808.333333   \n",
       "8  2022-04-10  7816.666667  7875.0  7741.666667  7766.666667  7766.666667   \n",
       "9  2022-04-11  7825.000000  7875.0  7725.000000  7725.000000  7725.000000   \n",
       "10 2022-04-12  7725.000000  7800.0  7700.000000  7800.000000  7800.000000   \n",
       "11 2022-04-13  7800.000000  7850.0  7750.000000  7800.000000  7800.000000   \n",
       "12 2022-04-14  7800.000000  7800.0  7700.000000  7700.000000  7700.000000   \n",
       "\n",
       "          Volume  \n",
       "0   5.732120e+07  \n",
       "1   5.732120e+07  \n",
       "2   5.732120e+07  \n",
       "3   4.852830e+07  \n",
       "4   1.192630e+08  \n",
       "5   6.861940e+07  \n",
       "6   6.979160e+07  \n",
       "7   6.745313e+07  \n",
       "8   6.511467e+07  \n",
       "9   6.277620e+07  \n",
       "10  7.347130e+07  \n",
       "11  5.762210e+07  \n",
       "12  9.334290e+07  "
      ]
     },
     "execution_count": 23,
     "metadata": {},
     "output_type": "execute_result"
    }
   ],
   "source": [
    "saham_test = new_df.copy()\n",
    "saham_test = saham_test.interpolate(method ='linear', limit_direction ='backward')\n",
    "saham_test"
   ]
  },
  {
   "cell_type": "code",
   "execution_count": 30,
   "id": "1e3ec0de",
   "metadata": {},
   "outputs": [
    {
     "data": {
      "text/html": [
       "<div>\n",
       "<style scoped>\n",
       "    .dataframe tbody tr th:only-of-type {\n",
       "        vertical-align: middle;\n",
       "    }\n",
       "\n",
       "    .dataframe tbody tr th {\n",
       "        vertical-align: top;\n",
       "    }\n",
       "\n",
       "    .dataframe thead th {\n",
       "        text-align: right;\n",
       "    }\n",
       "</style>\n",
       "<table border=\"1\" class=\"dataframe\">\n",
       "  <thead>\n",
       "    <tr style=\"text-align: right;\">\n",
       "      <th></th>\n",
       "      <th>Date</th>\n",
       "      <th>Open</th>\n",
       "      <th>High</th>\n",
       "      <th>Low</th>\n",
       "      <th>Close</th>\n",
       "    </tr>\n",
       "  </thead>\n",
       "  <tbody>\n",
       "    <tr>\n",
       "      <th>0</th>\n",
       "      <td>2022-04-02</td>\n",
       "      <td>7925.000000</td>\n",
       "      <td>7925.0</td>\n",
       "      <td>7825.000000</td>\n",
       "      <td>7900.000000</td>\n",
       "    </tr>\n",
       "    <tr>\n",
       "      <th>1</th>\n",
       "      <td>2022-04-03</td>\n",
       "      <td>7925.000000</td>\n",
       "      <td>7925.0</td>\n",
       "      <td>7825.000000</td>\n",
       "      <td>7900.000000</td>\n",
       "    </tr>\n",
       "    <tr>\n",
       "      <th>2</th>\n",
       "      <td>2022-04-04</td>\n",
       "      <td>7925.000000</td>\n",
       "      <td>7925.0</td>\n",
       "      <td>7825.000000</td>\n",
       "      <td>7900.000000</td>\n",
       "    </tr>\n",
       "    <tr>\n",
       "      <th>3</th>\n",
       "      <td>2022-04-05</td>\n",
       "      <td>7900.000000</td>\n",
       "      <td>7900.0</td>\n",
       "      <td>7850.000000</td>\n",
       "      <td>7900.000000</td>\n",
       "    </tr>\n",
       "    <tr>\n",
       "      <th>4</th>\n",
       "      <td>2022-04-06</td>\n",
       "      <td>7825.000000</td>\n",
       "      <td>7850.0</td>\n",
       "      <td>7750.000000</td>\n",
       "      <td>7750.000000</td>\n",
       "    </tr>\n",
       "    <tr>\n",
       "      <th>5</th>\n",
       "      <td>2022-04-07</td>\n",
       "      <td>7725.000000</td>\n",
       "      <td>7825.0</td>\n",
       "      <td>7700.000000</td>\n",
       "      <td>7750.000000</td>\n",
       "    </tr>\n",
       "    <tr>\n",
       "      <th>6</th>\n",
       "      <td>2022-04-08</td>\n",
       "      <td>7800.000000</td>\n",
       "      <td>7875.0</td>\n",
       "      <td>7775.000000</td>\n",
       "      <td>7850.000000</td>\n",
       "    </tr>\n",
       "    <tr>\n",
       "      <th>7</th>\n",
       "      <td>2022-04-09</td>\n",
       "      <td>7808.333333</td>\n",
       "      <td>7875.0</td>\n",
       "      <td>7758.333333</td>\n",
       "      <td>7808.333333</td>\n",
       "    </tr>\n",
       "    <tr>\n",
       "      <th>8</th>\n",
       "      <td>2022-04-10</td>\n",
       "      <td>7816.666667</td>\n",
       "      <td>7875.0</td>\n",
       "      <td>7741.666667</td>\n",
       "      <td>7766.666667</td>\n",
       "    </tr>\n",
       "    <tr>\n",
       "      <th>9</th>\n",
       "      <td>2022-04-11</td>\n",
       "      <td>7825.000000</td>\n",
       "      <td>7875.0</td>\n",
       "      <td>7725.000000</td>\n",
       "      <td>7725.000000</td>\n",
       "    </tr>\n",
       "    <tr>\n",
       "      <th>10</th>\n",
       "      <td>2022-04-12</td>\n",
       "      <td>7725.000000</td>\n",
       "      <td>7800.0</td>\n",
       "      <td>7700.000000</td>\n",
       "      <td>7800.000000</td>\n",
       "    </tr>\n",
       "    <tr>\n",
       "      <th>11</th>\n",
       "      <td>2022-04-13</td>\n",
       "      <td>7800.000000</td>\n",
       "      <td>7850.0</td>\n",
       "      <td>7750.000000</td>\n",
       "      <td>7800.000000</td>\n",
       "    </tr>\n",
       "    <tr>\n",
       "      <th>12</th>\n",
       "      <td>2022-04-14</td>\n",
       "      <td>7800.000000</td>\n",
       "      <td>7800.0</td>\n",
       "      <td>7700.000000</td>\n",
       "      <td>7700.000000</td>\n",
       "    </tr>\n",
       "  </tbody>\n",
       "</table>\n",
       "</div>"
      ],
      "text/plain": [
       "         Date         Open    High          Low        Close\n",
       "0  2022-04-02  7925.000000  7925.0  7825.000000  7900.000000\n",
       "1  2022-04-03  7925.000000  7925.0  7825.000000  7900.000000\n",
       "2  2022-04-04  7925.000000  7925.0  7825.000000  7900.000000\n",
       "3  2022-04-05  7900.000000  7900.0  7850.000000  7900.000000\n",
       "4  2022-04-06  7825.000000  7850.0  7750.000000  7750.000000\n",
       "5  2022-04-07  7725.000000  7825.0  7700.000000  7750.000000\n",
       "6  2022-04-08  7800.000000  7875.0  7775.000000  7850.000000\n",
       "7  2022-04-09  7808.333333  7875.0  7758.333333  7808.333333\n",
       "8  2022-04-10  7816.666667  7875.0  7741.666667  7766.666667\n",
       "9  2022-04-11  7825.000000  7875.0  7725.000000  7725.000000\n",
       "10 2022-04-12  7725.000000  7800.0  7700.000000  7800.000000\n",
       "11 2022-04-13  7800.000000  7850.0  7750.000000  7800.000000\n",
       "12 2022-04-14  7800.000000  7800.0  7700.000000  7700.000000"
      ]
     },
     "execution_count": 30,
     "metadata": {},
     "output_type": "execute_result"
    }
   ],
   "source": [
    "feature_test = saham_test.iloc[:,:5]\n",
    "feature_test"
   ]
  },
  {
   "cell_type": "markdown",
   "id": "7555e6cc",
   "metadata": {},
   "source": [
    "## Discretize"
   ]
  },
  {
   "cell_type": "code",
   "execution_count": 31,
   "id": "4c403f8d",
   "metadata": {},
   "outputs": [
    {
     "data": {
      "text/html": [
       "<div>\n",
       "<style scoped>\n",
       "    .dataframe tbody tr th:only-of-type {\n",
       "        vertical-align: middle;\n",
       "    }\n",
       "\n",
       "    .dataframe tbody tr th {\n",
       "        vertical-align: top;\n",
       "    }\n",
       "\n",
       "    .dataframe thead th {\n",
       "        text-align: right;\n",
       "    }\n",
       "</style>\n",
       "<table border=\"1\" class=\"dataframe\">\n",
       "  <thead>\n",
       "    <tr style=\"text-align: right;\">\n",
       "      <th></th>\n",
       "      <th>Date</th>\n",
       "      <th>Open</th>\n",
       "      <th>High</th>\n",
       "      <th>Low</th>\n",
       "      <th>Close</th>\n",
       "    </tr>\n",
       "  </thead>\n",
       "  <tbody>\n",
       "    <tr>\n",
       "      <th>0</th>\n",
       "      <td>2022-04-02</td>\n",
       "      <td>7925.0</td>\n",
       "      <td>7925.0</td>\n",
       "      <td>7825.0</td>\n",
       "      <td>7900.000000</td>\n",
       "    </tr>\n",
       "    <tr>\n",
       "      <th>1</th>\n",
       "      <td>2022-04-03</td>\n",
       "      <td>Positive</td>\n",
       "      <td>Positive</td>\n",
       "      <td>Negative</td>\n",
       "      <td>7900.000000</td>\n",
       "    </tr>\n",
       "    <tr>\n",
       "      <th>2</th>\n",
       "      <td>2022-04-04</td>\n",
       "      <td>Positive</td>\n",
       "      <td>Positive</td>\n",
       "      <td>Negative</td>\n",
       "      <td>7900.000000</td>\n",
       "    </tr>\n",
       "    <tr>\n",
       "      <th>3</th>\n",
       "      <td>2022-04-05</td>\n",
       "      <td>Equal</td>\n",
       "      <td>Equal</td>\n",
       "      <td>Negative</td>\n",
       "      <td>7900.000000</td>\n",
       "    </tr>\n",
       "    <tr>\n",
       "      <th>4</th>\n",
       "      <td>2022-04-06</td>\n",
       "      <td>Negative</td>\n",
       "      <td>Negative</td>\n",
       "      <td>Negative</td>\n",
       "      <td>7750.000000</td>\n",
       "    </tr>\n",
       "    <tr>\n",
       "      <th>5</th>\n",
       "      <td>2022-04-07</td>\n",
       "      <td>Negative</td>\n",
       "      <td>Positive</td>\n",
       "      <td>Negative</td>\n",
       "      <td>7750.000000</td>\n",
       "    </tr>\n",
       "    <tr>\n",
       "      <th>6</th>\n",
       "      <td>2022-04-08</td>\n",
       "      <td>Positive</td>\n",
       "      <td>Positive</td>\n",
       "      <td>Positive</td>\n",
       "      <td>7850.000000</td>\n",
       "    </tr>\n",
       "    <tr>\n",
       "      <th>7</th>\n",
       "      <td>2022-04-09</td>\n",
       "      <td>Negative</td>\n",
       "      <td>Positive</td>\n",
       "      <td>Negative</td>\n",
       "      <td>7808.333333</td>\n",
       "    </tr>\n",
       "    <tr>\n",
       "      <th>8</th>\n",
       "      <td>2022-04-10</td>\n",
       "      <td>Positive</td>\n",
       "      <td>Positive</td>\n",
       "      <td>Negative</td>\n",
       "      <td>7766.666667</td>\n",
       "    </tr>\n",
       "    <tr>\n",
       "      <th>9</th>\n",
       "      <td>2022-04-11</td>\n",
       "      <td>Positive</td>\n",
       "      <td>Positive</td>\n",
       "      <td>Negative</td>\n",
       "      <td>7725.000000</td>\n",
       "    </tr>\n",
       "    <tr>\n",
       "      <th>10</th>\n",
       "      <td>2022-04-12</td>\n",
       "      <td>Equal</td>\n",
       "      <td>Positive</td>\n",
       "      <td>Negative</td>\n",
       "      <td>7800.000000</td>\n",
       "    </tr>\n",
       "    <tr>\n",
       "      <th>11</th>\n",
       "      <td>2022-04-13</td>\n",
       "      <td>Equal</td>\n",
       "      <td>Positive</td>\n",
       "      <td>Negative</td>\n",
       "      <td>7800.000000</td>\n",
       "    </tr>\n",
       "    <tr>\n",
       "      <th>12</th>\n",
       "      <td>2022-04-14</td>\n",
       "      <td>Equal</td>\n",
       "      <td>Equal</td>\n",
       "      <td>Negative</td>\n",
       "      <td>7700.000000</td>\n",
       "    </tr>\n",
       "  </tbody>\n",
       "</table>\n",
       "</div>"
      ],
      "text/plain": [
       "         Date      Open      High       Low        Close\n",
       "0  2022-04-02    7925.0    7925.0    7825.0  7900.000000\n",
       "1  2022-04-03  Positive  Positive  Negative  7900.000000\n",
       "2  2022-04-04  Positive  Positive  Negative  7900.000000\n",
       "3  2022-04-05     Equal     Equal  Negative  7900.000000\n",
       "4  2022-04-06  Negative  Negative  Negative  7750.000000\n",
       "5  2022-04-07  Negative  Positive  Negative  7750.000000\n",
       "6  2022-04-08  Positive  Positive  Positive  7850.000000\n",
       "7  2022-04-09  Negative  Positive  Negative  7808.333333\n",
       "8  2022-04-10  Positive  Positive  Negative  7766.666667\n",
       "9  2022-04-11  Positive  Positive  Negative  7725.000000\n",
       "10 2022-04-12     Equal  Positive  Negative  7800.000000\n",
       "11 2022-04-13     Equal  Positive  Negative  7800.000000\n",
       "12 2022-04-14     Equal     Equal  Negative  7700.000000"
      ]
     },
     "execution_count": 31,
     "metadata": {},
     "output_type": "execute_result"
    }
   ],
   "source": [
    "def discretize_value(value,idx):\n",
    "    if value > feature_test.iloc[idx-1,4]:\n",
    "        return 'Positive'\n",
    "    elif value < feature_test.iloc[idx-1,4]:\n",
    "        return 'Negative'\n",
    "    else:\n",
    "        return 'Equal'\n",
    "\n",
    "for x in range(1,13):\n",
    "    feature_test.iloc[x,1] = discretize_value(feature_test.iloc[x,1],x)\n",
    "    feature_test.iloc[x,2] = discretize_value(feature_test.iloc[x,2],x)\n",
    "    feature_test.iloc[x,3] = discretize_value(feature_test.iloc[x,3],x)\n",
    "feature_test"
   ]
  },
  {
   "cell_type": "code",
   "execution_count": 32,
   "id": "70aaf15f",
   "metadata": {},
   "outputs": [
    {
     "data": {
      "text/html": [
       "<div>\n",
       "<style scoped>\n",
       "    .dataframe tbody tr th:only-of-type {\n",
       "        vertical-align: middle;\n",
       "    }\n",
       "\n",
       "    .dataframe tbody tr th {\n",
       "        vertical-align: top;\n",
       "    }\n",
       "\n",
       "    .dataframe thead th {\n",
       "        text-align: right;\n",
       "    }\n",
       "</style>\n",
       "<table border=\"1\" class=\"dataframe\">\n",
       "  <thead>\n",
       "    <tr style=\"text-align: right;\">\n",
       "      <th></th>\n",
       "      <th>Date</th>\n",
       "      <th>Open</th>\n",
       "      <th>High</th>\n",
       "      <th>Low</th>\n",
       "      <th>Close</th>\n",
       "    </tr>\n",
       "  </thead>\n",
       "  <tbody>\n",
       "    <tr>\n",
       "      <th>0</th>\n",
       "      <td>2022-04-02</td>\n",
       "      <td>Equal</td>\n",
       "      <td>Equal</td>\n",
       "      <td>Equal</td>\n",
       "      <td>7900.000000</td>\n",
       "    </tr>\n",
       "    <tr>\n",
       "      <th>1</th>\n",
       "      <td>2022-04-03</td>\n",
       "      <td>Positive</td>\n",
       "      <td>Positive</td>\n",
       "      <td>Negative</td>\n",
       "      <td>7900.000000</td>\n",
       "    </tr>\n",
       "    <tr>\n",
       "      <th>2</th>\n",
       "      <td>2022-04-04</td>\n",
       "      <td>Positive</td>\n",
       "      <td>Positive</td>\n",
       "      <td>Negative</td>\n",
       "      <td>7900.000000</td>\n",
       "    </tr>\n",
       "    <tr>\n",
       "      <th>3</th>\n",
       "      <td>2022-04-05</td>\n",
       "      <td>Equal</td>\n",
       "      <td>Equal</td>\n",
       "      <td>Negative</td>\n",
       "      <td>7900.000000</td>\n",
       "    </tr>\n",
       "    <tr>\n",
       "      <th>4</th>\n",
       "      <td>2022-04-06</td>\n",
       "      <td>Negative</td>\n",
       "      <td>Negative</td>\n",
       "      <td>Negative</td>\n",
       "      <td>7750.000000</td>\n",
       "    </tr>\n",
       "    <tr>\n",
       "      <th>5</th>\n",
       "      <td>2022-04-07</td>\n",
       "      <td>Negative</td>\n",
       "      <td>Positive</td>\n",
       "      <td>Negative</td>\n",
       "      <td>7750.000000</td>\n",
       "    </tr>\n",
       "    <tr>\n",
       "      <th>6</th>\n",
       "      <td>2022-04-08</td>\n",
       "      <td>Positive</td>\n",
       "      <td>Positive</td>\n",
       "      <td>Positive</td>\n",
       "      <td>7850.000000</td>\n",
       "    </tr>\n",
       "    <tr>\n",
       "      <th>7</th>\n",
       "      <td>2022-04-09</td>\n",
       "      <td>Negative</td>\n",
       "      <td>Positive</td>\n",
       "      <td>Negative</td>\n",
       "      <td>7808.333333</td>\n",
       "    </tr>\n",
       "    <tr>\n",
       "      <th>8</th>\n",
       "      <td>2022-04-10</td>\n",
       "      <td>Positive</td>\n",
       "      <td>Positive</td>\n",
       "      <td>Negative</td>\n",
       "      <td>7766.666667</td>\n",
       "    </tr>\n",
       "    <tr>\n",
       "      <th>9</th>\n",
       "      <td>2022-04-11</td>\n",
       "      <td>Positive</td>\n",
       "      <td>Positive</td>\n",
       "      <td>Negative</td>\n",
       "      <td>7725.000000</td>\n",
       "    </tr>\n",
       "    <tr>\n",
       "      <th>10</th>\n",
       "      <td>2022-04-12</td>\n",
       "      <td>Equal</td>\n",
       "      <td>Positive</td>\n",
       "      <td>Negative</td>\n",
       "      <td>7800.000000</td>\n",
       "    </tr>\n",
       "    <tr>\n",
       "      <th>11</th>\n",
       "      <td>2022-04-13</td>\n",
       "      <td>Equal</td>\n",
       "      <td>Positive</td>\n",
       "      <td>Negative</td>\n",
       "      <td>7800.000000</td>\n",
       "    </tr>\n",
       "    <tr>\n",
       "      <th>12</th>\n",
       "      <td>2022-04-14</td>\n",
       "      <td>Equal</td>\n",
       "      <td>Equal</td>\n",
       "      <td>Negative</td>\n",
       "      <td>7700.000000</td>\n",
       "    </tr>\n",
       "  </tbody>\n",
       "</table>\n",
       "</div>"
      ],
      "text/plain": [
       "         Date      Open      High       Low        Close\n",
       "0  2022-04-02     Equal     Equal     Equal  7900.000000\n",
       "1  2022-04-03  Positive  Positive  Negative  7900.000000\n",
       "2  2022-04-04  Positive  Positive  Negative  7900.000000\n",
       "3  2022-04-05     Equal     Equal  Negative  7900.000000\n",
       "4  2022-04-06  Negative  Negative  Negative  7750.000000\n",
       "5  2022-04-07  Negative  Positive  Negative  7750.000000\n",
       "6  2022-04-08  Positive  Positive  Positive  7850.000000\n",
       "7  2022-04-09  Negative  Positive  Negative  7808.333333\n",
       "8  2022-04-10  Positive  Positive  Negative  7766.666667\n",
       "9  2022-04-11  Positive  Positive  Negative  7725.000000\n",
       "10 2022-04-12     Equal  Positive  Negative  7800.000000\n",
       "11 2022-04-13     Equal  Positive  Negative  7800.000000\n",
       "12 2022-04-14     Equal     Equal  Negative  7700.000000"
      ]
     },
     "execution_count": 32,
     "metadata": {},
     "output_type": "execute_result"
    }
   ],
   "source": [
    "feature_test.iloc[0,1:4] = 'Equal'\n",
    "feature_test"
   ]
  },
  {
   "cell_type": "markdown",
   "id": "e79fea54",
   "metadata": {},
   "source": [
    "## Labelling Test data"
   ]
  },
  {
   "cell_type": "code",
   "execution_count": 33,
   "id": "3afca39d",
   "metadata": {},
   "outputs": [
    {
     "data": {
      "text/html": [
       "<div>\n",
       "<style scoped>\n",
       "    .dataframe tbody tr th:only-of-type {\n",
       "        vertical-align: middle;\n",
       "    }\n",
       "\n",
       "    .dataframe tbody tr th {\n",
       "        vertical-align: top;\n",
       "    }\n",
       "\n",
       "    .dataframe thead th {\n",
       "        text-align: right;\n",
       "    }\n",
       "</style>\n",
       "<table border=\"1\" class=\"dataframe\">\n",
       "  <thead>\n",
       "    <tr style=\"text-align: right;\">\n",
       "      <th></th>\n",
       "      <th>Date</th>\n",
       "      <th>Open</th>\n",
       "      <th>High</th>\n",
       "      <th>Low</th>\n",
       "      <th>Close</th>\n",
       "      <th>label</th>\n",
       "    </tr>\n",
       "  </thead>\n",
       "  <tbody>\n",
       "    <tr>\n",
       "      <th>0</th>\n",
       "      <td>2022-04-02</td>\n",
       "      <td>Equal</td>\n",
       "      <td>Equal</td>\n",
       "      <td>Equal</td>\n",
       "      <td>7900.000000</td>\n",
       "      <td>0</td>\n",
       "    </tr>\n",
       "    <tr>\n",
       "      <th>1</th>\n",
       "      <td>2022-04-03</td>\n",
       "      <td>Positive</td>\n",
       "      <td>Positive</td>\n",
       "      <td>Negative</td>\n",
       "      <td>7900.000000</td>\n",
       "      <td>1</td>\n",
       "    </tr>\n",
       "    <tr>\n",
       "      <th>2</th>\n",
       "      <td>2022-04-04</td>\n",
       "      <td>Positive</td>\n",
       "      <td>Positive</td>\n",
       "      <td>Negative</td>\n",
       "      <td>7900.000000</td>\n",
       "      <td>1</td>\n",
       "    </tr>\n",
       "    <tr>\n",
       "      <th>3</th>\n",
       "      <td>2022-04-05</td>\n",
       "      <td>Equal</td>\n",
       "      <td>Equal</td>\n",
       "      <td>Negative</td>\n",
       "      <td>7900.000000</td>\n",
       "      <td>1</td>\n",
       "    </tr>\n",
       "    <tr>\n",
       "      <th>4</th>\n",
       "      <td>2022-04-06</td>\n",
       "      <td>Negative</td>\n",
       "      <td>Negative</td>\n",
       "      <td>Negative</td>\n",
       "      <td>7750.000000</td>\n",
       "      <td>0</td>\n",
       "    </tr>\n",
       "    <tr>\n",
       "      <th>5</th>\n",
       "      <td>2022-04-07</td>\n",
       "      <td>Negative</td>\n",
       "      <td>Positive</td>\n",
       "      <td>Negative</td>\n",
       "      <td>7750.000000</td>\n",
       "      <td>1</td>\n",
       "    </tr>\n",
       "    <tr>\n",
       "      <th>6</th>\n",
       "      <td>2022-04-08</td>\n",
       "      <td>Positive</td>\n",
       "      <td>Positive</td>\n",
       "      <td>Positive</td>\n",
       "      <td>7850.000000</td>\n",
       "      <td>1</td>\n",
       "    </tr>\n",
       "    <tr>\n",
       "      <th>7</th>\n",
       "      <td>2022-04-09</td>\n",
       "      <td>Negative</td>\n",
       "      <td>Positive</td>\n",
       "      <td>Negative</td>\n",
       "      <td>7808.333333</td>\n",
       "      <td>0</td>\n",
       "    </tr>\n",
       "    <tr>\n",
       "      <th>8</th>\n",
       "      <td>2022-04-10</td>\n",
       "      <td>Positive</td>\n",
       "      <td>Positive</td>\n",
       "      <td>Negative</td>\n",
       "      <td>7766.666667</td>\n",
       "      <td>0</td>\n",
       "    </tr>\n",
       "    <tr>\n",
       "      <th>9</th>\n",
       "      <td>2022-04-11</td>\n",
       "      <td>Positive</td>\n",
       "      <td>Positive</td>\n",
       "      <td>Negative</td>\n",
       "      <td>7725.000000</td>\n",
       "      <td>0</td>\n",
       "    </tr>\n",
       "    <tr>\n",
       "      <th>10</th>\n",
       "      <td>2022-04-12</td>\n",
       "      <td>Equal</td>\n",
       "      <td>Positive</td>\n",
       "      <td>Negative</td>\n",
       "      <td>7800.000000</td>\n",
       "      <td>1</td>\n",
       "    </tr>\n",
       "    <tr>\n",
       "      <th>11</th>\n",
       "      <td>2022-04-13</td>\n",
       "      <td>Equal</td>\n",
       "      <td>Positive</td>\n",
       "      <td>Negative</td>\n",
       "      <td>7800.000000</td>\n",
       "      <td>1</td>\n",
       "    </tr>\n",
       "    <tr>\n",
       "      <th>12</th>\n",
       "      <td>2022-04-14</td>\n",
       "      <td>Equal</td>\n",
       "      <td>Equal</td>\n",
       "      <td>Negative</td>\n",
       "      <td>7700.000000</td>\n",
       "      <td>0</td>\n",
       "    </tr>\n",
       "  </tbody>\n",
       "</table>\n",
       "</div>"
      ],
      "text/plain": [
       "         Date      Open      High       Low        Close  label\n",
       "0  2022-04-02     Equal     Equal     Equal  7900.000000      0\n",
       "1  2022-04-03  Positive  Positive  Negative  7900.000000      1\n",
       "2  2022-04-04  Positive  Positive  Negative  7900.000000      1\n",
       "3  2022-04-05     Equal     Equal  Negative  7900.000000      1\n",
       "4  2022-04-06  Negative  Negative  Negative  7750.000000      0\n",
       "5  2022-04-07  Negative  Positive  Negative  7750.000000      1\n",
       "6  2022-04-08  Positive  Positive  Positive  7850.000000      1\n",
       "7  2022-04-09  Negative  Positive  Negative  7808.333333      0\n",
       "8  2022-04-10  Positive  Positive  Negative  7766.666667      0\n",
       "9  2022-04-11  Positive  Positive  Negative  7725.000000      0\n",
       "10 2022-04-12     Equal  Positive  Negative  7800.000000      1\n",
       "11 2022-04-13     Equal  Positive  Negative  7800.000000      1\n",
       "12 2022-04-14     Equal     Equal  Negative  7700.000000      0"
      ]
     },
     "execution_count": 33,
     "metadata": {},
     "output_type": "execute_result"
    }
   ],
   "source": [
    "def label_close(value,idx):\n",
    "    if value >= feature_test.iloc[idx-1,4]:\n",
    "        return 1\n",
    "    elif value < feature_test.iloc[idx-1,4]:\n",
    "        return 0\n",
    "\n",
    "label_stock = [0] # Pertama dibuat Fall\n",
    "for x in range(1,13):\n",
    "    label_stock.append(label_close(feature_test.iloc[x,4],x))\n",
    "feature_test['label'] = label_stock\n",
    "feature_test"
   ]
  },
  {
   "cell_type": "code",
   "execution_count": 34,
   "id": "c4dee656",
   "metadata": {},
   "outputs": [
    {
     "data": {
      "text/html": [
       "<div>\n",
       "<style scoped>\n",
       "    .dataframe tbody tr th:only-of-type {\n",
       "        vertical-align: middle;\n",
       "    }\n",
       "\n",
       "    .dataframe tbody tr th {\n",
       "        vertical-align: top;\n",
       "    }\n",
       "\n",
       "    .dataframe thead th {\n",
       "        text-align: right;\n",
       "    }\n",
       "</style>\n",
       "<table border=\"1\" class=\"dataframe\">\n",
       "  <thead>\n",
       "    <tr style=\"text-align: right;\">\n",
       "      <th></th>\n",
       "      <th>Date</th>\n",
       "      <th>Open</th>\n",
       "      <th>High</th>\n",
       "      <th>Low</th>\n",
       "      <th>Close</th>\n",
       "      <th>label</th>\n",
       "      <th>open_Equal</th>\n",
       "      <th>open_Positive</th>\n",
       "      <th>open_Negative</th>\n",
       "    </tr>\n",
       "  </thead>\n",
       "  <tbody>\n",
       "    <tr>\n",
       "      <th>0</th>\n",
       "      <td>2022-04-02</td>\n",
       "      <td>Equal</td>\n",
       "      <td>Equal</td>\n",
       "      <td>Equal</td>\n",
       "      <td>7900.0</td>\n",
       "      <td>0</td>\n",
       "      <td>1.0</td>\n",
       "      <td>0.0</td>\n",
       "      <td>0.0</td>\n",
       "    </tr>\n",
       "    <tr>\n",
       "      <th>1</th>\n",
       "      <td>2022-04-03</td>\n",
       "      <td>Positive</td>\n",
       "      <td>Positive</td>\n",
       "      <td>Negative</td>\n",
       "      <td>7900.0</td>\n",
       "      <td>1</td>\n",
       "      <td>0.0</td>\n",
       "      <td>1.0</td>\n",
       "      <td>0.0</td>\n",
       "    </tr>\n",
       "    <tr>\n",
       "      <th>2</th>\n",
       "      <td>2022-04-04</td>\n",
       "      <td>Positive</td>\n",
       "      <td>Positive</td>\n",
       "      <td>Negative</td>\n",
       "      <td>7900.0</td>\n",
       "      <td>1</td>\n",
       "      <td>0.0</td>\n",
       "      <td>1.0</td>\n",
       "      <td>0.0</td>\n",
       "    </tr>\n",
       "    <tr>\n",
       "      <th>3</th>\n",
       "      <td>2022-04-05</td>\n",
       "      <td>Equal</td>\n",
       "      <td>Equal</td>\n",
       "      <td>Negative</td>\n",
       "      <td>7900.0</td>\n",
       "      <td>1</td>\n",
       "      <td>1.0</td>\n",
       "      <td>0.0</td>\n",
       "      <td>0.0</td>\n",
       "    </tr>\n",
       "    <tr>\n",
       "      <th>4</th>\n",
       "      <td>2022-04-06</td>\n",
       "      <td>Negative</td>\n",
       "      <td>Negative</td>\n",
       "      <td>Negative</td>\n",
       "      <td>7750.0</td>\n",
       "      <td>0</td>\n",
       "      <td>0.0</td>\n",
       "      <td>0.0</td>\n",
       "      <td>1.0</td>\n",
       "    </tr>\n",
       "  </tbody>\n",
       "</table>\n",
       "</div>"
      ],
      "text/plain": [
       "        Date      Open      High       Low   Close  label  open_Equal  \\\n",
       "0 2022-04-02     Equal     Equal     Equal  7900.0      0         1.0   \n",
       "1 2022-04-03  Positive  Positive  Negative  7900.0      1         0.0   \n",
       "2 2022-04-04  Positive  Positive  Negative  7900.0      1         0.0   \n",
       "3 2022-04-05     Equal     Equal  Negative  7900.0      1         1.0   \n",
       "4 2022-04-06  Negative  Negative  Negative  7750.0      0         0.0   \n",
       "\n",
       "   open_Positive  open_Negative  \n",
       "0            0.0            0.0  \n",
       "1            1.0            0.0  \n",
       "2            1.0            0.0  \n",
       "3            0.0            0.0  \n",
       "4            0.0            1.0  "
      ]
     },
     "execution_count": 34,
     "metadata": {},
     "output_type": "execute_result"
    }
   ],
   "source": [
    "# Cara 2 untuk one hot encoder\n",
    "\n",
    "from sklearn.preprocessing import OneHotEncoder\n",
    "\n",
    "# Membuat Object OneHotEncoder dengan kategori yang disesuaikan dengan isi unique dari kolom\n",
    "# lalu object digunakan untuk fit kemudian transform\n",
    "ohe = OneHotEncoder(categories=[list(feature_test.Open.unique())], handle_unknown='ignore', sparse=False)\n",
    "y = np.array(feature_test['Open']).reshape(-1,1)\n",
    "ohe.fit(y)\n",
    "y_transform = ohe.transform(y)\n",
    "\n",
    "# Membuat kolom baru untuk menampung hasil encoding \n",
    "feature_test[[ f'open_{opn}' for opn in feature_test.Open.unique() ]] = y_transform\n",
    "feature_test.head()"
   ]
  },
  {
   "cell_type": "code",
   "execution_count": 35,
   "id": "d28cde68",
   "metadata": {},
   "outputs": [
    {
     "data": {
      "text/html": [
       "<div>\n",
       "<style scoped>\n",
       "    .dataframe tbody tr th:only-of-type {\n",
       "        vertical-align: middle;\n",
       "    }\n",
       "\n",
       "    .dataframe tbody tr th {\n",
       "        vertical-align: top;\n",
       "    }\n",
       "\n",
       "    .dataframe thead th {\n",
       "        text-align: right;\n",
       "    }\n",
       "</style>\n",
       "<table border=\"1\" class=\"dataframe\">\n",
       "  <thead>\n",
       "    <tr style=\"text-align: right;\">\n",
       "      <th></th>\n",
       "      <th>Date</th>\n",
       "      <th>Open</th>\n",
       "      <th>High</th>\n",
       "      <th>Low</th>\n",
       "      <th>Close</th>\n",
       "      <th>label</th>\n",
       "      <th>open_Equal</th>\n",
       "      <th>open_Positive</th>\n",
       "      <th>open_Negative</th>\n",
       "      <th>High_Equal</th>\n",
       "      <th>High_Positive</th>\n",
       "      <th>High_Negative</th>\n",
       "    </tr>\n",
       "  </thead>\n",
       "  <tbody>\n",
       "    <tr>\n",
       "      <th>0</th>\n",
       "      <td>2022-04-02</td>\n",
       "      <td>Equal</td>\n",
       "      <td>Equal</td>\n",
       "      <td>Equal</td>\n",
       "      <td>7900.0</td>\n",
       "      <td>0</td>\n",
       "      <td>1.0</td>\n",
       "      <td>0.0</td>\n",
       "      <td>0.0</td>\n",
       "      <td>1.0</td>\n",
       "      <td>0.0</td>\n",
       "      <td>0.0</td>\n",
       "    </tr>\n",
       "    <tr>\n",
       "      <th>1</th>\n",
       "      <td>2022-04-03</td>\n",
       "      <td>Positive</td>\n",
       "      <td>Positive</td>\n",
       "      <td>Negative</td>\n",
       "      <td>7900.0</td>\n",
       "      <td>1</td>\n",
       "      <td>0.0</td>\n",
       "      <td>1.0</td>\n",
       "      <td>0.0</td>\n",
       "      <td>0.0</td>\n",
       "      <td>1.0</td>\n",
       "      <td>0.0</td>\n",
       "    </tr>\n",
       "    <tr>\n",
       "      <th>2</th>\n",
       "      <td>2022-04-04</td>\n",
       "      <td>Positive</td>\n",
       "      <td>Positive</td>\n",
       "      <td>Negative</td>\n",
       "      <td>7900.0</td>\n",
       "      <td>1</td>\n",
       "      <td>0.0</td>\n",
       "      <td>1.0</td>\n",
       "      <td>0.0</td>\n",
       "      <td>0.0</td>\n",
       "      <td>1.0</td>\n",
       "      <td>0.0</td>\n",
       "    </tr>\n",
       "    <tr>\n",
       "      <th>3</th>\n",
       "      <td>2022-04-05</td>\n",
       "      <td>Equal</td>\n",
       "      <td>Equal</td>\n",
       "      <td>Negative</td>\n",
       "      <td>7900.0</td>\n",
       "      <td>1</td>\n",
       "      <td>1.0</td>\n",
       "      <td>0.0</td>\n",
       "      <td>0.0</td>\n",
       "      <td>1.0</td>\n",
       "      <td>0.0</td>\n",
       "      <td>0.0</td>\n",
       "    </tr>\n",
       "    <tr>\n",
       "      <th>4</th>\n",
       "      <td>2022-04-06</td>\n",
       "      <td>Negative</td>\n",
       "      <td>Negative</td>\n",
       "      <td>Negative</td>\n",
       "      <td>7750.0</td>\n",
       "      <td>0</td>\n",
       "      <td>0.0</td>\n",
       "      <td>0.0</td>\n",
       "      <td>1.0</td>\n",
       "      <td>0.0</td>\n",
       "      <td>0.0</td>\n",
       "      <td>1.0</td>\n",
       "    </tr>\n",
       "  </tbody>\n",
       "</table>\n",
       "</div>"
      ],
      "text/plain": [
       "        Date      Open      High       Low   Close  label  open_Equal  \\\n",
       "0 2022-04-02     Equal     Equal     Equal  7900.0      0         1.0   \n",
       "1 2022-04-03  Positive  Positive  Negative  7900.0      1         0.0   \n",
       "2 2022-04-04  Positive  Positive  Negative  7900.0      1         0.0   \n",
       "3 2022-04-05     Equal     Equal  Negative  7900.0      1         1.0   \n",
       "4 2022-04-06  Negative  Negative  Negative  7750.0      0         0.0   \n",
       "\n",
       "   open_Positive  open_Negative  High_Equal  High_Positive  High_Negative  \n",
       "0            0.0            0.0         1.0            0.0            0.0  \n",
       "1            1.0            0.0         0.0            1.0            0.0  \n",
       "2            1.0            0.0         0.0            1.0            0.0  \n",
       "3            0.0            0.0         1.0            0.0            0.0  \n",
       "4            0.0            1.0         0.0            0.0            1.0  "
      ]
     },
     "execution_count": 35,
     "metadata": {},
     "output_type": "execute_result"
    }
   ],
   "source": [
    "# Cara 2 untuk one hot encoder\n",
    "\n",
    "from sklearn.preprocessing import OneHotEncoder\n",
    "\n",
    "# Membuat Object OneHotEncoder dengan kategori yang disesuaikan dengan isi unique dari kolom\n",
    "# lalu object digunakan untuk fit kemudian transform\n",
    "ohe = OneHotEncoder(categories=[list(feature_test.High.unique())], handle_unknown='ignore', sparse=False)\n",
    "y = np.array(feature_test['High']).reshape(-1,1)\n",
    "ohe.fit(y)\n",
    "y_transform = ohe.transform(y)\n",
    "\n",
    "# Membuat kolom baru untuk menampung hasil encoding \n",
    "feature_test[[ f'High_{high}' for high in feature_test.High.unique() ]] = y_transform\n",
    "feature_test.head()"
   ]
  },
  {
   "cell_type": "code",
   "execution_count": 36,
   "id": "033f4134",
   "metadata": {},
   "outputs": [
    {
     "data": {
      "text/html": [
       "<div>\n",
       "<style scoped>\n",
       "    .dataframe tbody tr th:only-of-type {\n",
       "        vertical-align: middle;\n",
       "    }\n",
       "\n",
       "    .dataframe tbody tr th {\n",
       "        vertical-align: top;\n",
       "    }\n",
       "\n",
       "    .dataframe thead th {\n",
       "        text-align: right;\n",
       "    }\n",
       "</style>\n",
       "<table border=\"1\" class=\"dataframe\">\n",
       "  <thead>\n",
       "    <tr style=\"text-align: right;\">\n",
       "      <th></th>\n",
       "      <th>Date</th>\n",
       "      <th>Open</th>\n",
       "      <th>High</th>\n",
       "      <th>Low</th>\n",
       "      <th>Close</th>\n",
       "      <th>label</th>\n",
       "      <th>open_Equal</th>\n",
       "      <th>open_Positive</th>\n",
       "      <th>open_Negative</th>\n",
       "      <th>High_Equal</th>\n",
       "      <th>High_Positive</th>\n",
       "      <th>High_Negative</th>\n",
       "      <th>Low_Equal</th>\n",
       "      <th>Low_Negative</th>\n",
       "      <th>Low_Positive</th>\n",
       "    </tr>\n",
       "  </thead>\n",
       "  <tbody>\n",
       "    <tr>\n",
       "      <th>0</th>\n",
       "      <td>2022-04-02</td>\n",
       "      <td>Equal</td>\n",
       "      <td>Equal</td>\n",
       "      <td>Equal</td>\n",
       "      <td>7900.0</td>\n",
       "      <td>0</td>\n",
       "      <td>1.0</td>\n",
       "      <td>0.0</td>\n",
       "      <td>0.0</td>\n",
       "      <td>1.0</td>\n",
       "      <td>0.0</td>\n",
       "      <td>0.0</td>\n",
       "      <td>1.0</td>\n",
       "      <td>0.0</td>\n",
       "      <td>0.0</td>\n",
       "    </tr>\n",
       "    <tr>\n",
       "      <th>1</th>\n",
       "      <td>2022-04-03</td>\n",
       "      <td>Positive</td>\n",
       "      <td>Positive</td>\n",
       "      <td>Negative</td>\n",
       "      <td>7900.0</td>\n",
       "      <td>1</td>\n",
       "      <td>0.0</td>\n",
       "      <td>1.0</td>\n",
       "      <td>0.0</td>\n",
       "      <td>0.0</td>\n",
       "      <td>1.0</td>\n",
       "      <td>0.0</td>\n",
       "      <td>0.0</td>\n",
       "      <td>1.0</td>\n",
       "      <td>0.0</td>\n",
       "    </tr>\n",
       "    <tr>\n",
       "      <th>2</th>\n",
       "      <td>2022-04-04</td>\n",
       "      <td>Positive</td>\n",
       "      <td>Positive</td>\n",
       "      <td>Negative</td>\n",
       "      <td>7900.0</td>\n",
       "      <td>1</td>\n",
       "      <td>0.0</td>\n",
       "      <td>1.0</td>\n",
       "      <td>0.0</td>\n",
       "      <td>0.0</td>\n",
       "      <td>1.0</td>\n",
       "      <td>0.0</td>\n",
       "      <td>0.0</td>\n",
       "      <td>1.0</td>\n",
       "      <td>0.0</td>\n",
       "    </tr>\n",
       "    <tr>\n",
       "      <th>3</th>\n",
       "      <td>2022-04-05</td>\n",
       "      <td>Equal</td>\n",
       "      <td>Equal</td>\n",
       "      <td>Negative</td>\n",
       "      <td>7900.0</td>\n",
       "      <td>1</td>\n",
       "      <td>1.0</td>\n",
       "      <td>0.0</td>\n",
       "      <td>0.0</td>\n",
       "      <td>1.0</td>\n",
       "      <td>0.0</td>\n",
       "      <td>0.0</td>\n",
       "      <td>0.0</td>\n",
       "      <td>1.0</td>\n",
       "      <td>0.0</td>\n",
       "    </tr>\n",
       "    <tr>\n",
       "      <th>4</th>\n",
       "      <td>2022-04-06</td>\n",
       "      <td>Negative</td>\n",
       "      <td>Negative</td>\n",
       "      <td>Negative</td>\n",
       "      <td>7750.0</td>\n",
       "      <td>0</td>\n",
       "      <td>0.0</td>\n",
       "      <td>0.0</td>\n",
       "      <td>1.0</td>\n",
       "      <td>0.0</td>\n",
       "      <td>0.0</td>\n",
       "      <td>1.0</td>\n",
       "      <td>0.0</td>\n",
       "      <td>1.0</td>\n",
       "      <td>0.0</td>\n",
       "    </tr>\n",
       "  </tbody>\n",
       "</table>\n",
       "</div>"
      ],
      "text/plain": [
       "        Date      Open      High       Low   Close  label  open_Equal  \\\n",
       "0 2022-04-02     Equal     Equal     Equal  7900.0      0         1.0   \n",
       "1 2022-04-03  Positive  Positive  Negative  7900.0      1         0.0   \n",
       "2 2022-04-04  Positive  Positive  Negative  7900.0      1         0.0   \n",
       "3 2022-04-05     Equal     Equal  Negative  7900.0      1         1.0   \n",
       "4 2022-04-06  Negative  Negative  Negative  7750.0      0         0.0   \n",
       "\n",
       "   open_Positive  open_Negative  High_Equal  High_Positive  High_Negative  \\\n",
       "0            0.0            0.0         1.0            0.0            0.0   \n",
       "1            1.0            0.0         0.0            1.0            0.0   \n",
       "2            1.0            0.0         0.0            1.0            0.0   \n",
       "3            0.0            0.0         1.0            0.0            0.0   \n",
       "4            0.0            1.0         0.0            0.0            1.0   \n",
       "\n",
       "   Low_Equal  Low_Negative  Low_Positive  \n",
       "0        1.0           0.0           0.0  \n",
       "1        0.0           1.0           0.0  \n",
       "2        0.0           1.0           0.0  \n",
       "3        0.0           1.0           0.0  \n",
       "4        0.0           1.0           0.0  "
      ]
     },
     "execution_count": 36,
     "metadata": {},
     "output_type": "execute_result"
    }
   ],
   "source": [
    "# Cara 2 untuk one hot encoder\n",
    "\n",
    "from sklearn.preprocessing import OneHotEncoder\n",
    "\n",
    "# Membuat Object OneHotEncoder dengan kategori yang disesuaikan dengan isi unique dari kolom\n",
    "# lalu object digunakan untuk fit kemudian transform\n",
    "ohe = OneHotEncoder(categories=[list(feature_test.Low.unique())], handle_unknown='ignore', sparse=False)\n",
    "y = np.array(feature_test['Low']).reshape(-1,1)\n",
    "ohe.fit(y)\n",
    "y_transform = ohe.transform(y)\n",
    "\n",
    "# Membuat kolom baru untuk menampung hasil encoding \n",
    "feature_test[[ f'Low_{low}' for low in feature_test.Low.unique() ]] = y_transform\n",
    "feature_test.head()"
   ]
  },
  {
   "cell_type": "code",
   "execution_count": 37,
   "id": "65dd58d3",
   "metadata": {},
   "outputs": [
    {
     "data": {
      "text/html": [
       "<div>\n",
       "<style scoped>\n",
       "    .dataframe tbody tr th:only-of-type {\n",
       "        vertical-align: middle;\n",
       "    }\n",
       "\n",
       "    .dataframe tbody tr th {\n",
       "        vertical-align: top;\n",
       "    }\n",
       "\n",
       "    .dataframe thead th {\n",
       "        text-align: right;\n",
       "    }\n",
       "</style>\n",
       "<table border=\"1\" class=\"dataframe\">\n",
       "  <thead>\n",
       "    <tr style=\"text-align: right;\">\n",
       "      <th></th>\n",
       "      <th>Date</th>\n",
       "      <th>Close</th>\n",
       "      <th>label</th>\n",
       "      <th>open_Equal</th>\n",
       "      <th>open_Positive</th>\n",
       "      <th>open_Negative</th>\n",
       "      <th>High_Equal</th>\n",
       "      <th>High_Positive</th>\n",
       "      <th>High_Negative</th>\n",
       "      <th>Low_Equal</th>\n",
       "      <th>Low_Negative</th>\n",
       "      <th>Low_Positive</th>\n",
       "    </tr>\n",
       "  </thead>\n",
       "  <tbody>\n",
       "    <tr>\n",
       "      <th>0</th>\n",
       "      <td>2022-04-02</td>\n",
       "      <td>7900.000000</td>\n",
       "      <td>0</td>\n",
       "      <td>1.0</td>\n",
       "      <td>0.0</td>\n",
       "      <td>0.0</td>\n",
       "      <td>1.0</td>\n",
       "      <td>0.0</td>\n",
       "      <td>0.0</td>\n",
       "      <td>1.0</td>\n",
       "      <td>0.0</td>\n",
       "      <td>0.0</td>\n",
       "    </tr>\n",
       "    <tr>\n",
       "      <th>1</th>\n",
       "      <td>2022-04-03</td>\n",
       "      <td>7900.000000</td>\n",
       "      <td>1</td>\n",
       "      <td>0.0</td>\n",
       "      <td>1.0</td>\n",
       "      <td>0.0</td>\n",
       "      <td>0.0</td>\n",
       "      <td>1.0</td>\n",
       "      <td>0.0</td>\n",
       "      <td>0.0</td>\n",
       "      <td>1.0</td>\n",
       "      <td>0.0</td>\n",
       "    </tr>\n",
       "    <tr>\n",
       "      <th>2</th>\n",
       "      <td>2022-04-04</td>\n",
       "      <td>7900.000000</td>\n",
       "      <td>1</td>\n",
       "      <td>0.0</td>\n",
       "      <td>1.0</td>\n",
       "      <td>0.0</td>\n",
       "      <td>0.0</td>\n",
       "      <td>1.0</td>\n",
       "      <td>0.0</td>\n",
       "      <td>0.0</td>\n",
       "      <td>1.0</td>\n",
       "      <td>0.0</td>\n",
       "    </tr>\n",
       "    <tr>\n",
       "      <th>3</th>\n",
       "      <td>2022-04-05</td>\n",
       "      <td>7900.000000</td>\n",
       "      <td>1</td>\n",
       "      <td>1.0</td>\n",
       "      <td>0.0</td>\n",
       "      <td>0.0</td>\n",
       "      <td>1.0</td>\n",
       "      <td>0.0</td>\n",
       "      <td>0.0</td>\n",
       "      <td>0.0</td>\n",
       "      <td>1.0</td>\n",
       "      <td>0.0</td>\n",
       "    </tr>\n",
       "    <tr>\n",
       "      <th>4</th>\n",
       "      <td>2022-04-06</td>\n",
       "      <td>7750.000000</td>\n",
       "      <td>0</td>\n",
       "      <td>0.0</td>\n",
       "      <td>0.0</td>\n",
       "      <td>1.0</td>\n",
       "      <td>0.0</td>\n",
       "      <td>0.0</td>\n",
       "      <td>1.0</td>\n",
       "      <td>0.0</td>\n",
       "      <td>1.0</td>\n",
       "      <td>0.0</td>\n",
       "    </tr>\n",
       "    <tr>\n",
       "      <th>5</th>\n",
       "      <td>2022-04-07</td>\n",
       "      <td>7750.000000</td>\n",
       "      <td>1</td>\n",
       "      <td>0.0</td>\n",
       "      <td>0.0</td>\n",
       "      <td>1.0</td>\n",
       "      <td>0.0</td>\n",
       "      <td>1.0</td>\n",
       "      <td>0.0</td>\n",
       "      <td>0.0</td>\n",
       "      <td>1.0</td>\n",
       "      <td>0.0</td>\n",
       "    </tr>\n",
       "    <tr>\n",
       "      <th>6</th>\n",
       "      <td>2022-04-08</td>\n",
       "      <td>7850.000000</td>\n",
       "      <td>1</td>\n",
       "      <td>0.0</td>\n",
       "      <td>1.0</td>\n",
       "      <td>0.0</td>\n",
       "      <td>0.0</td>\n",
       "      <td>1.0</td>\n",
       "      <td>0.0</td>\n",
       "      <td>0.0</td>\n",
       "      <td>0.0</td>\n",
       "      <td>1.0</td>\n",
       "    </tr>\n",
       "    <tr>\n",
       "      <th>7</th>\n",
       "      <td>2022-04-09</td>\n",
       "      <td>7808.333333</td>\n",
       "      <td>0</td>\n",
       "      <td>0.0</td>\n",
       "      <td>0.0</td>\n",
       "      <td>1.0</td>\n",
       "      <td>0.0</td>\n",
       "      <td>1.0</td>\n",
       "      <td>0.0</td>\n",
       "      <td>0.0</td>\n",
       "      <td>1.0</td>\n",
       "      <td>0.0</td>\n",
       "    </tr>\n",
       "    <tr>\n",
       "      <th>8</th>\n",
       "      <td>2022-04-10</td>\n",
       "      <td>7766.666667</td>\n",
       "      <td>0</td>\n",
       "      <td>0.0</td>\n",
       "      <td>1.0</td>\n",
       "      <td>0.0</td>\n",
       "      <td>0.0</td>\n",
       "      <td>1.0</td>\n",
       "      <td>0.0</td>\n",
       "      <td>0.0</td>\n",
       "      <td>1.0</td>\n",
       "      <td>0.0</td>\n",
       "    </tr>\n",
       "    <tr>\n",
       "      <th>9</th>\n",
       "      <td>2022-04-11</td>\n",
       "      <td>7725.000000</td>\n",
       "      <td>0</td>\n",
       "      <td>0.0</td>\n",
       "      <td>1.0</td>\n",
       "      <td>0.0</td>\n",
       "      <td>0.0</td>\n",
       "      <td>1.0</td>\n",
       "      <td>0.0</td>\n",
       "      <td>0.0</td>\n",
       "      <td>1.0</td>\n",
       "      <td>0.0</td>\n",
       "    </tr>\n",
       "    <tr>\n",
       "      <th>10</th>\n",
       "      <td>2022-04-12</td>\n",
       "      <td>7800.000000</td>\n",
       "      <td>1</td>\n",
       "      <td>1.0</td>\n",
       "      <td>0.0</td>\n",
       "      <td>0.0</td>\n",
       "      <td>0.0</td>\n",
       "      <td>1.0</td>\n",
       "      <td>0.0</td>\n",
       "      <td>0.0</td>\n",
       "      <td>1.0</td>\n",
       "      <td>0.0</td>\n",
       "    </tr>\n",
       "    <tr>\n",
       "      <th>11</th>\n",
       "      <td>2022-04-13</td>\n",
       "      <td>7800.000000</td>\n",
       "      <td>1</td>\n",
       "      <td>1.0</td>\n",
       "      <td>0.0</td>\n",
       "      <td>0.0</td>\n",
       "      <td>0.0</td>\n",
       "      <td>1.0</td>\n",
       "      <td>0.0</td>\n",
       "      <td>0.0</td>\n",
       "      <td>1.0</td>\n",
       "      <td>0.0</td>\n",
       "    </tr>\n",
       "    <tr>\n",
       "      <th>12</th>\n",
       "      <td>2022-04-14</td>\n",
       "      <td>7700.000000</td>\n",
       "      <td>0</td>\n",
       "      <td>1.0</td>\n",
       "      <td>0.0</td>\n",
       "      <td>0.0</td>\n",
       "      <td>1.0</td>\n",
       "      <td>0.0</td>\n",
       "      <td>0.0</td>\n",
       "      <td>0.0</td>\n",
       "      <td>1.0</td>\n",
       "      <td>0.0</td>\n",
       "    </tr>\n",
       "  </tbody>\n",
       "</table>\n",
       "</div>"
      ],
      "text/plain": [
       "         Date        Close  label  open_Equal  open_Positive  open_Negative  \\\n",
       "0  2022-04-02  7900.000000      0         1.0            0.0            0.0   \n",
       "1  2022-04-03  7900.000000      1         0.0            1.0            0.0   \n",
       "2  2022-04-04  7900.000000      1         0.0            1.0            0.0   \n",
       "3  2022-04-05  7900.000000      1         1.0            0.0            0.0   \n",
       "4  2022-04-06  7750.000000      0         0.0            0.0            1.0   \n",
       "5  2022-04-07  7750.000000      1         0.0            0.0            1.0   \n",
       "6  2022-04-08  7850.000000      1         0.0            1.0            0.0   \n",
       "7  2022-04-09  7808.333333      0         0.0            0.0            1.0   \n",
       "8  2022-04-10  7766.666667      0         0.0            1.0            0.0   \n",
       "9  2022-04-11  7725.000000      0         0.0            1.0            0.0   \n",
       "10 2022-04-12  7800.000000      1         1.0            0.0            0.0   \n",
       "11 2022-04-13  7800.000000      1         1.0            0.0            0.0   \n",
       "12 2022-04-14  7700.000000      0         1.0            0.0            0.0   \n",
       "\n",
       "    High_Equal  High_Positive  High_Negative  Low_Equal  Low_Negative  \\\n",
       "0          1.0            0.0            0.0        1.0           0.0   \n",
       "1          0.0            1.0            0.0        0.0           1.0   \n",
       "2          0.0            1.0            0.0        0.0           1.0   \n",
       "3          1.0            0.0            0.0        0.0           1.0   \n",
       "4          0.0            0.0            1.0        0.0           1.0   \n",
       "5          0.0            1.0            0.0        0.0           1.0   \n",
       "6          0.0            1.0            0.0        0.0           0.0   \n",
       "7          0.0            1.0            0.0        0.0           1.0   \n",
       "8          0.0            1.0            0.0        0.0           1.0   \n",
       "9          0.0            1.0            0.0        0.0           1.0   \n",
       "10         0.0            1.0            0.0        0.0           1.0   \n",
       "11         0.0            1.0            0.0        0.0           1.0   \n",
       "12         1.0            0.0            0.0        0.0           1.0   \n",
       "\n",
       "    Low_Positive  \n",
       "0            0.0  \n",
       "1            0.0  \n",
       "2            0.0  \n",
       "3            0.0  \n",
       "4            0.0  \n",
       "5            0.0  \n",
       "6            1.0  \n",
       "7            0.0  \n",
       "8            0.0  \n",
       "9            0.0  \n",
       "10           0.0  \n",
       "11           0.0  \n",
       "12           0.0  "
      ]
     },
     "execution_count": 37,
     "metadata": {},
     "output_type": "execute_result"
    }
   ],
   "source": [
    "feature_test.drop(columns=['Open','High','Low'],inplace=True)\n",
    "# feature_test.drop(columns=['Date'],inplace=True)\n",
    "feature_test"
   ]
  },
  {
   "cell_type": "code",
   "execution_count": 38,
   "id": "1d580365",
   "metadata": {},
   "outputs": [],
   "source": [
    "feature_test.to_csv('data/testing_data.csv', index=False)"
   ]
  },
  {
   "cell_type": "code",
   "execution_count": 33,
   "id": "34fd88ac",
   "metadata": {},
   "outputs": [],
   "source": [
    "X = feature_test.drop(columns='label')\n",
    "y = feature_test.label"
   ]
  },
  {
   "cell_type": "code",
   "execution_count": 48,
   "id": "e6eca407",
   "metadata": {},
   "outputs": [
    {
     "data": {
      "text/html": [
       "<div>\n",
       "<style scoped>\n",
       "    .dataframe tbody tr th:only-of-type {\n",
       "        vertical-align: middle;\n",
       "    }\n",
       "\n",
       "    .dataframe tbody tr th {\n",
       "        vertical-align: top;\n",
       "    }\n",
       "\n",
       "    .dataframe thead th {\n",
       "        text-align: right;\n",
       "    }\n",
       "</style>\n",
       "<table border=\"1\" class=\"dataframe\">\n",
       "  <thead>\n",
       "    <tr style=\"text-align: right;\">\n",
       "      <th></th>\n",
       "      <th>Date</th>\n",
       "      <th>Close</th>\n",
       "      <th>label</th>\n",
       "      <th>open_Equal</th>\n",
       "      <th>open_Positive</th>\n",
       "      <th>open_Negative</th>\n",
       "      <th>High_Equal</th>\n",
       "      <th>High_Positive</th>\n",
       "      <th>High_Negative</th>\n",
       "      <th>Low_Equal</th>\n",
       "      <th>Low_Negative</th>\n",
       "      <th>Low_Positive</th>\n",
       "    </tr>\n",
       "  </thead>\n",
       "  <tbody>\n",
       "    <tr>\n",
       "      <th>0</th>\n",
       "      <td>2022-04-02</td>\n",
       "      <td>7900.000000</td>\n",
       "      <td>0</td>\n",
       "      <td>1.0</td>\n",
       "      <td>0.0</td>\n",
       "      <td>0.0</td>\n",
       "      <td>1.0</td>\n",
       "      <td>0.0</td>\n",
       "      <td>0.0</td>\n",
       "      <td>1.0</td>\n",
       "      <td>0.0</td>\n",
       "      <td>0.0</td>\n",
       "    </tr>\n",
       "    <tr>\n",
       "      <th>1</th>\n",
       "      <td>2022-04-03</td>\n",
       "      <td>7900.000000</td>\n",
       "      <td>1</td>\n",
       "      <td>0.0</td>\n",
       "      <td>1.0</td>\n",
       "      <td>0.0</td>\n",
       "      <td>0.0</td>\n",
       "      <td>1.0</td>\n",
       "      <td>0.0</td>\n",
       "      <td>0.0</td>\n",
       "      <td>1.0</td>\n",
       "      <td>0.0</td>\n",
       "    </tr>\n",
       "    <tr>\n",
       "      <th>2</th>\n",
       "      <td>2022-04-04</td>\n",
       "      <td>7900.000000</td>\n",
       "      <td>1</td>\n",
       "      <td>0.0</td>\n",
       "      <td>1.0</td>\n",
       "      <td>0.0</td>\n",
       "      <td>0.0</td>\n",
       "      <td>1.0</td>\n",
       "      <td>0.0</td>\n",
       "      <td>0.0</td>\n",
       "      <td>1.0</td>\n",
       "      <td>0.0</td>\n",
       "    </tr>\n",
       "    <tr>\n",
       "      <th>3</th>\n",
       "      <td>2022-04-05</td>\n",
       "      <td>7900.000000</td>\n",
       "      <td>1</td>\n",
       "      <td>1.0</td>\n",
       "      <td>0.0</td>\n",
       "      <td>0.0</td>\n",
       "      <td>1.0</td>\n",
       "      <td>0.0</td>\n",
       "      <td>0.0</td>\n",
       "      <td>0.0</td>\n",
       "      <td>1.0</td>\n",
       "      <td>0.0</td>\n",
       "    </tr>\n",
       "    <tr>\n",
       "      <th>4</th>\n",
       "      <td>2022-04-06</td>\n",
       "      <td>7750.000000</td>\n",
       "      <td>0</td>\n",
       "      <td>0.0</td>\n",
       "      <td>0.0</td>\n",
       "      <td>1.0</td>\n",
       "      <td>0.0</td>\n",
       "      <td>0.0</td>\n",
       "      <td>1.0</td>\n",
       "      <td>0.0</td>\n",
       "      <td>1.0</td>\n",
       "      <td>0.0</td>\n",
       "    </tr>\n",
       "    <tr>\n",
       "      <th>5</th>\n",
       "      <td>2022-04-07</td>\n",
       "      <td>7750.000000</td>\n",
       "      <td>1</td>\n",
       "      <td>0.0</td>\n",
       "      <td>0.0</td>\n",
       "      <td>1.0</td>\n",
       "      <td>0.0</td>\n",
       "      <td>1.0</td>\n",
       "      <td>0.0</td>\n",
       "      <td>0.0</td>\n",
       "      <td>1.0</td>\n",
       "      <td>0.0</td>\n",
       "    </tr>\n",
       "    <tr>\n",
       "      <th>6</th>\n",
       "      <td>2022-04-08</td>\n",
       "      <td>7850.000000</td>\n",
       "      <td>1</td>\n",
       "      <td>0.0</td>\n",
       "      <td>1.0</td>\n",
       "      <td>0.0</td>\n",
       "      <td>0.0</td>\n",
       "      <td>1.0</td>\n",
       "      <td>0.0</td>\n",
       "      <td>0.0</td>\n",
       "      <td>0.0</td>\n",
       "      <td>1.0</td>\n",
       "    </tr>\n",
       "    <tr>\n",
       "      <th>7</th>\n",
       "      <td>2022-04-09</td>\n",
       "      <td>7808.333333</td>\n",
       "      <td>0</td>\n",
       "      <td>0.0</td>\n",
       "      <td>0.0</td>\n",
       "      <td>1.0</td>\n",
       "      <td>0.0</td>\n",
       "      <td>1.0</td>\n",
       "      <td>0.0</td>\n",
       "      <td>0.0</td>\n",
       "      <td>1.0</td>\n",
       "      <td>0.0</td>\n",
       "    </tr>\n",
       "    <tr>\n",
       "      <th>8</th>\n",
       "      <td>2022-04-10</td>\n",
       "      <td>7766.666667</td>\n",
       "      <td>0</td>\n",
       "      <td>0.0</td>\n",
       "      <td>1.0</td>\n",
       "      <td>0.0</td>\n",
       "      <td>0.0</td>\n",
       "      <td>1.0</td>\n",
       "      <td>0.0</td>\n",
       "      <td>0.0</td>\n",
       "      <td>1.0</td>\n",
       "      <td>0.0</td>\n",
       "    </tr>\n",
       "    <tr>\n",
       "      <th>9</th>\n",
       "      <td>2022-04-11</td>\n",
       "      <td>7725.000000</td>\n",
       "      <td>0</td>\n",
       "      <td>0.0</td>\n",
       "      <td>1.0</td>\n",
       "      <td>0.0</td>\n",
       "      <td>0.0</td>\n",
       "      <td>1.0</td>\n",
       "      <td>0.0</td>\n",
       "      <td>0.0</td>\n",
       "      <td>1.0</td>\n",
       "      <td>0.0</td>\n",
       "    </tr>\n",
       "  </tbody>\n",
       "</table>\n",
       "</div>"
      ],
      "text/plain": [
       "        Date        Close  label  open_Equal  open_Positive  open_Negative  \\\n",
       "0 2022-04-02  7900.000000      0         1.0            0.0            0.0   \n",
       "1 2022-04-03  7900.000000      1         0.0            1.0            0.0   \n",
       "2 2022-04-04  7900.000000      1         0.0            1.0            0.0   \n",
       "3 2022-04-05  7900.000000      1         1.0            0.0            0.0   \n",
       "4 2022-04-06  7750.000000      0         0.0            0.0            1.0   \n",
       "5 2022-04-07  7750.000000      1         0.0            0.0            1.0   \n",
       "6 2022-04-08  7850.000000      1         0.0            1.0            0.0   \n",
       "7 2022-04-09  7808.333333      0         0.0            0.0            1.0   \n",
       "8 2022-04-10  7766.666667      0         0.0            1.0            0.0   \n",
       "9 2022-04-11  7725.000000      0         0.0            1.0            0.0   \n",
       "\n",
       "   High_Equal  High_Positive  High_Negative  Low_Equal  Low_Negative  \\\n",
       "0         1.0            0.0            0.0        1.0           0.0   \n",
       "1         0.0            1.0            0.0        0.0           1.0   \n",
       "2         0.0            1.0            0.0        0.0           1.0   \n",
       "3         1.0            0.0            0.0        0.0           1.0   \n",
       "4         0.0            0.0            1.0        0.0           1.0   \n",
       "5         0.0            1.0            0.0        0.0           1.0   \n",
       "6         0.0            1.0            0.0        0.0           0.0   \n",
       "7         0.0            1.0            0.0        0.0           1.0   \n",
       "8         0.0            1.0            0.0        0.0           1.0   \n",
       "9         0.0            1.0            0.0        0.0           1.0   \n",
       "\n",
       "   Low_Positive  \n",
       "0           0.0  \n",
       "1           0.0  \n",
       "2           0.0  \n",
       "3           0.0  \n",
       "4           0.0  \n",
       "5           0.0  \n",
       "6           1.0  \n",
       "7           0.0  \n",
       "8           0.0  \n",
       "9           0.0  "
      ]
     },
     "execution_count": 48,
     "metadata": {},
     "output_type": "execute_result"
    }
   ],
   "source": [
    "feature_test"
   ]
  },
  {
   "cell_type": "code",
   "execution_count": null,
   "id": "5f3da4d4",
   "metadata": {},
   "outputs": [],
   "source": []
  }
 ],
 "metadata": {
  "kernelspec": {
   "display_name": "Python 3",
   "language": "python",
   "name": "python3"
  },
  "language_info": {
   "codemirror_mode": {
    "name": "ipython",
    "version": 3
   },
   "file_extension": ".py",
   "mimetype": "text/x-python",
   "name": "python",
   "nbconvert_exporter": "python",
   "pygments_lexer": "ipython3",
   "version": "3.8.8"
  }
 },
 "nbformat": 4,
 "nbformat_minor": 5
}
